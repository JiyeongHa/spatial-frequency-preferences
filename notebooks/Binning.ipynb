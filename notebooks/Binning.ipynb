{
 "cells": [
  {
   "cell_type": "code",
   "execution_count": null,
   "metadata": {},
   "outputs": [],
   "source": [
    "import pandas as pd\n",
    "import numpy as np\n",
    "import seaborn as sns\n",
    "%matplotlib inline\n",
    "import sys\n",
    "sys.path.append('..')\n",
    "import sfp\n",
    "import os\n",
    "import itertools\n",
    "import scipy as sp\n",
    "import matplotlib.pyplot as plt"
   ]
  },
  {
   "cell_type": "code",
   "execution_count": null,
   "metadata": {},
   "outputs": [],
   "source": [
    "df = pd.read_csv('/home/billbrod/Data/spatial_frequency_preferences/derivatives/first_level_analysis/stim_class/posterior/sub-wlsubj045/ses-02/sub-wlsubj045_ses-02_task-sfp_v1_e1-12_summary.csv')"
   ]
  },
  {
   "cell_type": "code",
   "execution_count": null,
   "metadata": {},
   "outputs": [],
   "source": [
    "# the full dataframe here is too large, so we just grab a subset of it, to check that everything's working\n",
    "reader = pd.read_csv('/home/billbrod/Data/spatial_frequency_preferences/derivatives/first_level_analysis/stim_class/posterior/sub-wlsubj045/ses-02/sub-wlsubj045_ses-02_task-sfp_v1_e1-12_full.csv', iterator=True)\n",
    "df_full = reader.get_chunk(600000)"
   ]
  },
  {
   "cell_type": "code",
   "execution_count": null,
   "metadata": {},
   "outputs": [],
   "source": [
    "def polar_scatter(eccen, angle, color_val=None, size_val=None, **kwargs):\n",
    "    if color_val is not None:\n",
    "        kwargs.pop('color')\n",
    "    if size_val is None:\n",
    "        size_val = 1\n",
    "    x = eccen * np.cos(angle)\n",
    "    y = eccen * np.sin(angle)\n",
    "    plt.scatter(x, y, c=color_val, s=size_val*25, **kwargs)"
   ]
  },
  {
   "cell_type": "code",
   "execution_count": null,
   "metadata": {},
   "outputs": [],
   "source": [
    "color_val = 'angle'\n",
    "g = sns.FacetGrid(df_full.drop_duplicates('voxel'), col='hemi', aspect=1, size=5)\n",
    "g.map(polar_scatter, 'eccen', 'angle', color_val, 'sigma', cmap='Blues', vmin=df[color_val].min(), vmax=df[color_val].max())\n",
    "cbar = plt.colorbar(ticks=np.arange(0, 9*np.pi/4, np.pi/4))"
   ]
  },
  {
   "cell_type": "code",
   "execution_count": null,
   "metadata": {},
   "outputs": [],
   "source": [
    "grouped = sfp.binning.main(df, ['eccen', 'angle'])"
   ]
  }
 ],
 "metadata": {
  "kernelspec": {
   "display_name": "Python [default]",
   "language": "python",
   "name": "python2"
  },
  "language_info": {
   "codemirror_mode": {
    "name": "ipython",
    "version": 2
   },
   "file_extension": ".py",
   "mimetype": "text/x-python",
   "name": "python",
   "nbconvert_exporter": "python",
   "pygments_lexer": "ipython2",
   "version": "2.7.12"
  }
 },
 "nbformat": 4,
 "nbformat_minor": 2
}
