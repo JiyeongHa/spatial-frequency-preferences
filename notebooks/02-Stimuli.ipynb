{
 "cells": [
  {
   "cell_type": "code",
   "execution_count": null,
   "metadata": {},
   "outputs": [],
   "source": [
    "import pyPyrTools as ppt\n",
    "import sys\n",
    "import numpy as np\n",
    "sys.path.append('..')\n",
    "import sfp\n",
    "%matplotlib inline\n",
    "import seaborn as sns\n",
    "from pyPyrTools import JBhelpers as jbh"
   ]
  },
  {
   "cell_type": "code",
   "execution_count": null,
   "metadata": {},
   "outputs": [],
   "source": [
    "ims = []\n",
    "freq=30\n",
    "phase = 0\n",
    "ampl=1\n",
    "ims.append(sfp.stimuli.log_polar_grating(512,4, freq,phi=phase,ampl=ampl,))\n",
    "ims.append(sfp.stimuli.log_polar_grating(512,4, w_a=freq,phi=phase,ampl=ampl))\n",
    "ims.append(sfp.stimuli.log_polar_grating(512,4, freq,freq,phi=phase,ampl=ampl))\n",
    "ims.append(sfp.stimuli.log_polar_grating(512,4,-freq,freq,phi=phase,ampl=ampl))\n",
    "ims.append(sfp.stimuli.log_polar_grating(512,4,freq/2,freq,phi=phase,ampl=ampl))\n",
    "ims.append(sfp.stimuli.log_polar_grating(512,4,freq,freq/2,phi=phase,ampl=ampl))\n",
    "ims.append(ims[0]+ims[1])"
   ]
  },
  {
   "cell_type": "code",
   "execution_count": null,
   "metadata": {},
   "outputs": [],
   "source": [
    "# Example stimuli\n",
    "jbh.showIm(ims, ncols=min(len(ims), 4))"
   ]
  }
 ],
 "metadata": {
  "kernelspec": {
   "display_name": "Python [conda root]",
   "language": "python",
   "name": "conda-root-py"
  },
  "language_info": {
   "codemirror_mode": {
    "name": "ipython",
    "version": 2
   },
   "file_extension": ".py",
   "mimetype": "text/x-python",
   "name": "python",
   "nbconvert_exporter": "python",
   "pygments_lexer": "ipython2",
   "version": "2.7.12"
  }
 },
 "nbformat": 4,
 "nbformat_minor": 1
}
