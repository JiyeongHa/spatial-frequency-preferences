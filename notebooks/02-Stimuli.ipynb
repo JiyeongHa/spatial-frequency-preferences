{
 "cells": [
  {
   "cell_type": "code",
   "execution_count": null,
   "metadata": {
    "init_cell": true
   },
   "outputs": [],
   "source": [
    "import pyPyrTools as ppt\n",
    "import sys\n",
    "import numpy as np\n",
    "sys.path.append('..')\n",
    "import sfp\n",
    "%matplotlib inline\n",
    "import seaborn as sns\n",
    "from pyPyrTools import JBhelpers as jbh\n",
    "import pandas as pd\n",
    "from scipy import signal\n",
    "import fractions"
   ]
  },
  {
   "cell_type": "markdown",
   "metadata": {},
   "source": [
    "The following demonstrates some of the stimuli that can be made with the `log_polar_grating` command. The key characteristic of these stimuli is that the frequency (in cycles per pixel) increases as you approach the center of the image. This encodes our hypothesis that the preferred spatial frequency of neurons (and thus, voxels) whose receptive fields are located at the fovea (here, the center of the image) will have a higher preferred spatial frequency than those whose receptive fields are located in the periphery.\n",
    "\n",
    "However, with these parameters, we notice that there is strange-looking aliasing happening in the center of the image."
   ]
  },
  {
   "cell_type": "code",
   "execution_count": null,
   "metadata": {},
   "outputs": [],
   "source": [
    "ims = []\n",
    "freq=2\n",
    "phase = 0\n",
    "ampl=1\n",
    "shape=64\n",
    "origin = None\n",
    "ims.append(sfp.stimuli.log_polar_grating(shape, freq,phi=phase,ampl=ampl, origin=origin))\n",
    "ims.append(sfp.stimuli.log_polar_grating(shape, w_a=freq,phi=phase,ampl=ampl))\n",
    "ims.append(sfp.stimuli.log_polar_grating(shape, freq/2,freq,phi=phase,ampl=ampl))\n",
    "ims.append(sfp.stimuli.log_polar_grating(shape,-freq,freq,phi=phase,ampl=ampl))\n",
    "ims.append(sfp.stimuli.log_polar_grating(shape,freq/2,freq,phi=phase,ampl=ampl))\n",
    "ims.append(sfp.stimuli.log_polar_grating(shape,freq,freq/4,phi=phase,ampl=ampl))\n",
    "ims.append(ims[0]+ims[1])\n",
    "# ims.append(sfp.stimuli._create_better_sampled_grating(shape, freq, phi=phase, ampl=ampl, orig_origin=origin, check_scale_factor=3))\n",
    "# ims.append(sfp.stimuli._create_better_sampled_grating(shape, w_a=freq, phi=phase, ampl=ampl, orig_origin=origin, check_scale_factor=3))\n",
    "# ims.append(sfp.stimuli._create_better_sampled_grating(shape, freq, phi=phase, ampl=ampl, check_scale_factor=50, orig_origin=origin))\n",
    "# ims.append(sfp.stimuli._create_better_sampled_grating(shape, freq, phi=phase, ampl=ampl, check_scale_factor=200, orig_origin=origin))\n",
    "\n",
    "# Example stimuli\n",
    "jbh.showIm(ims, ncols=min(len(ims), 4),zoom=50)"
   ]
  },
  {
   "cell_type": "markdown",
   "metadata": {},
   "source": [
    "In order to investigate this a little more, we create compare the second, radial stimulus with a more heavily-sampled version.\n",
    "\n",
    "The first plot shows the central slice of the 64 x 64 image in green and the central slice of the grating 99 times larger in blue. We clearly see some very high frequency signal that is being missed."
   ]
  },
  {
   "cell_type": "code",
   "execution_count": null,
   "metadata": {},
   "outputs": [],
   "source": [
    "stim, over_sampled_stim = sfp.stimuli.check_aliasing(64, 0, w_a=6)"
   ]
  },
  {
   "cell_type": "markdown",
   "metadata": {},
   "source": [
    "This second plot shows the two images, and again we can see the aliasing at the center"
   ]
  },
  {
   "cell_type": "code",
   "execution_count": null,
   "metadata": {},
   "outputs": [],
   "source": [
    "jbh.showIm([stim, over_sampled_stim], ncols=2, zoom=[10, .1])"
   ]
  },
  {
   "cell_type": "markdown",
   "metadata": {},
   "source": [
    "To deal with this issue, we create a mask that we'll lay at the center of the image, completely masking out the aliased portion of the stimuli and then fading gradually to invisible as we move away from it.\n",
    "\n",
    "This first plot shows the same slice as above for the un-masked, fade-masked, and binary-masked stimuli."
   ]
  },
  {
   "cell_type": "code",
   "execution_count": null,
   "metadata": {},
   "outputs": [],
   "source": [
    "tmps = sfp.stimuli.check_aliasing_with_mask(64, 0, w_a=6, )"
   ]
  },
  {
   "cell_type": "markdown",
   "metadata": {},
   "source": [
    "This here shows the 64 x 64 image with no mask, the faded mask, and the binary mask. We can see that the masking hides the aliased portion of the image."
   ]
  },
  {
   "cell_type": "code",
   "execution_count": null,
   "metadata": {},
   "outputs": [],
   "source": [
    "jbh.showIm([tmps[0], tmps[1] * tmps[0], tmps[2] * tmps[0]],# tmps[3], tmps[4]* tmps[3], tmps[5]*tmps[3]], \n",
    "           ncols=3, zoom=[10,10,10,.1,.1,.1])"
   ]
  },
  {
   "cell_type": "markdown",
   "metadata": {},
   "source": [
    "Now that we know the stimuli we want to create and are convinced that masking takes care of their aliasing, we can create the set of stimuli for experiment. We do this using the `gen_stim_set` function, which requires that the `size`, `origin`, and `number_of_fade_pixels` parameters be constant across all stimuli, but allows the others to vary. We create all the stimuli and then apply the largest mask to them, so that all stimuli have the same mask and none show any aliasing. The function returns both the unmasked (`stim`) and masked (`mstim`) versions of the stimuli, but we only want the masked versions (the unmasked are only returned so they can be double-checked).\n",
    "\n",
    "The following two plots show an example set of (smaller) stimuli and one full-sized one.\n",
    "\n",
    "To create the exact set of stimuli wanted for the experiment, use the `stimuli.main` function (but note that this can take some time and will save the outputs; it can also be run on the command-line)."
   ]
  },
  {
   "cell_type": "code",
   "execution_count": null,
   "metadata": {},
   "outputs": [],
   "source": [
    "mstim, stim = sfp.stimuli.gen_stim_set(32, freqs_ra=[(4,0),(0,4),(4,4)], phi=np.array(range(8))/8.*2*np.pi, )\n",
    "\n",
    "#jbh.showIm(stim, ncols=4, zoom=5)\n",
    "jbh.showIm(mstim, ncols=6, zoom=5)"
   ]
  },
  {
   "cell_type": "code",
   "execution_count": null,
   "metadata": {},
   "outputs": [],
   "source": [
    "mstim, _, _ = sfp.stimuli.gen_stim_set(1080, [(0, 128)], bytescale=True)# phi=np.array(range(10))/10.*2*np.pi, )\n",
    "\n",
    "jbh.showIm(mstim, ncols=4, )#zoom=5)"
   ]
  },
  {
   "cell_type": "markdown",
   "metadata": {},
   "source": [
    "# Stimulus properties\n",
    "\n",
    "For the purposes of creating our stimuli, we're interested in a couple of numbers that aren't apparent from the plots above:\n",
    "\n",
    " - how big the anti-aliasing mask in the center will be\n",
    " - what the minimum spatial frequency in the stimulus will be\n",
    " - what the maximum spatial frequency (after applying the mask) will be\n",
    "\n",
    "for the spatial frequencies, we're interested in this in units of cycles per visual degree, so we create the full-size stimulus (1080 x 1080 pixels) and input the diameter of the stimulus in visual degrees (28)."
   ]
  },
  {
   "cell_type": "code",
   "execution_count": null,
   "metadata": {},
   "outputs": [],
   "source": [
    "mask_df, _ = sfp.stimuli.check_stim_properties(1080, None, 24, w_r=range(0,181,5), w_a=range(0,181,5))"
   ]
  },
  {
   "cell_type": "markdown",
   "metadata": {},
   "source": [
    "We see that the mask grows with the frequencies. It gets pretty big.\n",
    "\n",
    "Note that the mask size is *only* dependent on the frequency content the image, not the size of the image. So if you have $\\omega_a=500$, your mask will always be 186 pixels wide, so if your image is only 150 pixels per side, then your entire image will be blank."
   ]
  },
  {
   "cell_type": "code",
   "execution_count": null,
   "metadata": {},
   "outputs": [],
   "source": [
    "sfp.stimuli.plot_stim_properties(mask_df, size=8, data_label='mask_radius_pix', title_text='Mask radius in degrees')"
   ]
  },
  {
   "cell_type": "markdown",
   "metadata": {},
   "source": [
    "This next plot isn't as interesting, but it's a sanity check to make sure the mask is working: basically, we want to see that the mask is working and so nowhere do we get frequencies exceeding .5 cycles per pixel. This shows that that's the case: no matter how high the frequencies go in either direction, they always stay below .5"
   ]
  },
  {
   "cell_type": "code",
   "execution_count": null,
   "metadata": {},
   "outputs": [],
   "source": [
    "sfp.stimuli.plot_stim_properties(mask_df, data_label='cpp_masked_max', title_text=\"Max masked frequency in cpp\", size=8)"
   ]
  },
  {
   "cell_type": "markdown",
   "metadata": {},
   "source": [
    "What we want to do is ensure that our mask has a radius of about one degree of visual angle, so we plot the distance from the origin in frequency space (that is, $\\sqrt{\\omega_\\alpha^2+\\omega_r^2}$) against the radius of the mask, in degrees. Because of how we constructed these stimuli, the local spatial frequency will only depend on this distance (i.e., it's the same in all directions: the stimuli with $\\omega_\\alpha=0, \\omega_r=100$ has the same local spatial frequency everywhere as the one with $\\omega_\\alpha=100, \\omega_r=0$) and the radius of the mask depends on this local spatial frequency (it will mask everywhere the local spatial frequency exceeds our Nyquist frequency limit, which I've set to a slightly conservative .475), this plot will be a single straight line (if you add the hue argument that's currently commented out, you'll see that they all lie on top of each other).\n",
    "\n",
    "What we want to do is find the distance in frequency space where we cross the `mask_radius_deg=1` line, which I show below the figure"
   ]
  },
  {
   "cell_type": "code",
   "execution_count": null,
   "metadata": {},
   "outputs": [],
   "source": [
    "g = sns.FacetGrid(mask_df, size=7,)# hue='w_r')\n",
    "g.map(sns.plt.scatter, 'freq_distance', 'mask_radius_deg')\n",
    "#sns.plt.scatter(mask_df['freq_distance'], mask_df['mask_radius_deg'])\n",
    "g.add_legend()\n",
    "g.ax.plot(g.ax.get_xlim(), [1, 1], 'k--')\n",
    "g.ax.set_xlim((0, 300))\n",
    "_=g.ax.set_ylim((0, 2))"
   ]
  },
  {
   "cell_type": "code",
   "execution_count": null,
   "metadata": {},
   "outputs": [],
   "source": [
    "mask_df.iloc[abs(mask_df.mask_radius_deg-1).argmin()]"
   ]
  },
  {
   "cell_type": "markdown",
   "metadata": {},
   "source": [
    "Thus we want to go out to a frequency distance of about 135. Since we're $\\log_2$ spacing our stimuli, we want to know the following and see that our stimuli should lie at most about $2^7$ from the origin of our frequency space."
   ]
  },
  {
   "cell_type": "code",
   "execution_count": null,
   "metadata": {},
   "outputs": [],
   "source": [
    "np.log2(134.164079)"
   ]
  },
  {
   "cell_type": "markdown",
   "metadata": {},
   "source": [
    "# Constant stimuli\n",
    "\n",
    "We also want to create stimuli whose local spatial frequency is the same everywhere, i.e., normal 2d sine waves. To compare them effectively to our stimuli, we construct the spatial frequency dataframe.\n",
    "\n",
    "Because only the distance from the origin in frequency space matters (as discussed above), we set $\\omega_r$ to 0 and only look at different values of $\\omega_a$, for simplicity. We also use the actual values we will use in this experiment: $\\omega_a=[2^{2.5}, 2^3, 2^{3.5}, 2^4, 2^{4.5}, 2^5, 2^{5.5}, 2^6, 2^{6.5}, 2^7]$. We use these values rounded to the nearest integer, because they need to be integers in order to not have weird discontinuities\n",
    "\n",
    "In order to determine what spatial frequencies are constant grating stimuli should have, we look at the local period (which is equivalent to looking at the local spatial frequency, since they're just reciprocals of each other, and more interpretable) at eccentricity 4.5 degrees. If we construct a constant grating with those periods, we guarantee that at one eccentricity we have the same local spatial frequency in both sets of stimuli. We choose 4.5 because then there are roughly equal numbers of larger and smaller log polar gratings."
   ]
  },
  {
   "cell_type": "code",
   "execution_count": null,
   "metadata": {},
   "outputs": [],
   "source": [
    "_, sf_df = sfp.stimuli.check_stim_properties(1080, None, 24, 0, np.round([2**i for i in np.arange(2.5, 7.5, .5)]))\n",
    "sf_df['eccen_float'] = sf_df['eccen'].apply(lambda x: np.mean([float(i) for i in x.split('-')]))"
   ]
  },
  {
   "cell_type": "code",
   "execution_count": null,
   "metadata": {},
   "outputs": [],
   "source": [
    "plot_func = [sns.plt.plot, sns.plt.semilogy]\n",
    "plot_kwargs = [{}, {'basey': 2}]\n",
    "plot_idx = 1\n",
    "g = sns.FacetGrid(sf_df, hue='w_a', size=7)\n",
    "g.map(plot_func[plot_idx], 'eccen_float', 'local_period_ppc', **plot_kwargs[plot_idx])\n",
    "g.add_legend()\n",
    "constant_grads = sf_df[sf_df.eccen=='4-5'].local_period_ppc.values\n",
    "for val in constant_grads:\n",
    "    plot_func[plot_idx]([1.5, 11.5], [val, val], 'k--', **plot_kwargs[plot_idx])\n",
    "plot_func[plot_idx]([4.5, 4.5], [2**1.5, 2**9], 'k--', **plot_kwargs[plot_idx])"
   ]
  },
  {
   "cell_type": "markdown",
   "metadata": {},
   "source": [
    "Unfortunately, these numbers are ugly, but they're the ones we want to use."
   ]
  },
  {
   "cell_type": "code",
   "execution_count": null,
   "metadata": {},
   "outputs": [],
   "source": [
    "print 1./constant_grads\n",
    "print np.log2(1./constant_grads)"
   ]
  },
  {
   "cell_type": "markdown",
   "metadata": {},
   "source": [
    "# Experiment stimuli\n",
    "\n",
    "Your stimuli should be created from the command line (in the `spatial_frequency_preferences` directory, call `python -m sfp.stimuli -h` to view the helpstring), but this here loads in the unshuffled stimuli and descriptive dataframe and examines some of them."
   ]
  },
  {
   "cell_type": "code",
   "execution_count": null,
   "metadata": {},
   "outputs": [],
   "source": [
    "stim = np.load(\"../data/new_unshuffled.npy\")\n",
    "df = pd.read_csv(\"../data/new_unshuffled_stim_description.csv\", index_col=0)\n",
    "constant_stim = np.load(\"../data/constant_new_unshuffled.npy\")\n",
    "constant_df = pd.read_csv(\"../data/constant_new_unshuffled_stim_description.csv\", index_col=0)"
   ]
  },
  {
   "cell_type": "code",
   "execution_count": null,
   "metadata": {},
   "outputs": [],
   "source": [
    "ax = jbh.showIm([stim[0], stim[100], stim[300]], ncols=3)"
   ]
  },
  {
   "cell_type": "code",
   "execution_count": null,
   "metadata": {},
   "outputs": [],
   "source": [
    "ax = jbh.showIm([constant_stim[0], constant_stim[100], constant_stim[300]], ncols=3)"
   ]
  },
  {
   "cell_type": "code",
   "execution_count": null,
   "metadata": {},
   "outputs": [],
   "source": [
    "jbh.showIm([i for i in stim[:10]], ncols=4)"
   ]
  },
  {
   "cell_type": "code",
   "execution_count": null,
   "metadata": {},
   "outputs": [],
   "source": [
    "jbh.showIm([i for i in stim[300:304]], ncols=4)"
   ]
  },
  {
   "cell_type": "markdown",
   "metadata": {},
   "source": [
    "Let's save some of these stimuli"
   ]
  },
  {
   "cell_type": "code",
   "execution_count": null,
   "metadata": {},
   "outputs": [],
   "source": [
    "w_y = constant_df[constant_df.w_x==0].w_y.unique()\n",
    "stim_idx = constant_df[(constant_df.w_x==0)&(constant_df.w_y.isin(w_y))&(constant_df.phi==0)].index\n",
    "jbh.showIm([i for i in constant_stim[stim_idx]], ncols=4)"
   ]
  },
  {
   "cell_type": "code",
   "execution_count": null,
   "metadata": {},
   "outputs": [],
   "source": [
    "sns.plt.figure(figsize=(1080/90., 1080/90.), dpi=90)\n",
    "for i, im in enumerate(stim[:8,:,:]):\n",
    "    ax = sfp.utils.im_plot(im, vmin=0, vmax=255)\n",
    "    ax.figure.savefig('stim_%01d_phases.svg' % i, bbox_inches='tight')"
   ]
  },
  {
   "cell_type": "markdown",
   "metadata": {},
   "source": [
    "# Psychopy\n",
    "\n",
    "The following blocks contain some code for experimenting with the psychopy presentation code and double-checking that they work. The experiment **should not** be run from here, but from the command-line instead.\n",
    "\n",
    "However, we can demonstrate that the total length of the experiment and each individual block length is correct here."
   ]
  },
  {
   "cell_type": "code",
   "execution_count": null,
   "metadata": {},
   "outputs": [],
   "source": [
    "keys, fix, tims, ps, idx = sfp.experiment.run(\"../data/stimuli/unshuffled.npy\", \"../data/stimuli_Noah/Noah_run00_idx.npy\", session_length=40, save_frames='../data/stimuli_Noah/example-frames.png', fix_deg_size=.25)"
   ]
  },
  {
   "cell_type": "code",
   "execution_count": null,
   "metadata": {},
   "outputs": [],
   "source": [
    "t = np.array([i[2] for i in tims])\n",
    "t = (t[2:] - t[1:-1])*1000\n",
    "fig, ax = sns.plt.subplots(1, 2, figsize=(15,5))\n",
    "sns.distplot(t[1::2], rug=True, ax=ax[0])\n",
    "ax[0].set_title(\"OFF block length (msec)\")\n",
    "sns.distplot(t[::2], rug=True, ax=ax[1], color='g')\n",
    "ax[1].set_title(\"ON block length (msec)\")"
   ]
  },
  {
   "cell_type": "code",
   "execution_count": null,
   "metadata": {},
   "outputs": [],
   "source": [
    "print(\"Total duration of experiment (in seconds): %.02f\" % (tims[-1][2] - tims[0][2]))"
   ]
  },
  {
   "cell_type": "markdown",
   "metadata": {},
   "source": [
    "Use the following to test multiple trials, an experiment. Again, this is *only* for testing, to make sure that multiple trials line up and that the data is saved. It should not be used to run the actual experiment when scanning."
   ]
  },
  {
   "cell_type": "code",
   "execution_count": null,
   "metadata": {},
   "outputs": [],
   "source": [
    "sfp.experiment.expt('../data/stimuli/unshuffled.npy', 2, 'Noah', session_length=None)"
   ]
  }
 ],
 "metadata": {
  "kernelspec": {
   "display_name": "Python [conda root]",
   "language": "python",
   "name": "conda-root-py"
  },
  "language_info": {
   "codemirror_mode": {
    "name": "ipython",
    "version": 2
   },
   "file_extension": ".py",
   "mimetype": "text/x-python",
   "name": "python",
   "nbconvert_exporter": "python",
   "pygments_lexer": "ipython2",
   "version": "2.7.12"
  }
 },
 "nbformat": 4,
 "nbformat_minor": 1
}
