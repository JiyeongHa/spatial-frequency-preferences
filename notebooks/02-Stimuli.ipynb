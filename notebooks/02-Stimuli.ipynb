{
 "cells": [
  {
   "cell_type": "code",
   "execution_count": null,
   "metadata": {
    "init_cell": true
   },
   "outputs": [],
   "source": [
    "import pyPyrTools as ppt\n",
    "import sys\n",
    "import numpy as np\n",
    "sys.path.append('..')\n",
    "import sfp\n",
    "%matplotlib inline\n",
    "import seaborn as sns\n",
    "from pyPyrTools import JBhelpers as jbh\n",
    "import pandas as pd\n",
    "from scipy import signal\n",
    "import fractions"
   ]
  },
  {
   "cell_type": "markdown",
   "metadata": {},
   "source": [
    "The following demonstrates some of the stimuli that can be made with the `log_polar_grating` command. The key characteristic of these stimuli is that the frequency (in cycles per pixel) increases as you approach the center of the image. This encodes our hypothesis that the preferred spatial frequency of neurons (and thus, voxels) whose receptive fields are located at the fovea (here, the center of the image) will have a higher preferred spatial frequency than those whose receptive fields are located in the periphery.\n",
    "\n",
    "However, with these parameters, we notice that there is strange-looking aliasing happening in the center of the image."
   ]
  },
  {
   "cell_type": "code",
   "execution_count": null,
   "metadata": {},
   "outputs": [],
   "source": [
    "ims = []\n",
    "freq=6\n",
    "phase = 0\n",
    "ampl=1\n",
    "shape=64\n",
    "alpha=0\n",
    "origin = None\n",
    "ims.append(sfp.stimuli.log_polar_grating(shape, alpha, freq,phi=phase,ampl=ampl, origin=origin))\n",
    "ims.append(sfp.stimuli.log_polar_grating(shape,alpha, w_a=freq,phi=phase,ampl=ampl))\n",
    "ims.append(sfp.stimuli.log_polar_grating(shape,alpha, freq/2,freq,phi=phase,ampl=ampl))\n",
    "ims.append(sfp.stimuli.log_polar_grating(shape,alpha,-freq,freq,phi=phase,ampl=ampl))\n",
    "ims.append(sfp.stimuli.log_polar_grating(shape,alpha,freq/2,freq,phi=phase,ampl=ampl))\n",
    "ims.append(sfp.stimuli.log_polar_grating(shape,alpha,freq,freq/4,phi=phase,ampl=ampl))\n",
    "ims.append(ims[0]+ims[1])\n",
    "# ims.append(sfp.stimuli._create_better_sampled_grating(shape, alpha, freq, phi=phase, ampl=ampl, orig_origin=origin, check_scale_factor=3))\n",
    "# ims.append(sfp.stimuli._create_better_sampled_grating(shape, alpha, w_a=freq, phi=phase, ampl=ampl, orig_origin=origin, check_scale_factor=3))\n",
    "# ims.append(sfp.stimuli._create_better_sampled_grating(shape, alpha, freq, phi=phase, ampl=ampl, check_scale_factor=50, orig_origin=origin))\n",
    "# ims.append(sfp.stimuli._create_better_sampled_grating(shape, alpha, freq, phi=phase, ampl=ampl, check_scale_factor=200, orig_origin=origin))\n",
    "\n",
    "# Example stimuli\n",
    "jbh.showIm(ims, ncols=min(len(ims), 4),zoom=50)"
   ]
  },
  {
   "cell_type": "markdown",
   "metadata": {},
   "source": [
    "In order to investigate this a little more, we create compare the second, radial stimulus with a more heavily-sampled version.\n",
    "\n",
    "The first plot shows the central slice of the 64 x 64 image in green and the central slice of the grating 99 times larger in blue. We clearly see some very high frequency signal that is being missed."
   ]
  },
  {
   "cell_type": "code",
   "execution_count": null,
   "metadata": {},
   "outputs": [],
   "source": [
    "stim, over_sampled_stim = sfp.stimuli.check_aliasing(64, 0, w_a=6, )"
   ]
  },
  {
   "cell_type": "markdown",
   "metadata": {},
   "source": [
    "This second plot shows the two images, and again we can see the aliasing at the center"
   ]
  },
  {
   "cell_type": "code",
   "execution_count": null,
   "metadata": {},
   "outputs": [],
   "source": [
    "jbh.showIm([stim, over_sampled_stim], ncols=2, zoom=[10, .1])"
   ]
  },
  {
   "cell_type": "markdown",
   "metadata": {},
   "source": [
    "To deal with this issue, we create a mask that we'll lay at the center of the image, completely masking out the aliased portion of the stimuli and then fading gradually to invisible as we move away from it.\n",
    "\n",
    "This first plot shows the same slice as above for the un-masked, fade-masked, and binary-masked stimuli."
   ]
  },
  {
   "cell_type": "code",
   "execution_count": null,
   "metadata": {},
   "outputs": [],
   "source": [
    "tmps = sfp.stimuli.check_aliasing_with_mask(64, 0, w_a=6, )"
   ]
  },
  {
   "cell_type": "markdown",
   "metadata": {},
   "source": [
    "This here shows the 64 x 64 image with no mask, the faded mask, and the binary mask. We can see that the masking hides the aliased portion of the image."
   ]
  },
  {
   "cell_type": "code",
   "execution_count": null,
   "metadata": {},
   "outputs": [],
   "source": [
    "jbh.showIm([tmps[0], tmps[1] * tmps[0], tmps[2] * tmps[0]],# tmps[3], tmps[4]* tmps[3], tmps[5]*tmps[3]], \n",
    "           ncols=3, zoom=[10,10,10,.1,.1,.1])"
   ]
  },
  {
   "cell_type": "markdown",
   "metadata": {},
   "source": [
    "Now that we know the stimuli we want to create and are convinced that masking takes care of their aliasing, we create all the stimuli for experiment. We do this using the `main` function, which requires that the `size`, `origin`, and `number_of_fade_pixels` parameters be constant across all stimuli, but allows the others to vary. We create all the stimuli and then apply the largest mask to them, so that all stimuli have the same mask and none show any aliasing. The function returns both the unmasked (`stim`) and masked (`mstim`) versions of the stimuli, but we only want the masked versions (the unmasked are only returned so they can be double-checked."
   ]
  },
  {
   "cell_type": "code",
   "execution_count": null,
   "metadata": {},
   "outputs": [],
   "source": [
    "mstim, stim = sfp.stimuli.gen_stim_set(1080, 4, (0, 128))# phi=np.array(range(10))/10.*2*np.pi, )\n",
    "\n",
    "#jbh.showIm(stim, ncols=4, zoom=5)\n",
    "jbh.showIm(mstim, ncols=4, )#zoom=5)"
   ]
  },
  {
   "cell_type": "code",
   "execution_count": null,
   "metadata": {},
   "outputs": [],
   "source": [
    "mstim, stim = sfp.stimuli.gen_stim_set(32, 4, freqs_ra=[(4,0),(0,4),(4,4)], phi=np.array(range(8))/8.*2*np.pi, )\n",
    "\n",
    "#jbh.showIm(stim, ncols=4, zoom=5)\n",
    "jbh.showIm(mstim, ncols=6, zoom=5)"
   ]
  },
  {
   "cell_type": "markdown",
   "metadata": {},
   "source": [
    "# Stimulus properties\n",
    "\n",
    "For the purposes of creating our stimuli, we're interested in a couple of numbers that aren't apparent from the plots above:\n",
    "\n",
    " - how big the anti-aliasing mask in the center will be\n",
    " - what the minimum spatial frequency in the stimulus will be\n",
    " - what the maximum spatial frequency (after applying the mask) will be\n",
    "\n",
    "for the spatial frequencies, we're interested in this in units of cycles per visual degree, so we create the full-size stimulus (1080 x 1080 pixels) and input the diameter of the stimulus in visual degrees (28)."
   ]
  },
  {
   "cell_type": "code",
   "execution_count": null,
   "metadata": {},
   "outputs": [],
   "source": [
    "mask_df = sfp.stimuli.check_stim_properties(1080, None, 28, w_r=[0, 128], w_a=[0, 128], alpha=[0, 4])"
   ]
  },
  {
   "cell_type": "code",
   "execution_count": null,
   "metadata": {},
   "outputs": [],
   "source": [
    "sfp.stimuli.plot_stim_properties(mask_df, size=4)"
   ]
  },
  {
   "cell_type": "code",
   "execution_count": null,
   "metadata": {},
   "outputs": [],
   "source": [
    "sfp.stimuli.plot_stim_properties(mask_df, data_label='cpd_min', title_text=\"Min frequency in cpd\", size=4)"
   ]
  },
  {
   "cell_type": "code",
   "execution_count": null,
   "metadata": {},
   "outputs": [],
   "source": [
    "sfp.stimuli.plot_stim_properties(mask_df, data_label='cpd_masked_max', title_text=\"Max masked frequency in cpd\", size=4)"
   ]
  },
  {
   "cell_type": "markdown",
   "metadata": {},
   "source": [
    "# Noise stimuli"
   ]
  },
  {
   "cell_type": "code",
   "execution_count": null,
   "metadata": {},
   "outputs": [],
   "source": [
    "# should these be random samples or a more systematic searching of the space?\n",
    "radius = 5\n",
    "bandwidth = 1\n",
    "samples = 1000\n",
    "angle_upper_lim = np.pi/2\n",
    "noise = []\n",
    "freqs = []\n",
    "for i in range(samples):\n",
    "#     dist = np.random.uniform(radius-bandwidth, radius+bandwidth)\n",
    "    dist = np.random.normal(radius, bandwidth)\n",
    "    ang = np.random.uniform(0, angle_upper_lim)\n",
    "    # making them integer avoids the \"break\" at angle=0\n",
    "    w_a = np.round(dist * np.sin(ang))\n",
    "    w_r = np.round(dist * np.cos(ang))\n",
    "    # dist and ang technically aren't the correct values for dist and ang, since I rounded w_a and w_r\n",
    "    rounded_ang = np.arctan(w_a/w_r)\n",
    "    if rounded_ang != 0:\n",
    "        rounded_dist = w_a / np.sin(rounded_ang)\n",
    "    else:\n",
    "        rounded_dist = w_r / np.cos(rounded_ang)\n",
    "    freqs.append((w_a, w_r, dist, ang, rounded_dist, rounded_ang))\n",
    "    noise.append(sfp.stimuli.log_polar_grating(64, 0, w_r, w_a, np.random.uniform(0, np.pi)))\n",
    "noise.append(np.array(noise).mean(0))\n",
    "\n",
    "jbh.showIm(noise[-1], zoom=5, ncols=5)"
   ]
  },
  {
   "cell_type": "code",
   "execution_count": null,
   "metadata": {},
   "outputs": [],
   "source": [
    "polar_angle_pi_incr = 4\n",
    "\n",
    "freqs = pd.DataFrame(freqs, columns=['w_a', 'w_r', 'radius', 'polar_angle', 'rounded_radius', 'rounded_angle'])\n",
    "\n",
    "# we just need to pick an arbitrary column for the value here, since we're counting\n",
    "freq_hm = freqs.pivot_table('radius', index='w_a', columns='w_r', aggfunc='count', fill_value=0, dropna=False)\n",
    "polar_hm = freqs.pivot_table('radius', index='rounded_radius', columns='rounded_angle', aggfunc='count', fill_value=0, dropna=False)"
   ]
  },
  {
   "cell_type": "code",
   "execution_count": null,
   "metadata": {},
   "outputs": [],
   "source": [
    "# jointplot not appropriate for this, because the data is inherently discrete\n",
    "sns.heatmap(freq_hm, cmap='Blues').invert_yaxis()"
   ]
  },
  {
   "cell_type": "code",
   "execution_count": null,
   "metadata": {},
   "outputs": [],
   "source": [
    "sns.jointplot('radius', 'polar_angle', freqs, 'hex', stat_func=None, )"
   ]
  },
  {
   "cell_type": "code",
   "execution_count": null,
   "metadata": {},
   "outputs": [],
   "source": [
    "sns.jointplot('radius', 'rounded_radius', freqs, 'scatter', stat_func=None, )"
   ]
  },
  {
   "cell_type": "code",
   "execution_count": null,
   "metadata": {},
   "outputs": [],
   "source": [
    "sns.jointplot('polar_angle', 'rounded_angle', freqs, 'scatter', stat_func=None, )"
   ]
  },
  {
   "cell_type": "markdown",
   "metadata": {},
   "source": [
    "# Psychopy\n"
   ]
  },
  {
   "cell_type": "code",
   "execution_count": null,
   "metadata": {},
   "outputs": [],
   "source": [
    "win, keys, fix = sfp.experiment.run(\"../data/stimuli/run00.npy\", session_length=20, fixation_type='digit')"
   ]
  },
  {
   "cell_type": "code",
   "execution_count": null,
   "metadata": {},
   "outputs": [],
   "source": [
    "sns.plt.plot(win.frameIntervals)"
   ]
  },
  {
   "cell_type": "code",
   "execution_count": null,
   "metadata": {},
   "outputs": [],
   "source": [
    "sfp.experiment.expt(['../data/stimuli/run00.npy', '../data/stimuli/test.npy'], 'test')"
   ]
  },
  {
   "cell_type": "markdown",
   "metadata": {},
   "source": [
    "# Experiment stimuli"
   ]
  },
  {
   "cell_type": "code",
   "execution_count": null,
   "metadata": {},
   "outputs": [],
   "source": [
    "stim = sfp.stimuli.main()"
   ]
  },
  {
   "cell_type": "code",
   "execution_count": null,
   "metadata": {},
   "outputs": [],
   "source": [
    "jbh.showIm([i for i in stim[0:4]], ncols=4)"
   ]
  },
  {
   "cell_type": "code",
   "execution_count": null,
   "metadata": {},
   "outputs": [],
   "source": [
    "jbh.showIm([i for i in stim[-12:-8]], ncols=4)"
   ]
  },
  {
   "cell_type": "code",
   "execution_count": null,
   "metadata": {},
   "outputs": [],
   "source": [
    "stim.shape"
   ]
  },
  {
   "cell_type": "code",
   "execution_count": null,
   "metadata": {},
   "outputs": [],
   "source": [
    "np.save(\"../data/stimuli/test3.npy\", stim[0,:,:])"
   ]
  }
 ],
 "metadata": {
  "kernelspec": {
   "display_name": "Python [conda root]",
   "language": "python",
   "name": "conda-root-py"
  },
  "language_info": {
   "codemirror_mode": {
    "name": "ipython",
    "version": 2
   },
   "file_extension": ".py",
   "mimetype": "text/x-python",
   "name": "python",
   "nbconvert_exporter": "python",
   "pygments_lexer": "ipython2",
   "version": "2.7.12"
  }
 },
 "nbformat": 4,
 "nbformat_minor": 1
}
