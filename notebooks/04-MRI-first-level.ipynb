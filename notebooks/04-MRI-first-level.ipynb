{
 "cells": [
  {
   "cell_type": "markdown",
   "metadata": {},
   "source": [
    "And then\n",
    "\n",
    "- do something with the \"double check design matrix\" and \"first year talk\" sections of this notebook\n",
    "- get working with snakemake"
   ]
  },
  {
   "cell_type": "markdown",
   "metadata": {},
   "source": [
    "# Analyzing the first-level results\n",
    "\n",
    "After running our GLM analysis, we have the estimated amplitude responses of each voxel to each image class. Along with Noah Benson's anatomical template / Bayesian model, we also have each voxel's visual area and location in the visual field (in terms of eccentricity and polar angle). By combining the information contained within them, along with the dataframe describing each stimulus class, we can construct our tuning curves."
   ]
  },
  {
   "cell_type": "code",
   "execution_count": null,
   "metadata": {
    "init_cell": true
   },
   "outputs": [
    {
     "name": "stderr",
     "output_type": "stream",
     "text": [
      "/home/billbrod/anaconda2/lib/python2.7/site-packages/h5py/__init__.py:34: FutureWarning: Conversion of the second argument of issubdtype from `float` to `np.floating` is deprecated. In future, it will be treated as `np.float64 == np.dtype(float).type`.\n",
      "  from ._conv import register_converters as _register_converters\n",
      "/home/billbrod/anaconda2/lib/python2.7/site-packages/matplotlib/__init__.py:1357: UserWarning:  This call to matplotlib.use() has no effect\n",
      "because the backend has already been chosen;\n",
      "matplotlib.use() must be called *before* pylab, matplotlib.pyplot,\n",
      "or matplotlib.backends is imported for the first time.\n",
      "\n",
      "  warnings.warn(_use_error_msg)\n"
     ]
    }
   ],
   "source": [
    "import pandas as pd\n",
    "import nibabel as nib\n",
    "import numpy as np\n",
    "import seaborn as sns\n",
    "%matplotlib inline\n",
    "import sys\n",
    "sys.path.append('..')\n",
    "import sfp\n",
    "import h5py\n",
    "import os\n",
    "import itertools\n",
    "import pyPyrTools.JBhelpers as jbh\n",
    "import pyPyrTools as ppt\n",
    "import scipy as sp\n",
    "from matplotlib.colors import LinearSegmentedColormap "
   ]
  },
  {
   "cell_type": "code",
   "execution_count": null,
   "metadata": {},
   "outputs": [],
   "source": [
    "results_template_path = '/mnt/Acadia/Projects/spatial_frequency_preferences/BIDS/derivatives/GLMdenoise_reoriented/stim_class/sub-wlsubj001/ses-pilot01/%s.sub-wlsubj001_ses-pilot01_task-sfp_%s.mgz'\n",
    "benson_template_path =  '/mnt/Acadia/Projects/spatial_frequency_preferences/BIDS/derivatives/freesurfer/sub-wlsubj001/surf/%s.benson14_%s.mgz'\n",
    "stimuli_desc_path = '/mnt/Acadia/Projects/spatial_frequency_preferences/BIDS/stimuli/pilot01_unshuffled_stim_description.csv'\n",
    "stimuli_path = '/mnt/Acadia/Projects/spatial_frequency_preferences/BIDS/stimuli/pilot01_unshuffled.npy'\n",
    "df = sfp.first_level_analysis.main(benson_template_path, results_template_path, 'summary', class_nums=[1,2], stim_type='pilot', eccen_range=(1, 3), unshuffled_stim_descriptions_path=stimuli_desc_path, unshuffled_stim_path=stimuli_path)"
   ]
  },
  {
   "cell_type": "code",
   "execution_count": null,
   "metadata": {},
   "outputs": [],
   "source": [
    "results_template_path = '/mnt/Acadia/Projects/spatial_frequency_preferences/BIDS/derivatives/GLMdenoise_reoriented/stim_class/sub-wlsubj001/ses-01/%s.sub-wlsubj001_ses-01_task-sfp_%s.mgz'\n",
    "benson_template_path =  '/mnt/Acadia/Projects/spatial_frequency_preferences/BIDS/derivatives/freesurfer/sub-wlsubj001/surf/%s.benson14_%s.mgz'\n",
    "stimuli_desc_path = '/mnt/Acadia/Projects/spatial_frequency_preferences/BIDS/stimuli/unshuffled_stim_description.csv'\n",
    "stimuli_path = '/mnt/Acadia/Projects/spatial_frequency_preferences/BIDS/stimuli/unshuffled.npy'\n",
    "df = sfp.first_level_analysis.main(benson_template_path, results_template_path, 'summary', class_nums=[1,2], stim_type='logpolar', eccen_range=(1, 3), unshuffled_stim_descriptions_path=stimuli_desc_path, unshuffled_stim_path=stimuli_path)"
   ]
  },
  {
   "cell_type": "code",
   "execution_count": null,
   "metadata": {},
   "outputs": [],
   "source": [
    "results_template_path = '/mnt/Acadia/Projects/spatial_frequency_preferences/BIDS/derivatives/GLMdenoise_reoriented/stim_class/sub-wlsubj001/ses-02/%s.sub-wlsubj001_ses-02_task-sfpconstant_%s.mgz'\n",
    "benson_template_path =  '/mnt/Acadia/Projects/spatial_frequency_preferences/BIDS/derivatives/freesurfer/sub-wlsubj001/surf/%s.benson14_%s.mgz'\n",
    "stimuli_desc_path = '/mnt/Acadia/Projects/spatial_frequency_preferences/BIDS/stimuli/constant_unshuffled_stim_description.csv'\n",
    "stimuli_path = '/mnt/Acadia/Projects/spatial_frequency_preferences/BIDS/stimuli/constant_unshuffled.npy'\n",
    "df = sfp.first_level_analysis.main(benson_template_path, results_template_path, 'full', class_nums=xrange(10), stim_type='constant', eccen_range=(1, 3), unshuffled_stim_descriptions_path=stimuli_desc_path, unshuffled_stim_path=stimuli_path)"
   ]
  },
  {
   "cell_type": "code",
   "execution_count": null,
   "metadata": {},
   "outputs": [],
   "source": [
    "stim_df = pd.read_csv(\"../data/stimuli/unshuffled_stim_description.csv\")\n",
    "stim = np.load('../data/stimuli/constant_unshuffled.npy')\n",
    "stim_df = stim_df.dropna()\n",
    "stim_df.class_idx = stim_df.class_idx.astype(int)\n",
    "stim_df = stim_df.drop_duplicates('class_idx').set_index('class_idx')\n",
    "stim_df = stim_df.rename(columns={'index': 'stimulus_index'})\n",
    "stim_df = sfp.first_level_analysis._add_freq_metainfo(stim_df)"
   ]
  },
  {
   "cell_type": "code",
   "execution_count": null,
   "metadata": {},
   "outputs": [],
   "source": [
    "# This contains the information on each stimulus, allowing us to determine whether\n",
    "# some stimuli are part of the same class or a separate one.\n",
    "stim_df = pd.read_csv(\"../data/stimuli/pilot01_unshuffled_stim_description.csv\")\n",
    "# stim_df0= pd.read_csv('../data/stimuli_test/unshuffled_stim_description.csv')\n",
    "# stim_df2= pd.read_csv('../data/stimuli_test2/unshuffled_stim_description.csv')\n",
    "\n",
    "# Array full of the actual stimuli\n",
    "stim = np.load('../data/stimuli/pilot01_unshuffled.npy')\n",
    "# stim0 = np.load('../data/stimuli_test/unshuffled.npy')\n",
    "# stim2 = np.load('../data/stimuli_test2/unshuffled.npy')\n",
    "\n",
    "behav_results = h5py.File('../data/raw_behavioral/2017-Oct-09_wl_subj001_sess1.hdf5')\n",
    "\n",
    "# for this, we just want any run, since they all contain the same classes and we don't care about their order\n",
    "design_df, _, _ = sfp.design_matrices.create_design_df(behav_results, stim_df, 1)\n",
    "design_df = design_df.reset_index(drop=True).sort_values(by=\"class_idx\")\n",
    "design_df = design_df[['w_r', 'w_a', 'class_idx', 'res']].set_index('class_idx')\n",
    "\n",
    "stim_df = stim_df.set_index(['w_r', 'w_a'])\n",
    "stim_df['class_idx'] = design_df.reset_index().set_index(['w_r', 'w_a'])['class_idx']\n",
    "stim_df = stim_df.reset_index()\n",
    "\n",
    "# stim_df0 = stim_df0.set_index(['w_r', 'w_a'])\n",
    "# stim_df0['class_idx'] = design_df.reset_index().set_index(['w_r', 'w_a'])['class_idx']\n",
    "# stim_df0 = stim_df0.reset_index()"
   ]
  },
  {
   "cell_type": "code",
   "execution_count": null,
   "metadata": {},
   "outputs": [],
   "source": [
    "df = pd.read_csv('../data/MRI_first_level/wl_subj001/summary_v1_e2-8_eccen_bin_hemi_bin.csv')\n",
    "# df0 = pd.read_csv('../data/MRI_first_level/wl_subj001/summary_v1_e2-8_eccen_bin_hemi_bin_alpha0.csv')\n",
    "# df2 = pd.read_csv('../data/MRI_first_level/wl_subj001/summary_v1_e2-8_eccen_bin_hemi_bin.csv')"
   ]
  },
  {
   "cell_type": "markdown",
   "metadata": {},
   "source": [
    "Here we see the different stimulus classes, as plotted in frequency space, colored by their superclass. These numbers are roughly log-spaced (doubling).\n",
    "\n",
    "We also, in order to double-check some of our calculations, plot the distance and angle in frequency space: they look exactly correct."
   ]
  },
  {
   "cell_type": "code",
   "execution_count": null,
   "metadata": {},
   "outputs": [],
   "source": [
    "#tmp_df = df[df.voxel==0]\n",
    "tmp_df = stim_df\n",
    "try:\n",
    "    tmp_df['w_a']\n",
    "    freq_names = ['w_r', 'w_a']\n",
    "    ylim, xlim = [-125, 150], [-20, 250]\n",
    "except KeyError:\n",
    "    freq_names = ['w_x', 'w_y']\n",
    "    xlim, ylim = [-.01, .2], [-.1, .11]\n",
    "cmaps = [sns.color_palette(n_colors=5), sns.cubehelix_palette(as_cmap=True), sns.diverging_palette(10, 220, as_cmap=True)]\n",
    "norms = [None, None, sfp.utils.MidpointNormalize(tmp_df.freq_space_angle.min(), tmp_df.freq_space_angle.max(), midpoint=0)]\n",
    "titles = ['Frequency superclass', 'Frequency distance', \"Frequency angle\"]\n",
    "color_prop = ['stimulus_superclass', 'freq_space_distance', 'freq_space_angle']\n",
    "with sns.axes_style('white'):\n",
    "    fig, axes = sns.plt.subplots(1, 3, figsize=(20,5))\n",
    "    for i, ax in enumerate(axes.flatten()):\n",
    "        ax.plot(xlim, [0,0],'k--', alpha=.5)\n",
    "        ax.plot([0, 0], ylim, 'k--', alpha=.5)\n",
    "        if i==0:\n",
    "            handles = []\n",
    "            labels = []\n",
    "            for j, (lab, g) in enumerate(tmp_df.groupby(color_prop[i])):\n",
    "                pts = ax.scatter(g[freq_names[0]].values, g[freq_names[1]].values, c=cmaps[i][j], edgecolors='none')\n",
    "                handles.append(pts)\n",
    "                labels.append(lab)\n",
    "            ax.legend(handles, labels)\n",
    "        elif 0 < i < 3:\n",
    "            pts = ax.scatter(tmp_df[freq_names[0]].values, tmp_df[freq_names[1]].values, c=tmp_df[color_prop[i]].values, cmap=cmaps[i], edgecolors='none', norm=norms[i])\n",
    "            fig.colorbar(pts, ax=ax, fraction=.046, pad=.04)\n",
    "        else:\n",
    "            ax.set_visible(False)\n",
    "            continue\n",
    "        ax.set_aspect('equal')\n",
    "        ax.set_xlim(xlim)\n",
    "        ax.set_ylim(ylim)\n",
    "        ax.set_title(titles[i])\n",
    "sns.despine()"
   ]
  },
  {
   "cell_type": "code",
   "execution_count": null,
   "metadata": {},
   "outputs": [],
   "source": [
    "def mini_plot(x, y, **kwargs):\n",
    "    x = [np.mean([float(j) for j in i.split('-')]) for i in x.values]\n",
    "    sns.plt.plot(x, y.values, **kwargs)\n",
    "g = sns.FacetGrid(df, hue='rounded_freq_space_distance', col='stimulus_superclass', palette='Reds', col_wrap=3)\n",
    "g.map(mini_plot, 'eccen', 'Local spatial frequency (cpd)')\n",
    "g.add_legend()"
   ]
  },
  {
   "cell_type": "code",
   "execution_count": null,
   "metadata": {},
   "outputs": [],
   "source": [
    "stim_idx = [stim_df[(stim_df.w_r==0)&(stim_df.w_a==181)].index[0]]\n",
    "stim_idx.append(stim_df[(stim_df.w_r==181)&(stim_df.w_a==0)].index[0])\n",
    "stim_idx.append(stim_df[(stim_df.w_r==128)&(stim_df.w_a==128)].index[0])\n",
    "props = stim_df.loc[stim_idx]\n",
    "tmp_stim = stim[stim_idx]\n",
    "mags = []\n",
    "angles = []\n",
    "for (i, p), s in zip(props.iterrows(), tmp_stim):\n",
    "    _, _, mag, angle = sfp.stimuli.create_sf_maps_cpp(p.res, p.w_r, p.w_a)\n",
    "    mags.append(sfp.utils.mask_array_like_grating(s, mag, 128))\n",
    "    angles.append(sfp.utils.mask_array_like_grating(s, angle, 128))"
   ]
  },
  {
   "cell_type": "code",
   "execution_count": null,
   "metadata": {},
   "outputs": [],
   "source": [
    "for i in range(3):\n",
    "    sns.plt.plot(np.array(range(1,1081))-540, mags[i][540,:])"
   ]
  },
  {
   "cell_type": "code",
   "execution_count": null,
   "metadata": {},
   "outputs": [],
   "source": [
    "stim_df = pd.read_csv('../data/stimuli/unshuffled_stim_description.csv')\n",
    "stim = np.load('../data/stimuli/unshuffled.npy')\n",
    "\n",
    "stim_idx = stim_df[(stim_df.w_r==4)&(stim_df.w_a==4)].index[0]\n",
    "props = stim_df.loc[stim_idx]\n",
    "tmp_stim = stim[stim_idx]\n",
    "dx, dy, _, _ = sfp.stimuli.create_sf_maps_cpp(props.res, w_r=props.w_r, w_a=props.w_a)\n",
    "windowed_stim, windowed_approx = sfp.utils.plot_grating_approximation(tmp_stim, dx, dy, 13, props.phi, props.w_r, props.w_a, figsize=(5,5))"
   ]
  },
  {
   "cell_type": "code",
   "execution_count": null,
   "metadata": {},
   "outputs": [],
   "source": [
    "pilot00_stim_df = pd.read_csv('../data/stimuli/pilot00_unshuffled_stim_description.csv')\n",
    "pilot00_stim = np.load('../data/stimuli/pilot00_unshuffled.npy')\n",
    "\n",
    "stim_idx = pilot00_stim_df[(pilot00_stim_df.w_r==4)&(pilot00_stim_df.w_a==4)].index[0]\n",
    "props = pilot00_stim_df.loc[stim_idx]\n",
    "tmp_stim = pilot00_stim[stim_idx]\n",
    "dx, dy, _, _ = sfp.stimuli.create_sf_maps_cpp(props.res, w_r=props.w_r, w_a=props.w_a, stim_type='pilot')\n",
    "swindowed_stim, windowed_approx = sfp.utils.plot_grating_approximation(tmp_stim, dx, dy, 13, props.phi, props.w_r, props.w_a, stim_type='pilot')"
   ]
  },
  {
   "cell_type": "code",
   "execution_count": null,
   "metadata": {},
   "outputs": [],
   "source": [
    "pilot01_stim_df = pd.read_csv('../data/stimuli/pilot01_unshuffled_stim_description.csv')\n",
    "pilot01_stim = np.load('../data/stimuli/pilot01_unshuffled.npy')\n",
    "\n",
    "stim_idx = pilot01_stim_df[(pilot01_stim_df.w_r==4)&(pilot01_stim_df.w_a==4)].index[0]\n",
    "props = pilot01_stim_df.loc[stim_idx]\n",
    "tmp_stim = pilot01_stim[stim_idx]\n",
    "dx, dy, _, _ = sfp.stimuli.create_sf_maps_cpp(props.res, w_r=props.w_r, w_a=props.w_a, stim_type='pilot')\n",
    "windowed_stim, windowed_approx = sfp.utils.plot_grating_approximation(tmp_stim, dx, dy, 13, props.phi, props.w_r, props.w_a, figsize=(5,5), stim_type='pilot')"
   ]
  },
  {
   "cell_type": "code",
   "execution_count": null,
   "metadata": {},
   "outputs": [],
   "source": [
    "constant_stim_df = pd.read_csv('../data/stimuli/constant_unshuffled_stim_description.csv')\n",
    "constant_stim = np.load('../data/stimuli/constant_unshuffled.npy')\n",
    "\n",
    "stim_idx = 160\n",
    "props = constant_stim_df.loc[stim_idx]\n",
    "tmp_stim = constant_stim[stim_idx]\n",
    "dx, dy, _, _ = sfp.stimuli.create_sf_maps_cpp(props.res, w_x=props.w_x, w_y=props.w_y, stim_type='constant')\n",
    "mg, ma = sfp.utils.plot_grating_approximation(tmp_stim, dx, dy, 13, props.phi, stim_type='constant', figsize=(5,5))"
   ]
  },
  {
   "cell_type": "code",
   "execution_count": null,
   "metadata": {},
   "outputs": [],
   "source": [
    "Rmin, Rmax = sfp.first_level_analysis.find_ecc_range_in_degrees(stim[0,:,:], 12)\n",
    "print(\"Inside radius of stimulus annulus: %.02f\" % Rmin)\n",
    "print(\"Outside radius of stimulus annulus: %.02f\" % Rmax)"
   ]
  },
  {
   "cell_type": "code",
   "execution_count": null,
   "metadata": {},
   "outputs": [],
   "source": [
    "tmp_df = df[df.stimulus_superclass=='circular']\n",
    "g = sns.FacetGrid(df, hue='eccen', palette='Reds', size=5,)\n",
    "#g.map(sns.regplot, 'rounded_freq_space_distance', 'amplitude_estimate', x_estimator=np.mean, fit_reg=False)\n",
    "g.map_dataframe(sfp.utils.plot_mean, 'rounded_freq_space_distance', 'amplitude_estimate')\n",
    "g.map_dataframe(sfp.utils.scatter_ci_dist, 'freq_space_distance', 'amplitude_estimate')\n",
    "for ax in g.axes.flatten():\n",
    "    ax.set_xscale('log', basex=2)\n",
    "g.add_legend()\n",
    "g.fig.savefig('wl_subj042-raw.svg')"
   ]
  },
  {
   "cell_type": "code",
   "execution_count": null,
   "metadata": {},
   "outputs": [],
   "source": [
    "g = sns.FacetGrid(df, hue='eccen', palette='Reds', size=5, col='stimulus_superclass', col_wrap=2,\n",
    "                  col_order=['circular', 'radial', 'forward spiral', 'reverse spiral', 'mixtures'])\n",
    "#g.map(sns.regplot, 'freq_space_distance', 'amplitude_estimate', x_estimator=np.mean, fit_reg=False)\n",
    "g.map_dataframe(sfp.utils.plot_mean, 'freq_space_distance', 'amplitude_estimate')\n",
    "g.map_dataframe(sfp.utils.scatter_ci_dist, 'freq_space_distance', 'amplitude_estimate')\n",
    "for ax in g.axes:\n",
    "    ax.set_xscale('log', basex=2)\n",
    "g.add_legend()"
   ]
  },
  {
   "cell_type": "markdown",
   "metadata": {},
   "source": [
    "If there were no scaling in the visual system, such that neurons at different places in the visual field were expected to have similar properties, the bottom would all line up well, and it doesn't!"
   ]
  },
  {
   "cell_type": "code",
   "execution_count": null,
   "metadata": {},
   "outputs": [],
   "source": [
    "classes_of_interest = []\n",
    "classes_of_interest.extend(df[(df.stimulus_superclass=='circular')&(df.rounded_freq_space_distance==11)].stimulus_class.unique())\n",
    "classes_of_interest.extend(df[(df.stimulus_superclass=='radial')&(df.rounded_freq_space_distance==64)].stimulus_class.unique())\n",
    "classes_of_interest.extend(df[(df.stimulus_superclass=='forward spiral')&(df.rounded_freq_space_distance==23)].stimulus_class.unique())\n",
    "classes_of_interest.extend(df[(df.stimulus_superclass=='reverse spiral')&(df.rounded_freq_space_distance==23)].stimulus_class.unique())\n",
    "#classes_of_interest.append(df[df.stimulus_superclass=='mixtures'].stimulus_class.values[0])\n",
    "\n",
    "stim_idxs = stim_df[stim_df.class_idx.isin(classes_of_interest)].index.values[::8]\n",
    "\n",
    "jbh.showIm([stim[i, :, :] for i in stim_idxs], ncols=4, zoom=.2)"
   ]
  },
  {
   "cell_type": "code",
   "execution_count": null,
   "metadata": {},
   "outputs": [],
   "source": [
    "# I know this goes from about -pi/2 to pi/2, in pi/12 steps\n",
    "ticks = [(np.pi*(i-6)/12.) for i in range(13)]\n",
    "labels = ['$\\\\frac{%s*\\\\pi}{12}$'%(i-6) for i in range(13)]\n",
    "\n",
    "g = sns.FacetGrid(df, hue='eccen', palette='Reds', size=6)\n",
    "g.map(sns.regplot, 'freq_space_angle', 'amplitude_estimate', x_estimator=np.mean, fit_reg=False)\n",
    "g.map_dataframe(sfp.utils.plot_mean, 'freq_space_angle', 'amplitude_estimate')\n",
    "#g.map_dataframe(sfp.utils.scatter_ci, 'freq_space_angle', 'amplitude_estimate_median', 'amplitude_estimate_std_error') \n",
    "_=g.ax.set_xticks(ticks)\n",
    "_=g.ax.set_xticklabels(labels)\n",
    "g.add_legend()\n",
    "\n",
    "# I know this goes from about -pi/2 to pi/2, in pi/12 steps\n",
    "ticks = [(np.pi*(i-6)/12.) for i in range(13)]\n",
    "labels = ['$\\\\frac{%s*\\\\pi}{12}$'%(i-6) for i in range(13)]\n",
    "\n",
    "tmp_df = df[df.stimulus_superclass=='mixtures']\n",
    "g = sns.FacetGrid(tmp_df, hue='eccen', palette='Reds', size=6)\n",
    "g.map(sns.regplot, 'freq_space_angle', 'amplitude_estimate', x_estimator=np.mean, fit_reg=False)\n",
    "g.map_dataframe(sfp.utils.plot_mean, 'freq_space_angle', 'amplitude_estimate')\n",
    "#g.map_dataframe(sfp.utils.scatter_ci, 'freq_space_angle', 'amplitude_estimate_median', 'amplitude_estimate_std_error') \n",
    "_=g.ax.set_xticks(ticks)\n",
    "_=g.ax.set_xticklabels(labels)\n",
    "g.add_legend()"
   ]
  },
  {
   "cell_type": "code",
   "execution_count": null,
   "metadata": {},
   "outputs": [],
   "source": [
    "angles = sorted(df.freq_space_angle.unique())\n",
    "stim_idxs = []\n",
    "for ang in angles:\n",
    "    class_of_interest = df[(df.freq_space_angle==ang)&(df.rounded_freq_space_distance==32)].stimulus_class.unique()[0]\n",
    "    stim_idxs.append(stim_df[stim_df.class_idx==class_of_interest].index[0])\n",
    "\n",
    "#stim_idxs = stim_df[stim_df.class_idx.isin(classes_of_interest)].index.values[::8]\n",
    "\n",
    "jbh.showIm([stim[i, :, :] for i in stim_idxs], ncols=4, zoom=.2)"
   ]
  },
  {
   "cell_type": "code",
   "execution_count": null,
   "metadata": {},
   "outputs": [],
   "source": [
    "tmp_df = pd.DataFrame(df.groupby(['eccen_bin', 'w_r', 'w_a']).modelmd.mean()).reset_index()\n",
    "\n",
    "g = sns.FacetGrid(tmp_df, col='eccen_bin', col_wrap=4, size=5)\n",
    "cbar_ax = g.fig.add_axes([.92, .3, .02, .4])  # <-- Create a colorbar axes\n",
    "g.map(sfp.utils.scatter_heat, 'w_a', 'w_r', 'amplitude_estimate_median', vmin=tmp_df['amplitude_estimate_median'].min(), \n",
    "      vmax=tmp_df['amplitude_estimate_median'].max())\n",
    "sns.plt.colorbar(cax=cbar_ax)\n",
    "g.fig.subplots_adjust(right=.9, top=.9)\n",
    "g.fig.suptitle('Average response amplitude estimates at each point in frequency space')"
   ]
  },
  {
   "cell_type": "code",
   "execution_count": null,
   "metadata": {},
   "outputs": [],
   "source": [
    "tmp_df = pd.pivot_table(df, 'amplitude_estimate_median', 'rounded_freq_space_distance', 'eccen_bin')\n",
    "norm_df = tmp_df.copy()\n",
    "for col in norm_df.columns:\n",
    "    norm_df[col] = norm_df[col] / norm_df[col].max()"
   ]
  },
  {
   "cell_type": "code",
   "execution_count": null,
   "metadata": {},
   "outputs": [],
   "source": [
    "fig = sns.heatmap(tmp_df, cmap='Reds')\n",
    "fig.invert_yaxis()\n",
    "fig.set_title('Average response amplitude estimates')"
   ]
  },
  {
   "cell_type": "code",
   "execution_count": null,
   "metadata": {},
   "outputs": [],
   "source": [
    "fig = sns.heatmap(norm_df, cmap='Reds')\n",
    "fig.invert_yaxis()\n",
    "fig.set_title('Normalized average response amplitude estimates')"
   ]
  },
  {
   "cell_type": "code",
   "execution_count": null,
   "metadata": {},
   "outputs": [],
   "source": [
    "sns.distplot(df.R2.values)"
   ]
  },
  {
   "cell_type": "markdown",
   "metadata": {},
   "source": [
    "# Create plots for first year talk"
   ]
  },
  {
   "cell_type": "code",
   "execution_count": null,
   "metadata": {},
   "outputs": [],
   "source": [
    "# for this, we're only using circular results\n",
    "tmp_df = df[df.stimulus_superclass=='circular']\n",
    "# tmp_df = tmp_df[['eccen', 'amplitude_estimate', 'freq_space_distance', 'Local spatial frequency (cpd)', 'bootstrap_num', 'hemi']]\n",
    "tmp_df = tmp_df[['eccen', 'amplitude_estimate', 'freq_space_distance', 'Local spatial frequency (cpd)', 'bootstrap_num']]"
   ]
  },
  {
   "cell_type": "code",
   "execution_count": null,
   "metadata": {},
   "outputs": [],
   "source": [
    "tmper_df = tmp_df[tmp_df.freq_space_distance==6.]\n",
    "tmper_df = tmper_df.groupby(['eccen', 'bootstrap_num'])['amplitude_estimate'].mean().unstack().reset_index()"
   ]
  },
  {
   "cell_type": "code",
   "execution_count": null,
   "metadata": {},
   "outputs": [],
   "source": [
    "hyp_df = pd.melt(tmp_df, ['eccen', 'amplitude_estimate', 'bootstrap_num'], var_name='Frequency')\n",
    "hyp_df = pd.DataFrame(hyp_df.groupby(['Frequency', 'value', 'bootstrap_num'])['amplitude_estimate'].mean()).reset_index()"
   ]
  },
  {
   "cell_type": "code",
   "execution_count": null,
   "metadata": {},
   "outputs": [],
   "source": [
    "print(\"freq_space_distance min: %.03f, max: %.03f\" % (tmp_df.freq_space_distance.min(), tmp_df.freq_space_distance.max()))\n",
    "print(\"Halfway in log space: %.03f\" % np.floor(2**((np.log2(181.) + np.log2(6.))/2.)))\n",
    "# because these are circular, freq_space_distance==w_r\n",
    "#stim_idx = stim_df[(stim_df.w_r.isin([6, 32, 181]))&(stim_df.w_a==0)].index[::8]\n",
    "stim_idx = stim_df[(stim_df.w_r.isin([6, 32, ]))&(stim_df.w_a==0)].index[::8]\n",
    "stims = [stim[i] for i in stim_idx]"
   ]
  },
  {
   "cell_type": "markdown",
   "metadata": {},
   "source": [
    "We actually want to plot windows of the stimuli instead of just sins"
   ]
  },
  {
   "cell_type": "code",
   "execution_count": null,
   "metadata": {},
   "outputs": [],
   "source": [
    "max_degree_rad = 12\n",
    "scale_factor = 10\n",
    "mask = sfp.utils.create_circle_mask(750, 350, scale_factor* 1080/(2*2*max_degree_rad), 1080)\n",
    "stim_windows = [mask * s + ~mask.astype(bool)*127 for s in stims]\n"
   ]
  },
  {
   "cell_type": "code",
   "execution_count": null,
   "metadata": {},
   "outputs": [],
   "source": [
    "import warnings\n",
    "def fit_log_norm_ci(x, y, ci_vals=[2.5, 97.5], **kwargs):\n",
    "    \"\"\"fit log norm to data and plot the result\n",
    "\n",
    "    to be used with seaborn.FacetGrid.map_dataframe\n",
    "    \"\"\"\n",
    "    data = kwargs.pop('data')\n",
    "    color = kwargs.pop('color')\n",
    "    lines = []\n",
    "    # we want to collapse hemispheres -- eventually this should be moved earlier\n",
    "    tmp = pd.DataFrame(data.groupby([x, 'bootstrap_num'])[y].mean()).reset_index()\n",
    "    for boot in data.bootstrap_num.unique():\n",
    "        plot_data = tmp.groupby(x)[[y, 'bootstrap_num']].apply(lambda x, j: x[x.bootstrap_num==j], boot)\n",
    "        plot_idx = plot_data.index.get_level_values(x)\n",
    "        plot_vals = plot_data[y].values\n",
    "        try:\n",
    "            popt, _ = sp.optimize.curve_fit(sfp.utils.log_norm_pdf, plot_idx, plot_vals)\n",
    "        except RuntimeError:\n",
    "            warnings.warn(\"For eccentricity %s and frequency space %s, bootstrap %d was not well fit by a log Gaussian and so is skipped\" % (data['Eccentricity (degrees)'].unique()[0], data['Frequency'].unique()[0], boot))\n",
    "        else:\n",
    "            lines.append(sfp.utils.log_norm_pdf(plot_idx, *popt))\n",
    "    lines = np.array(lines)\n",
    "    lines_mean = lines.mean(0)\n",
    "    cis = np.percentile(lines, ci_vals, 0)\n",
    "    sns.plt.fill_between(plot_idx, cis[0], cis[1], facecolor=color, alpha=.2, **kwargs)\n",
    "    sns.plt.plot(plot_idx, lines_mean, color=color, **kwargs)\n",
    "    return lines"
   ]
  },
  {
   "cell_type": "code",
   "execution_count": null,
   "metadata": {},
   "outputs": [],
   "source": [
    "def compare_hypotheses(df, axis_imgs=None, **kwargs):\n",
    "    \"\"\"\n",
    "    axis_imgs should be a 2d list / array containing 2-tuples. each tuple should contain the relative position of each\n",
    "        image and the corresponding image to put on an axis. the first dimension corresponds to the first axis, the second\n",
    "        to the second axis\n",
    "    \"\"\"\n",
    "    tmp_df = df[df.stimulus_superclass=='circular']\n",
    "#    tmp_df = tmp_df[['eccen', 'amplitude_estimate', 'freq_space_distance', 'Local spatial frequency (cpd)', 'bootstrap_num', 'hemi']]\n",
    "#    tmp_df = pd.melt(tmp_df, ['eccen', 'amplitude_estimate', 'bootstrap_num', 'hemi'], var_name='Frequency')\n",
    "    tmp_df = tmp_df[['eccen', 'amplitude_estimate', 'freq_space_distance', 'Local spatial frequency (cpd)', 'bootstrap_num',]]\n",
    "    tmp_df = pd.melt(tmp_df, ['eccen', 'amplitude_estimate', 'bootstrap_num',], var_name='Frequency')\n",
    "    tmp_df = tmp_df.rename(columns={'eccen': 'Eccentricity (degrees)'})\n",
    "\n",
    "    g = sns.FacetGrid(tmp_df, hue='Eccentricity (degrees)', row='Frequency',  palette='Reds', size=5, aspect=2, sharex=False,\n",
    "                      row_order=['Local spatial frequency (cpd)', 'freq_space_distance'])\n",
    "    #g.map_dataframe(sfp.utils.plot_mean, 'value', 'amplitude_estimate')\n",
    "    #g.map_dataframe(sfp.utils.scatter_ci_dist, 'value', 'amplitude_estimate', [50, 50])\n",
    "    g.map_dataframe(fit_log_norm_ci, 'value', 'amplitude_estimate', ci_vals=[16, 84])\n",
    "    g.map(sns.regplot, 'value', 'amplitude_estimate', x_estimator=np.mean, fit_reg=False, ci=0)\n",
    "    sns.plt.subplots_adjust(hspace=.6)\n",
    "    for i, ax in enumerate(g.axes.flatten()):\n",
    "        if i==1:\n",
    "            ax.set_title('Response as function of stimulus')\n",
    "        elif i==0:\n",
    "            ax.set_xlim([2**-3.5, 2**4])\n",
    "            ax.set_title('Response as function of local spatial frequency (cycles / degree)')\n",
    "        ax.set_xscale('log', basex=2)\n",
    "        for pos, img in axis_imgs[i]:\n",
    "            sfp.utils.add_img_to_xaxis(g.fig, ax, img, pos, vmin=0, vmax=255, size=.15)\n",
    "        ax.xaxis.set_visible(False)\n",
    "        ax.set_ylabel(\"Response amplitude estimate\")\n",
    "    #g.ax.set_xlim([2**-3, 2**3.5])\n",
    "    g.add_legend()\n",
    "    return g"
   ]
  },
  {
   "cell_type": "code",
   "execution_count": null,
   "metadata": {},
   "outputs": [],
   "source": [
    "with sns.plotting_context('poster'), sns.axes_style('white'):\n",
    "    g = compare_hypotheses(df, [zip([.025, .6], stim_windows), zip([.05, .6], stims)])\n",
    "    g.savefig('SF-wl_subj045-results.svg')"
   ]
  },
  {
   "cell_type": "code",
   "execution_count": null,
   "metadata": {},
   "outputs": [],
   "source": [
    "tmper_df = tmp_df[['Local spatial frequency (cpd)', 'amplitude_estimate', 'eccen']]\n",
    "\n",
    "def fit_lnorm(data):\n",
    "    popt, pcov = sp.optimize.curve_fit(sfp.utils.log_norm_pdf, data.index, data.values)\n",
    "    return sfp.utils.log_norm_pdf(data.index, *popt), popt\n",
    "\n",
    "\n",
    "bandwidth = []\n",
    "peak = []\n",
    "for n, g in tmper_df.groupby('eccen'):\n",
    "    mn_data = g.groupby(['Local spatial frequency (cpd)'])['amplitude_estimate'].mean()\n",
    "    fit_data, params = fit_lnorm(mn_data)\n",
    "    peak.append([n, mn_data.index[np.argmax(fit_data.values)]])\n",
    "    bandwidth.append([n, np.exp(params[2])])\n",
    "\n",
    "peak = np.array([((int(i[0])+int(i[2]))/2., j) for i,j in peak])\n",
    "bandwidth = np.array([((int(i[0])+int(i[2]))/2., j) for i,j in bandwidth])\n",
    "print peak\n",
    "print bandwidth"
   ]
  },
  {
   "cell_type": "code",
   "execution_count": null,
   "metadata": {},
   "outputs": [],
   "source": [
    "sns.plt.scatter(bandwidth[:,0], bandwidth[:,1], c=sns.color_palette('Reds', 6), s=75)"
   ]
  },
  {
   "cell_type": "code",
   "execution_count": null,
   "metadata": {},
   "outputs": [],
   "source": [
    "def hyperbola(x, a):\n",
    "    b = 1.\n",
    "    period = x*a\n",
    "    period[x<b] = a*b\n",
    "    return 1./period\n",
    "\n",
    "def fit_hyperbola(peak):\n",
    "    popt, pcov = sp.optimize.curve_fit(hyperbola, peak[:,0], peak[:,1])\n",
    "    return popt\n",
    "\n",
    "opt_a = fit_hyperbola(peak)"
   ]
  },
  {
   "cell_type": "code",
   "execution_count": null,
   "metadata": {},
   "outputs": [],
   "source": [
    "peak_01 = peak\n",
    "opt_a_01 = opt_a"
   ]
  },
  {
   "cell_type": "code",
   "execution_count": null,
   "metadata": {},
   "outputs": [],
   "source": [
    "ecc = np.linspace(.01, 9, 50)\n",
    "RF_scale_factor = 4.\n",
    "V1_RF_size = np.concatenate([np.ones(len(ecc[ecc<.5]))/RF_scale_factor, np.linspace(1/RF_scale_factor, 4/RF_scale_factor, len(ecc[ecc>=.5]))])\n",
    "#V2_RF_size = np.concatenate([2*np.ones(len(ecc[ecc<4])), np.linspace(2, 2.5, len(ecc[ecc>=4]))])\n",
    "\n",
    "Olsson_peak = [2.75, 2.11, 1.76, 1.47,1.24, 1.06, .88, .77, .66, .60]\n",
    "Olsson_ecc = [1, 2, 3, 4, 5, 6, 7, 8, 9, 10]\n",
    "\n",
    "with sns.plotting_context('poster', font_scale=1), sns.axes_style('white'):\n",
    "    # because this doesn't represent data, just intuition, we use this.\n",
    "#    with plt.xkcd():\n",
    "    x = np.linspace(.01, 9, 50)\n",
    "    y = []\n",
    "    fig, axes = sns.plt.subplots(1,1, figsize=(13,6))\n",
    "    ax = axes\n",
    "    # this gives intuitive plots, currently we want the possible hypotheses instead\n",
    "#         for i in range(3):\n",
    "#             y.append(10/(x+2)+i)\n",
    "#             ax.plot(x, y[-1],  label='V%s'%(i+1), color=['r','g','b'][i])\n",
    "    colors = sns.color_palette(n_colors=3)\n",
    "    for i, (p, o) in enumerate([[peak_01, opt_a_01], [peak_42, opt_a_42], [peak_45, opt_a_45]]):\n",
    "#    ax.plot(ecc, hyperbola(ecc, opt_a), '-', label='scaling')\n",
    "#        ax.plot(ecc, hyperbola(ecc, o), '-', label='scaling', c= colors[i])\n",
    "        ax.plot(ecc, hyperbola(ecc, o), '-', label='Subject %s'%(i+1), c= colors[i])\n",
    "#    ax.plot(ecc, np.ones(len(ecc))*RF_scale_factor, '--', label='constant')\n",
    "#        ax.set_ylim((0,8))\n",
    "#    sns.plt.scatter(peak[:, 0], peak[:, 1], c=sns.color_palette('Reds', 6), s=75,)# label='This study')\n",
    "        if i==1:\n",
    "            sns.plt.scatter(p[:, 0]+.07, p[:, 1], c=colors[i], s=75,)# label='This study')\n",
    "        else:\n",
    "            sns.plt.scatter(p[:, 0], p[:, 1], c=colors[i], s=75,)# label='This study')\n",
    "#    sns.plt.scatter(Olsson_ecc, Olsson_peak, s=75, c= sns.color_palette('Blues', 10), label='Olsson pilot')\n",
    "    ax.set_xlabel(\"Receptive field center eccentricity (degrees)\")\n",
    "    ax.set_ylabel(\"Peak spatial frequency (cpd)\")\n",
    "    ax.set_title(\"\")\n",
    "    ax.set_ylim((.5, 4.5))\n",
    "    ax.set_xlim((0, 11))\n",
    "\n",
    "    sns.plt.legend(title=\"Subjects\", loc='best')\n",
    "    ax.figure.savefig('results-hypotheses.svg', bbox_inches='tight')"
   ]
  },
  {
   "cell_type": "markdown",
   "metadata": {},
   "source": [
    "# Double-check design matrix\n",
    "\n",
    "In order to use this, run everything except for the `sfp.experiment.run` statement first, which will create pictures, one from each class, in the order the `design_df` thinks they are presented. Then run the `sfp.experiment.run` block on a two-monitor setup so one monitor can display the experiment while you have this notebook open in the other. This will allow you to make sure the stimuli are being ordered correctly.\n",
    "\n",
    "You can also compare `design_df.index.values` to a picture of the design matrix to make sure things got transferred correctly there as well."
   ]
  },
  {
   "cell_type": "code",
   "execution_count": null,
   "metadata": {},
   "outputs": [],
   "source": [
    "import pandas as pd\n",
    "import numpy as np\n",
    "%matplotlib inline\n",
    "import sys\n",
    "sys.path.append('..')\n",
    "import sfp\n",
    "import h5py\n",
    "import os\n",
    "import pyPyrTools.JBhelpers as jbh"
   ]
  },
  {
   "cell_type": "code",
   "execution_count": null,
   "metadata": {},
   "outputs": [],
   "source": [
    "# This file contains the button presses (which also show the TR onsets) \n",
    "# and the order the stimuli were presented in (along with their timing)\n",
    "behav_results = h5py.File('../data/raw_behavioral/2017-Aug-23_Noah_sess1.hdf5')\n",
    "\n",
    "# This contains the information on each stimulus, allowing us to determine whether\n",
    "# some stimuli are part of the same class or a separate one.\n",
    "stim_df = pd.read_csv(\"../data/stimuli/unshuffled_stim_description.csv\", index_col=0)\n",
    "\n",
    "# Array full of the actual stimuli\n",
    "stim = np.load('../data/stimuli/unshuffled.npy')\n",
    "\n",
    "# for this, we just want any run, since they all contain the same classes and we don't care about their order\n",
    "design_df, stim_length, TR = sfp.first_level_analysis.create_design_df(behav_results, stim_df, 1, drop_blanks=False)\n",
    "design_df = design_df.reset_index(drop=True).set_index(\"class_idx\")\n",
    "\n",
    "stim_df['class_idx'] = np.floor(stim_df['index']/8)\n",
    "stim_df = stim_df.set_index('class_idx')\n",
    "stim_df['Onset time (TR)'] = design_df['Onset time (TR)']\n",
    "stim_df = stim_df.reset_index().sort('Onset time (TR)')\n",
    "\n",
    "stim_df = stim_df.drop_duplicates('class_idx')\n",
    "stim_idx = stim_df.index.values"
   ]
  },
  {
   "cell_type": "code",
   "execution_count": null,
   "metadata": {},
   "outputs": [],
   "source": [
    "data = sfp.experiment.run('../data/stimuli/unshuffled.npy', '../data/stimuli/Noah_run01_idx.npy', None, screen=0)"
   ]
  },
  {
   "cell_type": "code",
   "execution_count": null,
   "metadata": {},
   "outputs": [],
   "source": [
    "jbh.showIm([stim[i,:,:] for i in stim_idx[:10]], ncols=5, zoom=.2)"
   ]
  },
  {
   "cell_type": "code",
   "execution_count": null,
   "metadata": {},
   "outputs": [],
   "source": [
    "jbh.showIm([stim[i,:,:] for i in stim_idx[10:20]], ncols=5, zoom=.2)"
   ]
  },
  {
   "cell_type": "code",
   "execution_count": null,
   "metadata": {},
   "outputs": [],
   "source": [
    "jbh.showIm([stim[i,:,:] for i in stim_idx[20:30]], ncols=5, zoom=.2)"
   ]
  },
  {
   "cell_type": "code",
   "execution_count": null,
   "metadata": {},
   "outputs": [],
   "source": [
    "jbh.showIm([stim[i,:,:] for i in stim_idx[30:40]], ncols=5, zoom=.2)"
   ]
  },
  {
   "cell_type": "code",
   "execution_count": null,
   "metadata": {},
   "outputs": [],
   "source": [
    "jbh.showIm([stim[i,:,:] for i in stim_idx[40:50]], ncols=5, zoom=.2)"
   ]
  },
  {
   "cell_type": "code",
   "execution_count": null,
   "metadata": {},
   "outputs": [],
   "source": [
    "jbh.showIm([stim[i,:,:] for i in stim_idx[50:60]], ncols=5, zoom=.2)"
   ]
  },
  {
   "cell_type": "code",
   "execution_count": null,
   "metadata": {},
   "outputs": [],
   "source": [
    "jbh.showIm([stim[i,:,:] for i in stim_idx[60:]], ncols=5, zoom=.2)"
   ]
  }
 ],
 "metadata": {
  "kernelspec": {
   "display_name": "Python [conda root]",
   "language": "python",
   "name": "conda-root-py"
  },
  "language_info": {
   "codemirror_mode": {
    "name": "ipython",
    "version": 2
   },
   "file_extension": ".py",
   "mimetype": "text/x-python",
   "name": "python",
   "nbconvert_exporter": "python",
   "pygments_lexer": "ipython2",
   "version": "2.7.12"
  }
 },
 "nbformat": 4,
 "nbformat_minor": 1
}
