{
 "cells": [
  {
   "cell_type": "markdown",
   "metadata": {},
   "source": [
    "And then\n",
    "\n",
    "- do something with the \"double check design matrix\" and \"first year talk\" sections of this notebook\n",
    "- get working with snakemake"
   ]
  },
  {
   "cell_type": "code",
   "execution_count": null,
   "metadata": {},
   "outputs": [],
   "source": [
    "df = d['df']\n",
    "tuning_df = sfp.tuning_curves.main(df[df.bootstrap_num.isin(range(2))], bounds=(2**(-5), 2**5))"
   ]
  },
  {
   "cell_type": "code",
   "execution_count": null,
   "metadata": {},
   "outputs": [],
   "source": [
    "sfp.plotting.check_tuning_curves(tuning_df, 'test_%s.svg')"
   ]
  },
  {
   "cell_type": "code",
   "execution_count": null,
   "metadata": {},
   "outputs": [],
   "source": [
    "tuning_df_summary = sfp.tuning_curves.main(ds['df'])\n",
    "#tuning_df_summary_2 = sfp.tuning_curves.main(ds['df'], bounds=(2**(-4), 2**7))\n",
    "#tuning_df_summary = pd.concat([tuning_df_summary_1.assign(bounds='tight'), tuning_df_summary_2.assign(bounds='loose')])"
   ]
  },
  {
   "cell_type": "code",
   "execution_count": null,
   "metadata": {},
   "outputs": [],
   "source": [
    "sfp.plotting.check_tuning_curves(tuning_df_summary, 'test_%s.svg')"
   ]
  },
  {
   "cell_type": "code",
   "execution_count": null,
   "metadata": {},
   "outputs": [],
   "source": [
    "df = ds['df']\n",
    "tmp = df[(df.eccen=='02-03')]"
   ]
  },
  {
   "cell_type": "code",
   "execution_count": null,
   "metadata": {},
   "outputs": [],
   "source": [
    "tmp = tuning_df_summary_1[(tuning_df_summary_1.eccen=='01-02')&(tuning_df_summary_1.stimulus_superclass=='forward diagonal')&(tuning_df_summary_1.varea==1)&(tuning_df_summary_1.frequency_type=='freq_space_distance')]"
   ]
  },
  {
   "cell_type": "code",
   "execution_count": null,
   "metadata": {},
   "outputs": [],
   "source": [
    "g = sns.FacetGrid(tuning_df_summary, col='frequency_type', row='bounds', aspect=2)\n",
    "g.map(lambda x,y,**kwargs: sns.plt.scatter(np.log2(x), np.log2(y), **kwargs), 'tuning_curve_mu', 'tuning_curve_sigma')"
   ]
  },
  {
   "cell_type": "code",
   "execution_count": null,
   "metadata": {},
   "outputs": [],
   "source": [
    "def plot_tuning_curve(**kwargs):\n",
    "    data = kwargs.pop('data')\n",
    "    x, y = sfp.tuning_curves.get_tuning_curve_xy_from_df(data, )#x=np.logspace(-7, -2, 10000, base=2))\n",
    "    sns.plt.semilogx(x, y, basex=2)\n",
    "\n",
    "g = sns.FacetGrid(tuning_df_summary[(tuning_df_summary.varea==1)], row='eccen', col='stimulus_superclass', hue='frequency_type')\n",
    "g.map(sns.plt.scatter, 'frequency_value', 'amplitude_estimate')\n",
    "g.map_dataframe(plot_tuning_curve)\n",
    "#for ax in g.axes.flatten():\n",
    "#    ax.set_xlim((2**-7, 2**-2))\n",
    "g.add_legend()\n",
    "g.set_titles(\"eccen={row_name} | {col_name}\")\n",
    "g.fig.suptitle(\"varea = 1\")\n",
    "sns.plt.subplots_adjust(top=.95)\n",
    "g.savefig('test.svg')"
   ]
  },
  {
   "cell_type": "code",
   "execution_count": null,
   "metadata": {},
   "outputs": [],
   "source": [
    "def plot_tuning_curve(**kwargs):\n",
    "    data = kwargs.pop('data')\n",
    "    x, y = sfp.tuning_curves.get_tuning_curve_xy_from_df(data)\n",
    "    sns.plt.semilogx(x, y, basex=2)\n",
    "\n",
    "g = sns.FacetGrid(tuning_df[(tuning_df.bootstrap_num==1)&(tuning_df.varea==1)], row='eccen', col='stimulus_superclass', hue='frequency_type')\n",
    "g.map(sns.plt.scatter, 'frequency_value', 'amplitude_estimate')\n",
    "g.map_dataframe(plot_tuning_curve)"
   ]
  },
  {
   "cell_type": "code",
   "execution_count": null,
   "metadata": {},
   "outputs": [],
   "source": [
    "tmp = tuning_df[(tuning_df.bootstrap_num==2)&(tuning_df.varea==2)&(tuning_df.eccen=='11-12')&(tuning_df.stimulus_superclass=='radial')&(tuning_df.frequency_type=='freq_space_distance')]"
   ]
  },
  {
   "cell_type": "code",
   "execution_count": null,
   "metadata": {},
   "outputs": [],
   "source": [
    "tmp"
   ]
  },
  {
   "cell_type": "code",
   "execution_count": null,
   "metadata": {},
   "outputs": [],
   "source": [
    "sns.plt.scatter(tmp['frequency_value'], tmp['amplitude_estimate'])\n",
    "plot_tuning_curve(data=tmp)"
   ]
  },
  {
   "cell_type": "code",
   "execution_count": null,
   "metadata": {},
   "outputs": [],
   "source": [
    "a, mode, sigma=(0.98818969370641285, 0.43650524309564304, 0.79026091846015978)\n",
    "x, y = sfp.tuning_curves.get_tuning_curve_xy(a, mode, sigma)\n",
    "m, bw, lhm, hhm, warn, x, y = sfp.tuning_curves.log_norm_describe_full(a, mode, sigma)\n"
   ]
  },
  {
   "cell_type": "code",
   "execution_count": null,
   "metadata": {},
   "outputs": [],
   "source": [
    "a, mode, sigma = (7.6414643191554493e+26, 31.996620943849184, 10.4518910963655)\n",
    "mu = np.log(mode) + sigma**2\n",
    "var = (np.exp(sigma**2)-1) * (np.exp(2*mu + sigma**2))"
   ]
  },
  {
   "cell_type": "code",
   "execution_count": null,
   "metadata": {},
   "outputs": [],
   "source": [
    "x, y = sfp.tuning_curves.get_tuning_curve_xy(a, mode, sigma)"
   ]
  },
  {
   "cell_type": "code",
   "execution_count": null,
   "metadata": {},
   "outputs": [],
   "source": [
    "sns.plt.semilogx(x, y, basex=2)\n",
    "#sns.plt.plot([x.min(), x.max()], [y.max()/2, y.max()/2], 'k--')"
   ]
  },
  {
   "cell_type": "code",
   "execution_count": null,
   "metadata": {},
   "outputs": [],
   "source": [
    "sns.plt.plot(np.log(x), np.log(y))#, basex=2)\n",
    "#sns.plt.plot([x.min(), x.max()], [y.max()/2, y.max()/2], 'k--')"
   ]
  },
  {
   "cell_type": "markdown",
   "metadata": {},
   "source": [
    "# Analyzing the first-level results\n",
    "\n",
    "After running our GLM analysis, we have the estimated amplitude responses of each voxel to each image class. Along with Noah Benson's anatomical template / Bayesian model, we also have each voxel's visual area and location in the visual field (in terms of eccentricity and polar angle). By combining the information contained within them, along with the dataframe describing each stimulus class, we can construct our tuning curves."
   ]
  },
  {
   "cell_type": "code",
   "execution_count": null,
   "metadata": {
    "init_cell": true
   },
   "outputs": [
    {
     "name": "stderr",
     "output_type": "stream",
     "text": [
      "/home/billbrod/anaconda2/lib/python2.7/site-packages/h5py/__init__.py:34: FutureWarning: Conversion of the second argument of issubdtype from `float` to `np.floating` is deprecated. In future, it will be treated as `np.float64 == np.dtype(float).type`.\n",
      "  from ._conv import register_converters as _register_converters\n",
      "/home/billbrod/anaconda2/lib/python2.7/site-packages/matplotlib/__init__.py:1357: UserWarning:  This call to matplotlib.use() has no effect\n",
      "because the backend has already been chosen;\n",
      "matplotlib.use() must be called *before* pylab, matplotlib.pyplot,\n",
      "or matplotlib.backends is imported for the first time.\n",
      "\n",
      "  warnings.warn(_use_error_msg)\n"
     ]
    }
   ],
   "source": [
    "import pandas as pd\n",
    "import nibabel as nib\n",
    "import numpy as np\n",
    "import seaborn as sns\n",
    "%matplotlib inline\n",
    "import sys\n",
    "sys.path.append('..')\n",
    "import sfp\n",
    "import h5py\n",
    "import os\n",
    "import itertools\n",
    "import pyPyrTools.JBhelpers as jbh\n",
    "import pyPyrTools as ppt\n",
    "import scipy as sp\n",
    "from matplotlib.colors import LinearSegmentedColormap "
   ]
  },
  {
   "cell_type": "code",
   "execution_count": null,
   "metadata": {},
   "outputs": [],
   "source": [
    "d = sfp.utils.load_data('wlsubj042', 'pilot01', atlas_type='prior', df_mode='full')\n",
    "ds = sfp.utils.load_data('wlsubj042', 'pilot01', atlas_type='prior', df_mode='summary')"
   ]
  },
  {
   "cell_type": "markdown",
   "metadata": {},
   "source": [
    "Here we see the different stimulus classes, as plotted in frequency space, colored by their superclass. These numbers are roughly log-spaced (doubling).\n",
    "\n",
    "We also, in order to double-check some of our calculations, plot the distance and angle in frequency space: they look exactly correct."
   ]
  },
  {
   "cell_type": "code",
   "execution_count": null,
   "metadata": {},
   "outputs": [],
   "source": [
    "sfp.plotting.stimuli_properties(d['stim_df'])"
   ]
  },
  {
   "cell_type": "code",
   "execution_count": null,
   "metadata": {},
   "outputs": [],
   "source": [
    "sfp.plotting.local_spatial_frequency(d['df'])"
   ]
  },
  {
   "cell_type": "code",
   "execution_count": null,
   "metadata": {},
   "outputs": [],
   "source": [
    "_ = sfp.plotting.stimuli_linear_approximation(d['stim'], d['stim_df'], d['stim_type'], 11, freq_space_distance=181, phi=np.pi/4, stimulus_superclass='radial', save_path='test.svg')"
   ]
  },
  {
   "cell_type": "code",
   "execution_count": null,
   "metadata": {},
   "outputs": [],
   "source": [
    "Rmin, Rmax = sfp.first_level_analysis.find_ecc_range_in_degrees(stim[0,:,:], 12)\n",
    "print(\"Inside radius of stimulus annulus: %.02f\" % Rmin)\n",
    "print(\"Outside radius of stimulus annulus: %.02f\" % Rmax)"
   ]
  },
  {
   "cell_type": "code",
   "execution_count": null,
   "metadata": {},
   "outputs": [],
   "source": [
    "tmp_df = tmp_df[tmp_df.eccen=='02-03']"
   ]
  },
  {
   "cell_type": "code",
   "execution_count": null,
   "metadata": {},
   "outputs": [],
   "source": [
    "tmp_df.groupby('freq_space_distance')['amplitude_estimate'].apply(np.percentile, [2.5, 97.5])"
   ]
  },
  {
   "cell_type": "code",
   "execution_count": null,
   "metadata": {},
   "outputs": [],
   "source": [
    "import matplotlib.pyplot as plt\n",
    "def plot_median(x, y, **kwargs):\n",
    "    \"\"\"plot line through center points, for use with seaborn's map_dataframe\n",
    "    \"\"\"\n",
    "    data = kwargs.pop('data')\n",
    "    plot_data = data.groupby(x)[y].median()\n",
    "    plt.plot(plot_data.index, plot_data.values, **kwargs)\n",
    "\n",
    "\n",
    "def scatter_ci_col(x, y, ci, **kwargs):\n",
    "    \"\"\"plot center points and specified CIs, for use with seaborn's map_dataframe\n",
    "\n",
    "    based on seaborn.linearmodels.scatterplot. CIs are taken from a column in this function.\n",
    "    \"\"\"\n",
    "    data = kwargs.pop('data')\n",
    "    plot_data = data.groupby(x)[y].median()\n",
    "    plot_cis = data.groupby(x)[ci].median()\n",
    "    plt.scatter(plot_data.index, plot_data.values, **kwargs)\n",
    "    for (x, ci), y in zip(plot_cis.iteritems(), plot_data.values):\n",
    "        plt.plot([x, x], [y+ci, y-ci], **kwargs)\n",
    "\n",
    "\n",
    "def scatter_ci_dist(x, y, ci_vals=[2.5, 97.5], **kwargs):\n",
    "    \"\"\"plot center points and specified CIs, for use with seaborn's map_dataframe\n",
    "\n",
    "    based on seaborn.linearmodels.scatterplot. CIs are taken from a distribution in this\n",
    "    function. Therefore, it's assumed that the values being passed to it are values from a\n",
    "    bootstrap distribution.\n",
    "\n",
    "    by default, this draws the 95% confidence interval. to change this, change the ci_vals\n",
    "    argument. for instance, if you only want to draw the median point, pass ci_vals=[50, 50] (this is\n",
    "    eqiuvalent to just calling plt.scatter)\n",
    "    \"\"\"\n",
    "    data = kwargs.pop('data')\n",
    "    plot_data = data.groupby(x)[y].median()\n",
    "    plot_cis = data.groupby(x)[y].apply(np.percentile, ci_vals)\n",
    "    plt.scatter(plot_data.index, plot_data.values, **kwargs)\n",
    "    for x, (ci_low, ci_high) in plot_cis.iteritems():\n",
    "        plt.plot([x, x], [ci_low, ci_high], **kwargs)\n",
    "\n",
    "def plot_data(df, x_col='freq_space_distance', **kwargs):\n",
    "    # df = df[df.stimulus_superclass.isin(['radial', 'circular'])]\n",
    "    col_order = [i for i in sfp.plotting.LOGPOLAR_SUPERCLASS_ORDER if i in df.stimulus_superclass.unique()]\n",
    "    g = sns.FacetGrid(df, hue='eccen', palette='Reds', size=5, row='varea', col='stimulus_superclass',\n",
    "                      col_order=col_order)\n",
    "    if 'amplitude_estimate_std_error' in df.columns:\n",
    "        g.map_dataframe(plot_median, x_col, 'amplitude_estimate_median')\n",
    "        g.map_dataframe(scatter_ci_col, x_col, 'amplitude_estimate_median', 'amplitude_estimate_std_error', **kwargs)\n",
    "    else:\n",
    "        g.map_dataframe(plot_median, x_col, 'amplitude_estimate')\n",
    "        g.map_dataframe(scatter_ci_dist, x_col, 'amplitude_estimate', **kwargs)\n",
    "    for ax in g.axes.flatten():\n",
    "        ax.set_xscale('log', basex=2)\n",
    "    g.add_legend()"
   ]
  },
  {
   "cell_type": "code",
   "execution_count": null,
   "metadata": {},
   "outputs": [],
   "source": [
    "plot_data(ds['df'], 'freq_space_distance',)# ci_vals=[16, 84])"
   ]
  },
  {
   "cell_type": "code",
   "execution_count": null,
   "metadata": {},
   "outputs": [],
   "source": [
    "plot_data(d['df'], 'freq_space_distance',)# ci_vals=[16, 84])"
   ]
  },
  {
   "cell_type": "code",
   "execution_count": null,
   "metadata": {},
   "outputs": [],
   "source": [
    "tmp_df = d['df'][d['df'].stimulus_superclass=='circular']\n",
    "g = sns.FacetGrid(tmp_df, hue='eccen', palette='Reds', size=5,)\n",
    "#g.map(sns.regplot, 'rounded_freq_space_distance', 'amplitude_estimate', x_estimator=np.mean, fit_reg=False)\n",
    "g.map_dataframe(sfp.utils.plot_mean, 'rounded_freq_space_distance', 'amplitude_estimate')\n",
    "g.map_dataframe(sfp.utils.scatter_ci_dist, 'freq_space_distance', 'amplitude_estimate')\n",
    "for ax in g.axes.flatten():\n",
    "    ax.set_xscale('log', basex=2)\n",
    "g.add_legend()"
   ]
  },
  {
   "cell_type": "code",
   "execution_count": null,
   "metadata": {},
   "outputs": [],
   "source": [
    "g = sns.FacetGrid(df, hue='eccen', palette='Reds', size=5, col='stimulus_superclass', col_wrap=2,\n",
    "                  col_order=['circular', 'radial', 'forward spiral', 'reverse spiral', 'mixtures'])\n",
    "#g.map(sns.regplot, 'freq_space_distance', 'amplitude_estimate', x_estimator=np.mean, fit_reg=False)\n",
    "g.map_dataframe(sfp.utils.plot_mean, 'freq_space_distance', 'amplitude_estimate')\n",
    "g.map_dataframe(sfp.utils.scatter_ci_dist, 'freq_space_distance', 'amplitude_estimate')\n",
    "for ax in g.axes:\n",
    "    ax.set_xscale('log', basex=2)\n",
    "g.add_legend()"
   ]
  },
  {
   "cell_type": "markdown",
   "metadata": {},
   "source": [
    "If there were no scaling in the visual system, such that neurons at different places in the visual field were expected to have similar properties, the bottom would all line up well, and it doesn't!"
   ]
  },
  {
   "cell_type": "code",
   "execution_count": null,
   "metadata": {},
   "outputs": [],
   "source": [
    "classes_of_interest = []\n",
    "classes_of_interest.extend(df[(df.stimulus_superclass=='circular')&(df.rounded_freq_space_distance==11)].stimulus_class.unique())\n",
    "classes_of_interest.extend(df[(df.stimulus_superclass=='radial')&(df.rounded_freq_space_distance==64)].stimulus_class.unique())\n",
    "classes_of_interest.extend(df[(df.stimulus_superclass=='forward spiral')&(df.rounded_freq_space_distance==23)].stimulus_class.unique())\n",
    "classes_of_interest.extend(df[(df.stimulus_superclass=='reverse spiral')&(df.rounded_freq_space_distance==23)].stimulus_class.unique())\n",
    "#classes_of_interest.append(df[df.stimulus_superclass=='mixtures'].stimulus_class.values[0])\n",
    "\n",
    "stim_idxs = stim_df[stim_df.class_idx.isin(classes_of_interest)].index.values[::8]\n",
    "\n",
    "jbh.showIm([stim[i, :, :] for i in stim_idxs], ncols=4, zoom=.2)"
   ]
  },
  {
   "cell_type": "code",
   "execution_count": null,
   "metadata": {},
   "outputs": [],
   "source": [
    "# I know this goes from about -pi/2 to pi/2, in pi/12 steps\n",
    "ticks = [(np.pi*(i-6)/12.) for i in range(13)]\n",
    "labels = ['$\\\\frac{%s*\\\\pi}{12}$'%(i-6) for i in range(13)]\n",
    "\n",
    "g = sns.FacetGrid(df, hue='eccen', palette='Reds', size=6)\n",
    "g.map(sns.regplot, 'freq_space_angle', 'amplitude_estimate', x_estimator=np.mean, fit_reg=False)\n",
    "g.map_dataframe(sfp.utils.plot_mean, 'freq_space_angle', 'amplitude_estimate')\n",
    "#g.map_dataframe(sfp.utils.scatter_ci, 'freq_space_angle', 'amplitude_estimate_median', 'amplitude_estimate_std_error') \n",
    "_=g.ax.set_xticks(ticks)\n",
    "_=g.ax.set_xticklabels(labels)\n",
    "g.add_legend()\n",
    "\n",
    "# I know this goes from about -pi/2 to pi/2, in pi/12 steps\n",
    "ticks = [(np.pi*(i-6)/12.) for i in range(13)]\n",
    "labels = ['$\\\\frac{%s*\\\\pi}{12}$'%(i-6) for i in range(13)]\n",
    "\n",
    "tmp_df = df[df.stimulus_superclass=='mixtures']\n",
    "g = sns.FacetGrid(tmp_df, hue='eccen', palette='Reds', size=6)\n",
    "g.map(sns.regplot, 'freq_space_angle', 'amplitude_estimate', x_estimator=np.mean, fit_reg=False)\n",
    "g.map_dataframe(sfp.utils.plot_mean, 'freq_space_angle', 'amplitude_estimate')\n",
    "#g.map_dataframe(sfp.utils.scatter_ci, 'freq_space_angle', 'amplitude_estimate_median', 'amplitude_estimate_std_error') \n",
    "_=g.ax.set_xticks(ticks)\n",
    "_=g.ax.set_xticklabels(labels)\n",
    "g.add_legend()"
   ]
  },
  {
   "cell_type": "code",
   "execution_count": null,
   "metadata": {},
   "outputs": [],
   "source": [
    "angles = sorted(df.freq_space_angle.unique())\n",
    "stim_idxs = []\n",
    "for ang in angles:\n",
    "    class_of_interest = df[(df.freq_space_angle==ang)&(df.rounded_freq_space_distance==32)].stimulus_class.unique()[0]\n",
    "    stim_idxs.append(stim_df[stim_df.class_idx==class_of_interest].index[0])\n",
    "\n",
    "#stim_idxs = stim_df[stim_df.class_idx.isin(classes_of_interest)].index.values[::8]\n",
    "\n",
    "jbh.showIm([stim[i, :, :] for i in stim_idxs], ncols=4, zoom=.2)"
   ]
  },
  {
   "cell_type": "code",
   "execution_count": null,
   "metadata": {},
   "outputs": [],
   "source": [
    "tmp_df = pd.DataFrame(df.groupby(['eccen_bin', 'w_r', 'w_a']).modelmd.mean()).reset_index()\n",
    "\n",
    "g = sns.FacetGrid(tmp_df, col='eccen_bin', col_wrap=4, size=5)\n",
    "cbar_ax = g.fig.add_axes([.92, .3, .02, .4])  # <-- Create a colorbar axes\n",
    "g.map(sfp.utils.scatter_heat, 'w_a', 'w_r', 'amplitude_estimate_median', vmin=tmp_df['amplitude_estimate_median'].min(), \n",
    "      vmax=tmp_df['amplitude_estimate_median'].max())\n",
    "sns.plt.colorbar(cax=cbar_ax)\n",
    "g.fig.subplots_adjust(right=.9, top=.9)\n",
    "g.fig.suptitle('Average response amplitude estimates at each point in frequency space')"
   ]
  },
  {
   "cell_type": "code",
   "execution_count": null,
   "metadata": {},
   "outputs": [],
   "source": [
    "tmp_df = pd.pivot_table(df, 'amplitude_estimate_median', 'rounded_freq_space_distance', 'eccen_bin')\n",
    "norm_df = tmp_df.copy()\n",
    "for col in norm_df.columns:\n",
    "    norm_df[col] = norm_df[col] / norm_df[col].max()"
   ]
  },
  {
   "cell_type": "code",
   "execution_count": null,
   "metadata": {},
   "outputs": [],
   "source": [
    "fig = sns.heatmap(tmp_df, cmap='Reds')\n",
    "fig.invert_yaxis()\n",
    "fig.set_title('Average response amplitude estimates')"
   ]
  },
  {
   "cell_type": "code",
   "execution_count": null,
   "metadata": {},
   "outputs": [],
   "source": [
    "fig = sns.heatmap(norm_df, cmap='Reds')\n",
    "fig.invert_yaxis()\n",
    "fig.set_title('Normalized average response amplitude estimates')"
   ]
  },
  {
   "cell_type": "code",
   "execution_count": null,
   "metadata": {},
   "outputs": [],
   "source": [
    "df = pd.read_csv('/home/billbrod/Data/spatial_frequency_preferences/derivatives/first_level_analysis/stim_class/prior/sub-wlsubj001/ses-pilot01/sub-wlsubj001_ses-pilot01_task-sfp_summary_v1_e2-8_eccen_bin_hemi_bin.csv')"
   ]
  },
  {
   "cell_type": "code",
   "execution_count": null,
   "metadata": {},
   "outputs": [],
   "source": [
    "sns.distplot(df.R2.values)"
   ]
  },
  {
   "cell_type": "markdown",
   "metadata": {},
   "source": [
    "# Create plots for first year talk"
   ]
  },
  {
   "cell_type": "code",
   "execution_count": null,
   "metadata": {},
   "outputs": [],
   "source": [
    "# for this, we're only using circular results\n",
    "tmp_df = df[df.stimulus_superclass=='circular']\n",
    "# tmp_df = tmp_df[['eccen', 'amplitude_estimate', 'freq_space_distance', 'Local spatial frequency (cpd)', 'bootstrap_num', 'hemi']]\n",
    "tmp_df = tmp_df[['eccen', 'amplitude_estimate', 'freq_space_distance', 'Local spatial frequency (cpd)', 'bootstrap_num']]"
   ]
  },
  {
   "cell_type": "code",
   "execution_count": null,
   "metadata": {},
   "outputs": [],
   "source": [
    "tmper_df = tmp_df[tmp_df.freq_space_distance==6.]\n",
    "tmper_df = tmper_df.groupby(['eccen', 'bootstrap_num'])['amplitude_estimate'].mean().unstack().reset_index()"
   ]
  },
  {
   "cell_type": "code",
   "execution_count": null,
   "metadata": {},
   "outputs": [],
   "source": [
    "hyp_df = pd.melt(tmp_df, ['eccen', 'amplitude_estimate', 'bootstrap_num'], var_name='Frequency')\n",
    "hyp_df = pd.DataFrame(hyp_df.groupby(['Frequency', 'value', 'bootstrap_num'])['amplitude_estimate'].mean()).reset_index()"
   ]
  },
  {
   "cell_type": "code",
   "execution_count": null,
   "metadata": {},
   "outputs": [],
   "source": [
    "#print(\"freq_space_distance min: %.03f, max: %.03f\" % (tmp_df.freq_space_distance.min(), tmp_df.freq_space_distance.max()))\n",
    "#print(\"Halfway in log space: %.03f\" % np.floor(2**((np.log2(181.) + np.log2(6.))/2.)))\n",
    "# because these are circular, freq_space_distance==w_r\n",
    "#stim_idx = stim_df[(stim_df.w_r.isin([6, 32, 181]))&(stim_df.w_a==0)].index[::8]\n",
    "stim_idx = d['stim_df'][(d['stim_df'].w_r.isin([6, 32, ]))&(d['stim_df'].w_a==0)].index[::8]\n",
    "stims = [d['stim'][i] for i in stim_idx]"
   ]
  },
  {
   "cell_type": "markdown",
   "metadata": {},
   "source": [
    "We actually want to plot windows of the stimuli instead of just sins"
   ]
  },
  {
   "cell_type": "code",
   "execution_count": null,
   "metadata": {},
   "outputs": [],
   "source": [
    "max_degree_rad = 12\n",
    "scale_factor = 10\n",
    "mask = sfp.utils.create_circle_mask(750, 350, scale_factor* 1080/(2*2*max_degree_rad), 1080)\n",
    "stim_windows = [mask * s + ~mask.astype(bool)*127 for s in stims]\n"
   ]
  },
  {
   "cell_type": "code",
   "execution_count": null,
   "metadata": {},
   "outputs": [],
   "source": [
    "tmp_df = d['df']\n",
    "tmp_df = tmp_df[(tmp_df.stimulus_superclass=='circular')&(tmp_df.eccen.isin(['02-03', '03-04', '04-05', '05-06', '06-07', '07-08']))]#&(tmp_df.bootstrap_num.isin(range(5)))]\n",
    "sfp.plotting.compare_hypotheses(tmp_df)"
   ]
  },
  {
   "cell_type": "code",
   "execution_count": null,
   "metadata": {},
   "outputs": [],
   "source": [
    "tmp_df = d['df']\n",
    "tmp_df = tmp_df[(tmp_df.bootstrap_num.isin(range(5)))]\n",
    "sfp.plotting.compare_hypotheses_talk(tmp_df, stims)"
   ]
  },
  {
   "cell_type": "code",
   "execution_count": null,
   "metadata": {},
   "outputs": [],
   "source": [
    "# for this, we're only using circular results\n",
    "tmp_df = d['df'][d['df'].stimulus_superclass.isin(['circular'])]\n",
    "# tmp_df = tmp_df[['eccen', 'amplitude_estimate', 'freq_space_distance', 'Local spatial frequency (cpd)', 'bootstrap_num', 'hemi']]\n",
    "tmp_df = tmp_df[['stimulus_superclass','eccen', 'amplitude_estimate', 'freq_space_distance', 'Local spatial frequency (cpd)', 'bootstrap_num']]\n",
    "tmp_df = tmp_df[tmp_df.bootstrap_num.isin(range(5))]\n",
    "\n",
    "peak_df = sfp.plotting.peak_spatial_frequency(tmp_df, id_vars=['stimulus_superclass'])"
   ]
  },
  {
   "cell_type": "code",
   "execution_count": null,
   "metadata": {},
   "outputs": [],
   "source": [
    "speak_df"
   ]
  },
  {
   "cell_type": "code",
   "execution_count": null,
   "metadata": {},
   "outputs": [],
   "source": [
    "sns.plt.scatter(bandwidth[:,0], bandwidth[:,1], c=sns.color_palette('Reds', 6), s=75)"
   ]
  },
  {
   "cell_type": "code",
   "execution_count": null,
   "metadata": {},
   "outputs": [],
   "source": [
    "ecc = np.linspace(.01, 9, 50)\n",
    "RF_scale_factor = 4.\n",
    "V1_RF_size = np.concatenate([np.ones(len(ecc[ecc<.5]))/RF_scale_factor, np.linspace(1/RF_scale_factor, 4/RF_scale_factor, len(ecc[ecc>=.5]))])\n",
    "#V2_RF_size = np.concatenate([2*np.ones(len(ecc[ecc<4])), np.linspace(2, 2.5, len(ecc[ecc>=4]))])\n",
    "\n",
    "Olsson_peak = [2.75, 2.11, 1.76, 1.47,1.24, 1.06, .88, .77, .66, .60]\n",
    "Olsson_ecc = [1, 2, 3, 4, 5, 6, 7, 8, 9, 10]\n",
    "\n",
    "with sns.plotting_context('poster', font_scale=1), sns.axes_style('white'):\n",
    "    # because this doesn't represent data, just intuition, we use this.\n",
    "#    with plt.xkcd():\n",
    "    x = np.linspace(.01, 9, 50)\n",
    "    y = []\n",
    "    fig, axes = sns.plt.subplots(1,1, figsize=(13,6))\n",
    "    ax = axes\n",
    "    # this gives intuitive plots, currently we want the possible hypotheses instead\n",
    "#         for i in range(3):\n",
    "#             y.append(10/(x+2)+i)\n",
    "#             ax.plot(x, y[-1],  label='V%s'%(i+1), color=['r','g','b'][i])\n",
    "    colors = sns.color_palette(n_colors=3)\n",
    "    for i, (p, o) in enumerate([[peak_01_s0, opt_a_01_s0], [peak_01, opt_a_01]]):#, [peak_45, opt_a_45]]):\n",
    "#    ax.plot(ecc, hyperbola(ecc, opt_a), '-', label='scaling')\n",
    "#        ax.plot(ecc, hyperbola(ecc, o), '-', label='scaling', c= colors[i])\n",
    "        ax.plot(ecc, hyperbola(ecc, o), '-', label='Subject %s'%(i+1), c= colors[i])\n",
    "#    ax.plot(ecc, np.ones(len(ecc))*RF_scale_factor, '--', label='constant')\n",
    "#        ax.set_ylim((0,8))\n",
    "#    sns.plt.scatter(peak[:, 0], peak[:, 1], c=sns.color_palette('Reds', 6), s=75,)# label='This study')\n",
    "        if i==1:\n",
    "            sns.plt.scatter(p[:, 0]+.07, p[:, 1], c=colors[i], s=75,)# label='This study')\n",
    "        else:\n",
    "            sns.plt.scatter(p[:, 0], p[:, 1], c=colors[i], s=75,)# label='This study')\n",
    "#    sns.plt.scatter(Olsson_ecc, Olsson_peak, s=75, c= sns.color_palette('Blues', 10), label='Olsson pilot')\n",
    "    ax.set_xlabel(\"Receptive field center eccentricity (degrees)\")\n",
    "    ax.set_ylabel(\"Peak spatial frequency (cpd)\")\n",
    "    ax.set_title(\"\")\n",
    "    ax.set_ylim((.5, 4.5))\n",
    "    ax.set_xlim((0, 11))\n",
    "\n",
    "    sns.plt.legend(title=\"Subjects\", loc='best')\n",
    "#    ax.figure.savefig('results-hypotheses.svg', bbox_inches='tight')"
   ]
  }
 ],
 "metadata": {
  "kernelspec": {
   "display_name": "Python [conda root]",
   "language": "python",
   "name": "conda-root-py"
  },
  "language_info": {
   "codemirror_mode": {
    "name": "ipython",
    "version": 2
   },
   "file_extension": ".py",
   "mimetype": "text/x-python",
   "name": "python",
   "nbconvert_exporter": "python",
   "pygments_lexer": "ipython2",
   "version": "2.7.12"
  }
 },
 "nbformat": 4,
 "nbformat_minor": 2
}
