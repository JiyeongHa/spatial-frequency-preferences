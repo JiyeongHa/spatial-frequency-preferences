{
 "cells": [
  {
   "cell_type": "code",
   "execution_count": null,
   "metadata": {},
   "outputs": [],
   "source": [
    "df = pd.read_csv('/home/billbrod/Data/spatial_frequency_preferences/derivatives/tuning_curves_summary/stim_class/posterior/v1-2-3_e1-12_eccen_bin_hemi_bin_tuning_curves_full.csv')"
   ]
  },
  {
   "cell_type": "code",
   "execution_count": null,
   "metadata": {},
   "outputs": [],
   "source": [
    "tmp_df = df[(df.subject=='sub-wlsubj001')&(df.session=='ses-01')&(df.frequency_type=='Local spatial frequency (cpd)')&(df.varea==1)&(df.eccen==1.5)]"
   ]
  },
  {
   "cell_type": "code",
   "execution_count": null,
   "metadata": {},
   "outputs": [],
   "source": [
    "pal = [sns.color_palette('deep', 4)[0]] + [sns.color_palette('deep', 4)[2]]\n",
    "with sns.plotting_context('poster', font_scale=1.75):\n",
    "    g = sfp.summary_plots.main(df, row=None, col='subject', task='task-sfp', session=['ses-01', 'ses-02', 'ses-03'], y='preferred_period', varea=1, frequency_type='Local spatial frequency (cpd)', eccen_range=(0, 11),\n",
    "                           plot_func=[sfp.plotting.plot_median_fit, sfp.plotting.scatter_ci_dist], xlim=(0,12), ylim=(0,4), save_path='results.pdf', col_wrap=4, axes_style='white', x_jitter=[None, .2],\n",
    "                           col_order=['sub-wlsubj001', 'sub-wlsubj045', 'sub-wlsubj014', 'sub-wlsubj004'], size=6, palette=pal, stimulus_superclass=['circular', 'radial'])\n",
    "    g.set_ylabels('Preferred period (dpc)')\n",
    "    g.set_xlabels('Eccentricity (deg)')\n",
    "    g.set_yticklabels([0, '', 1, '', 2, '', 3, '', 4])\n",
    "    g._legend.set_title(\"Stimulus class\")\n",
    "    for i, ax in enumerate(g.axes.flatten()):\n",
    "        ax.set_title('Subject %s' % (i+1))\n",
    "    g.savefig('results.pdf')"
   ]
  },
  {
   "cell_type": "code",
   "execution_count": null,
   "metadata": {},
   "outputs": [],
   "source": [
    "with sns.plotting_context('poster', font_scale=1.75):\n",
    "    g = sfp.summary_plots.main(df, row=None, col='subject', task='task-sfp', session=['ses-01', 'ses-02', 'ses-03'], y='preferred_period', varea=1, frequency_type='Local spatial frequency (cpd)', eccen_range=(1, 11),\n",
    "                               plot_func=[sfp.plotting.plot_median_fit, sfp.plotting.scatter_ci_dist], xlim=(0,12), ylim=(0,4), save_path='results.pdf', axes_style='white', x_jitter=[None, .2], \n",
    "                               subject='sub-wlsubj045', size=8)#, stimulus_superclass=['circular', 'radial', 'forward spiral'])\n",
    "    g.set_ylabels('Preferred period (dpc)')\n",
    "    g.set_xlabels('Eccentricity (deg)')\n",
    "    g.set_yticklabels([0, '', 1, '', 2, '', 3, '', 4])\n",
    "    g._legend.set_title(\"Stimulus class\")\n",
    "    for i, ax in enumerate(g.axes.flatten()):\n",
    "        ax.set_title('Subject %s' % (i+1))\n",
    "    g.savefig('results_onesubj.pdf')"
   ]
  },
  {
   "cell_type": "code",
   "execution_count": null,
   "metadata": {},
   "outputs": [],
   "source": [
    "with sns.plotting_context('poster', font_scale=1.75):\n",
    "    g = sfp.summary_plots.main(df, row=None, col='subject', task='task-sfpconstant', session=['ses-01', 'ses-02', 'ses-03'], y='preferred_period', varea=1, frequency_type='Local spatial frequency (cpd)', eccen_range=(1, 11),\n",
    "                           plot_func=[sfp.plotting.plot_median_fit, sfp.plotting.scatter_ci_dist], xlim=(0,12), ylim=(0,4), axes_style='white', x_jitter=[None, .2],\n",
    "                           subject='sub-wlsubj045', size=8, palette='Set2')#, stimulus_superclass=['circular', 'radial', 'forward spiral'])\n",
    "    g.set_ylabels('Preferred period (dpc)')\n",
    "    g.set_xlabels('Eccentricity (deg)')\n",
    "    g.set_yticklabels([0, '', 1, '', 2, '', 3, '', 4])\n",
    "    g._legend.set_title(\"Stimulus class\")\n",
    "    for i, ax in enumerate(g.axes.flatten()):\n",
    "        ax.set_title('Subject %s' % (i+1))\n",
    "    g.savefig('results2.pdf')"
   ]
  },
  {
   "cell_type": "code",
   "execution_count": null,
   "metadata": {},
   "outputs": [],
   "source": [
    "# We want a reduced version of this to plot in comparison to the older studies, so we take the data presented in our summary plot and then look only at circular and radial\n",
    "# I then take the median across bootstraps and the weighted average across subjects (the weight is the inverse of the size of the 68% confidence interval)\n",
    "final_df = df[(df['task']=='task-sfp')&(df.varea==1)&(df.session.isin(['ses-01', 'ses-02', 'ses-03']))&(df.frequency_type=='Local spatial frequency (cpd)')&(df.eccen<11)]\n",
    "final_df = final_df[['eccen', 'preferred_period', 'stimulus_superclass', 'subject', 'bootstrap_num']]\n",
    "tmp_df = final_df.groupby(['subject', 'stimulus_superclass', 'eccen'])['preferred_period'].apply(np.percentile, [16, 84]).apply(lambda x: abs(x[1]-x[0])).reset_index(name='precision')\n",
    "final_df = final_df.groupby(['eccen', 'stimulus_superclass', 'subject'])['preferred_period'].median().reset_index(name='preferred_period')\n",
    "final_df = final_df.set_index(['subject', 'stimulus_superclass'])\n",
    "final_df['precision'] = tmp_df.groupby(['subject', 'stimulus_superclass']).precision.mean()\n",
    "final_df = final_df.reset_index()\n",
    "final_df = final_df.groupby(['stimulus_superclass', 'eccen']).apply(lambda x: np.average(x.preferred_period, weights=1./x.precision)).reset_index(name='preferred_period')"
   ]
  },
  {
   "cell_type": "code",
   "execution_count": null,
   "metadata": {},
   "outputs": [],
   "source": [
    "from sklearn import linear_model\n",
    "\n",
    "circ_model = linear_model.LinearRegression(True)\n",
    "tmp_df = final_df[final_df.stimulus_superclass=='circular']\n",
    "circ_model.fit(tmp_df.eccen.values.reshape(-1, 1), tmp_df.preferred_period)\n",
    "print(\"Circular stimuli\")\n",
    "print(\"score %s\"%circ_model.score(tmp_df.eccen.values.reshape(-1, 1), tmp_df.preferred_period))\n",
    "print(\"Coefficient: %s, Intercept: %s\" % (circ_model.coef_, circ_model.intercept_))\n",
    "\n",
    "rad_model = linear_model.LinearRegression(True)\n",
    "tmp_df = final_df[final_df.stimulus_superclass=='radial']\n",
    "rad_model.fit(tmp_df.eccen.values.reshape(-1, 1), tmp_df.preferred_period)\n",
    "print(\"\\nRadial stimuli\")\n",
    "print(\"score %s\"%rad_model.score(tmp_df.eccen.values.reshape(-1, 1), tmp_df.preferred_period))\n",
    "print(\"Coefficient: %s, Intercept: %s\" % (rad_model.coef_, rad_model.intercept_))\n",
    "\n",
    "# These values come off the Freeman and Simoncelli 2011 plot, grabbed using WebPlotDigitizer\n",
    "V1_RF = np.array([[7.014, 1.199], [10.062, 1.815], [15.950, 2.740], [20.341, 3.510], [26.591, 4.538], [33.048, 5.565], [38.161, 6.490], [44.824, 7.568], [49.783, 8.339]])\n",
    "rf_model = linear_model.LinearRegression(False)\n",
    "rf_model.fit(V1_RF[:, 0].reshape(-1, 1), V1_RF[:, 1])\n",
    "print(\"\\nV1 RF size (Freeman and Simoncelli, 2011)\")\n",
    "print(\"score %s\"%rf_model.score(V1_RF[:, 0].reshape(-1, 1), V1_RF[:, 1]))\n",
    "print(\"Coefficient: %s, Intercept: %s\" % (rf_model.coef_, rf_model.intercept_))\n",
    "\n",
    "# From Benson et al, HCP 7T retinotopy data. This does have a non-zero intercept, not sure how to do that\n",
    "# This is one sigma\n",
    "V1_pRF_sigma = .063485\n",
    "# For our purposes, we want to know the number of periods we have in a circle with 2 sigmas. For this to work, we need V1_pRF_sigma*2*2 (to get diameter, and then two sigmas)\n",
    "V1_pRF_coef = V1_pRF_sigma * 4\n",
    "print(\"\\nV1 pRF size (Benson et al, 2018)\")\n",
    "print(\"Coefficient: %s\" % V1_pRF_coef)\n",
    "\n",
    "print(\"\\nUsing pRF:\")\n",
    "print(\"Radial stimuli have %s periods per pRF\" % (V1_pRF_coef / rad_model.coef_))\n",
    "print(\"Circular stimuli have %s periods per pRF\" % (V1_pRF_coef / circ_model.coef_))"
   ]
  },
  {
   "cell_type": "code",
   "execution_count": null,
   "metadata": {},
   "outputs": [],
   "source": [
    "_=sfp.plotting.period_summary_plot(final_df, save_path='periods.svg')"
   ]
  },
  {
   "cell_type": "code",
   "execution_count": null,
   "metadata": {},
   "outputs": [],
   "source": [
    "final_df = final_df.rename(columns={'eccen': \"Eccentricity\", 'stimulus_superclass': \"Paper\", 'preferred_period': 'Preferred Period (dpc)'})"
   ]
  },
  {
   "cell_type": "code",
   "execution_count": null,
   "metadata": {},
   "outputs": [],
   "source": [
    "with sns.plotting_context('poster', font_scale=1.75), sns.axes_style('white'):\n",
    "    g = sns.FacetGrid(final_df, hue='Paper', size=8, palette='deep', xlim=(0, 11))\n",
    "    g.map_dataframe(sfp.plotting.scatter_ci_dist, 'Eccentricity', 'Preferred Period (dpc)', ci_vals=[50,50], x_jitter=True,marker='o', linewidth=6)\n",
    "    g.map_dataframe(sfp.plotting.plot_median_fit, 'Eccentricity', 'Preferred Period (dpc)', linear_model.LinearRegression(True), linewidth=6, x_vals=(0, 10.5), linestyle='--')\n",
    "    g.map_dataframe(sfp.plotting.plot_median_fit, 'Eccentricity', 'Preferred Period (dpc)', linear_model.LinearRegression(True), linewidth=6)\n",
    "    g.set(yticks=[0, 1, 2])\n",
    "    g.add_legend()\n",
    "    g._legend.set_title('Stimulus class')\n",
    "    g.savefig(\"final_summary.pdf\")"
   ]
  },
  {
   "cell_type": "code",
   "execution_count": null,
   "metadata": {},
   "outputs": [],
   "source": [
    "final_df.Paper = final_df.Paper.apply(lambda x: \"This study, %s stimuli\"%x)\n",
    "\n",
    "data_dict = {\n",
    "    'Paper': ['Sasaki (2001)',]*7,\n",
    "    'Optimum SF (cpd)': [1.25, .9, .75, .7, .6, .5, .4],\n",
    "    'Eccentricity': [0, 1, 2, 3, 4, 5, 12]\n",
    "}\n",
    "data_dict['Paper'].extend(['Henriksson (2008)', ]*5)\n",
    "data_dict['Optimum SF (cpd)'].extend([1.2, .68, .46, .40, .18])\n",
    "data_dict['Eccentricity'].extend([1.7, 4.7, 6.3, 9, 19])\n",
    "\n",
    "data_dict['Paper'].extend(['Kay (2011)']*5)\n",
    "data_dict['Optimum SF (cpd)'].extend([4, 3, 10, 10, 2])\n",
    "data_dict['Eccentricity'].extend([2.5, 4, .5, 1.5, 7])\n",
    "\n",
    "data_dict['Paper'].extend([\"Hess (2009)\"]*3)\n",
    "data_dict['Optimum SF (cpd)'].extend([2.25, 1.9, 1.75])\n",
    "data_dict['Eccentricity'].extend([2.5, 5, 10])\n",
    "\n",
    "data_dict['Paper'].extend([ \"D'Souza (2016)\",]*3)\n",
    "data_dict['Optimum SF (cpd)'].extend([2, .95, .4])\n",
    "data_dict['Eccentricity'].extend([1.4, 4.6, 9.8])\n",
    "\n",
    "data_dict['Paper'].extend(['Farivar (2017)']*2)\n",
    "data_dict['Optimum SF (cpd)'].extend([3, 1.5,])\n",
    "data_dict['Eccentricity'].extend([.5, 3])\n",
    "\n",
    "data_dict['Paper'].extend([ 'Olsson (pilot, model fit)']*10)\n",
    "data_dict['Optimum SF (cpd)'].extend([2.11, 1.76, 1.47, 2.75, 1.24, 1.06, .88, .77, .66, .60])\n",
    "data_dict['Eccentricity'].extend([2, 3, 4, 1, 5, 6, 7, 8, 9, 10])\n",
    "\n",
    "# Predictions of the scaling hypothesis\n",
    "ecc = np.linspace(.01, 20, 50)\n",
    "fovea_cutoff = 0\n",
    "V1_RF_size = np.concatenate([np.ones(len(ecc[ecc<fovea_cutoff])), np.linspace(1, 2.5, len(ecc[ecc>=fovea_cutoff]))])\n",
    "V1_RF_size = .2 * ecc\n",
    "\n",
    "background_df = pd.DataFrame(data_dict)\n",
    "background_df = background_df.sort_values(['Paper','Eccentricity',])\n",
    "background_df[\"Preferred Period (dpc)\"] = 1. / background_df['Optimum SF (cpd)']\n",
    "background_df = pd.concat([background_df, final_df])"
   ]
  },
  {
   "cell_type": "code",
   "execution_count": null,
   "metadata": {},
   "outputs": [],
   "source": [
    "pal = sns.color_palette('Set3', background_df.Paper.nunique()-2)\n",
    "deep_pal = sns.color_palette('deep', 4)\n",
    "keys = background_df['Paper'].unique()\n",
    "pal = dict((k, p) for k, p in zip(keys, pal))\n",
    "# so they correspond to the colors in the earlier plot\n",
    "pal['This study, circular stimuli'] = deep_pal[0]\n",
    "pal['This study, radial stimuli'] = deep_pal[2]\n",
    "# pal['Olsson (pilot, model fit)'] = sns.color_palette('Blues', 3)[-1]\n",
    "# pal['This study'] = sns.color_palette('Reds', 3)[-1]\n",
    "with sns.plotting_context('poster', font_scale=1.75), sns.axes_style('white'):\n",
    "    g = sns.FacetGrid(background_df, hue='Paper', size=8, aspect=1.25, palette=pal, hue_kws={'linewidth': [3]*7+[6]*2})\n",
    "    g.map(sns.plt.plot, 'Eccentricity', 'Preferred Period (dpc)', marker='o')\n",
    "    # g.map(plt.plot, 'Eccentricity', 'Preferred Period (dpc)', marker='o',)\n",
    "    g.ax.set_ylim((0, 4))\n",
    "    g.ax.set_xlim((0, 15))\n",
    "    g.add_legend()\n",
    "    #g.ax.legend(loc='best')\n",
    "    g.set(xticks=[0, 4, 8, 12])\n",
    "    g.set(yticks=[0, 1, 2, 3, ])\n",
    "    g.ax.set_title(\"Summary of human V1 fMRI results\")\n",
    "    g.ax.set_xlabel('Eccentricity (deg)')\n",
    "    g.savefig('SummaryWithData.pdf')"
   ]
  },
  {
   "cell_type": "code",
   "execution_count": null,
   "metadata": {},
   "outputs": [],
   "source": [
    "first_level_df = full_ds['df']\n",
    "first_level_df = first_level_df[(first_level_df.varea==1)&(first_level_df.eccen.isin(['02-03', '05-06']))&(first_level_df.stimulus_superclass.isin(['radial', 'circular']))]"
   ]
  },
  {
   "cell_type": "code",
   "execution_count": null,
   "metadata": {},
   "outputs": [],
   "source": [
    "palette = [sns.color_palette(\"Reds\", 10)[1]] + [sns.color_palette(\"Reds\", 10)[4]]\n",
    "with sns.axes_style('white'), sns.plotting_context(\"poster\", font_scale=1.9):\n",
    "    g = sns.FacetGrid(first_level_df, hue='eccen', palette=palette, size=6.5, col='stimulus_superclass', ylim=(0,4), xlim=(2**-3, 2**3.5), aspect=1.2,)\n",
    "    #g.map_dataframe(sfp.plotting.plot_median, \"Local spatial frequency (cpd)\", 'amplitude_estimate', linewidth=6)\n",
    "    g.map_dataframe(sfp.plotting.scatter_ci_dist, 'Local spatial frequency (cpd)', 'amplitude_estimate', linewidth=6)\n",
    "    for ax in g.axes.flatten():\n",
    "        ax.set_xscale('log', basex=2)\n",
    "    g.set_yticklabels([0, '', 1, '', 2, '', 3, '', 4])\n",
    "    g.set(xticks=[2**-3, 2**-1, 2**1, 2**3])\n",
    "    g.add_legend()\n",
    "    g._legend.set_title(\"Eccentricity\")\n",
    "    g.set_ylabels(\"Amplitude estimate\")\n",
    "    g.set_titles(\"Stimulus class = {col_name}\")\n",
    "    g.savefig('data.pdf')"
   ]
  },
  {
   "cell_type": "code",
   "execution_count": null,
   "metadata": {},
   "outputs": [],
   "source": [
    "tuning_curve = ds['tuning_df']\n",
    "tuning_curve = tuning_curve[(tuning_curve.varea==1)&(tuning_curve.eccen.isin(['02-03', '05-06']))&(tuning_curve.stimulus_superclass.isin(['radial', 'circular']))&(tuning_curve.frequency_type==\"Local spatial frequency (cpd)\")]"
   ]
  },
  {
   "cell_type": "code",
   "execution_count": null,
   "metadata": {},
   "outputs": [],
   "source": [
    "palette = [sns.color_palette(\"Reds\", 10)[1]] + [sns.color_palette(\"Reds\", 10)[4]]\n",
    "with sns.axes_style('white'), sns.plotting_context('poster', font_scale=1.9):\n",
    "    g = sns.FacetGrid(tuning_curve, hue='eccen', palette=palette, size=6.5, col='stimulus_superclass', xlim=(2**-3, 2**3.5), ylim=(0,4), aspect=1.2)\n",
    "    g.map_dataframe(sfp.plotting.plot_tuning_curve, linewidth=6)\n",
    "    g.map(sns.plt.scatter, 'frequency_value', 'amplitude_estimate', linewidth=6)\n",
    "    g.set_yticklabels([0, '', 1, '', 2, '', 3, '', 4])\n",
    "    g.set(xticks=[2**-3, 2**-1, 2**1, 2**3])\n",
    "    g.add_legend()\n",
    "    g._legend.set_title(\"Eccentricity\")\n",
    "    g.set_xlabels(\"Local spatial frequency (cpd)\")\n",
    "    g.set_ylabels(\"Amplitude estimate\")\n",
    "    g.set_titles(\"Stimulus class = {col_name}\")\n",
    "    g.savefig('tuning_curves.pdf')"
   ]
  },
  {
   "cell_type": "code",
   "execution_count": null,
   "metadata": {},
   "outputs": [],
   "source": [
    "stim_df = ds['stim_df']\n",
    "stim_df[stim_df.w_a==-stim_df.w_r].w_a.unique()"
   ]
  },
  {
   "cell_type": "markdown",
   "metadata": {},
   "source": [
    "So we can make higher res versions of the max frequency stimuli"
   ]
  },
  {
   "cell_type": "code",
   "execution_count": null,
   "metadata": {},
   "outputs": [],
   "source": [
    "from scipy import misc as smisc\n",
    "stim = sfp.stimuli.log_polar_grating(1080*4, 91, 91)\n",
    "stim = sfp.utils.mask_array_like_grating(ds['stim'][0], stim)"
   ]
  },
  {
   "cell_type": "code",
   "execution_count": null,
   "metadata": {},
   "outputs": [],
   "source": [
    "fig, ax = sns.plt.subplots(figsize=(20,20))\n",
    "sfp.plotting.im_plot(stim, ax=ax)\n",
    "fig.savefig('stim3.svg', bbox_inches='tight')"
   ]
  },
  {
   "cell_type": "code",
   "execution_count": null,
   "metadata": {},
   "outputs": [],
   "source": [
    "sfp.plotting.stimuli(ds['stim'], ds['stim_df'], w_r=[0], w_a=[-4,-11,-32], figsize=(60, 20), save_path='stim7.svg')"
   ]
  },
  {
   "cell_type": "code",
   "execution_count": null,
   "metadata": {},
   "outputs": [],
   "source": [
    "sfp.plotting.stimuli(ds['stim'], ds['stim_df'], w_x=[0, .004725,  .003341, .003341], w_y=[.004725, 0, .003341, -.003341], figsize=(80, 20), save_path='constant_stim.pdf')"
   ]
  },
  {
   "cell_type": "markdown",
   "metadata": {},
   "source": [
    "# Analyzing the first-level results\n",
    "\n",
    "After running our GLM analysis, we have the estimated amplitude responses of each voxel to each image class. Along with Noah Benson's anatomical template / Bayesian model, we also have each voxel's visual area and location in the visual field (in terms of eccentricity and polar angle). By combining the information contained within them, along with the dataframe describing each stimulus class, we can construct our tuning curves."
   ]
  },
  {
   "cell_type": "code",
   "execution_count": null,
   "metadata": {
    "init_cell": true
   },
   "outputs": [
    {
     "name": "stderr",
     "output_type": "stream",
     "text": [
      "/home/billbrod/anaconda2/lib/python2.7/site-packages/h5py/__init__.py:34: FutureWarning: Conversion of the second argument of issubdtype from `float` to `np.floating` is deprecated. In future, it will be treated as `np.float64 == np.dtype(float).type`.\n",
      "  from ._conv import register_converters as _register_converters\n",
      "/home/billbrod/anaconda2/lib/python2.7/site-packages/matplotlib/__init__.py:1357: UserWarning:  This call to matplotlib.use() has no effect\n",
      "because the backend has already been chosen;\n",
      "matplotlib.use() must be called *before* pylab, matplotlib.pyplot,\n",
      "or matplotlib.backends is imported for the first time.\n",
      "\n",
      "  warnings.warn(_use_error_msg)\n"
     ]
    }
   ],
   "source": [
    "import pandas as pd\n",
    "import nibabel as nib\n",
    "import numpy as np\n",
    "import seaborn as sns\n",
    "%matplotlib inline\n",
    "import sys\n",
    "sys.path.append('..')\n",
    "import sfp\n",
    "import h5py\n",
    "import os\n",
    "import itertools\n",
    "import pyPyrTools.JBhelpers as jbh\n",
    "import pyPyrTools as ppt\n",
    "import scipy as sp\n",
    "from matplotlib.colors import LinearSegmentedColormap "
   ]
  },
  {
   "cell_type": "code",
   "execution_count": null,
   "metadata": {},
   "outputs": [],
   "source": [
    "# d = sfp.utils.load_data('wlsubj001', 'pilot01', atlas_type='prior', df_mode='full')\n",
    "ds = sfp.utils.load_data('wlsubj045', 'ses-02', atlas_type='posterior', df_mode='summary', mat_type='stim_class', eccen_bin=True)\n",
    "full_ds = sfp.utils.load_data('wlsubj045', 'ses-02', atlas_type='posterior', df_mode='full', mat_type='stim_class')\n",
    "# ds2 = sfp.utils.load_data('wlsubj001', 'ses-pilot01', atlas_type='prior', df_mode='summary',mat_type='stim_class')"
   ]
  },
  {
   "cell_type": "code",
   "execution_count": null,
   "metadata": {},
   "outputs": [],
   "source": [
    "tuning_df = ds['tuning_df']\n",
    "tuning_df = tuning_df.drop_duplicates(['varea', 'eccen', 'stimulus_superclass', 'frequency_type'])\n",
    "tuning_df = tuning_df.assign(subject='sub-wlsubj001', session='ses-pilot01', atlas_type='prior')\n",
    "tuning_df['eccen'] = tuning_df.eccen.apply(lambda x: np.mean([float(i) for i in x.split('-')]))\n",
    "tuning_df = tuning_df.reset_index(drop=True)\n",
    "tuning_df['tuning_curve_peak'] = np.log2(tuning_df.tuning_curve_peak)"
   ]
  },
  {
   "cell_type": "code",
   "execution_count": null,
   "metadata": {},
   "outputs": [],
   "source": [
    "melted_df = pd.melt(tuning_df, ['varea', 'eccen', 'stimulus_superclass', 'frequency_type', 'subject', 'session', 'atlas_type'], ['preferred_period','tuning_curve_peak'])"
   ]
  },
  {
   "cell_type": "code",
   "execution_count": null,
   "metadata": {},
   "outputs": [],
   "source": [
    "tuning_df.head()"
   ]
  },
  {
   "cell_type": "code",
   "execution_count": null,
   "metadata": {},
   "outputs": [],
   "source": [
    "g = sns.FacetGrid(tuning_df, 'frequency_type', 'varea', hue='stimulus_superclass', aspect=1, size=5, sharey='row')\n",
    "g.map(sns.plt.plot, 'eccen', 'tuning_curve_peak')\n",
    "g.set_titles(\"{row_name} | V{col_name}\")\n",
    "g.add_legend()"
   ]
  },
  {
   "cell_type": "markdown",
   "metadata": {},
   "source": [
    "Here we see the different stimulus classes, as plotted in frequency space, colored by their superclass. These numbers are roughly log-spaced (doubling).\n",
    "\n",
    "We also, in order to double-check some of our calculations, plot the distance and angle in frequency space: they look exactly correct."
   ]
  },
  {
   "cell_type": "code",
   "execution_count": null,
   "metadata": {},
   "outputs": [],
   "source": [
    "sfp.plotting.stimuli_properties(ds['df'])"
   ]
  },
  {
   "cell_type": "code",
   "execution_count": null,
   "metadata": {},
   "outputs": [],
   "source": [
    "sfp.plotting.local_spatial_frequency(ds['df'])"
   ]
  },
  {
   "cell_type": "code",
   "execution_count": null,
   "metadata": {},
   "outputs": [],
   "source": [
    "_ = sfp.plotting.stimuli_linear_approximation(d['stim'], d['stim_df'], d['stim_type'], 11, freq_space_distance=181, phi=np.pi/4, stimulus_superclass='radial', save_path='test.svg')"
   ]
  },
  {
   "cell_type": "code",
   "execution_count": null,
   "metadata": {},
   "outputs": [],
   "source": [
    "Rmin, Rmax = sfp.first_level_analysis.find_ecc_range_in_degrees(stim[0,:,:], 12)\n",
    "print(\"Inside radius of stimulus annulus: %.02f\" % Rmin)\n",
    "print(\"Outside radius of stimulus annulus: %.02f\" % Rmax)"
   ]
  },
  {
   "cell_type": "code",
   "execution_count": null,
   "metadata": {},
   "outputs": [],
   "source": [
    "sfp.plotting.check_hypotheses_with_data(d['tuning_df'], 'test_%s.svg')"
   ]
  },
  {
   "cell_type": "code",
   "execution_count": null,
   "metadata": {},
   "outputs": [],
   "source": [
    "sfp.plotting.check_hypotheses_normalized(ds['tuning_df'], 'test_%s.svg')"
   ]
  },
  {
   "cell_type": "code",
   "execution_count": null,
   "metadata": {},
   "outputs": [],
   "source": [
    "g=sns.FacetGrid(ds['tuning_df'], hue='eccen', row='frequency_type', palette='Reds', col='stimulus_superclass', sharey=False, size=4)\n",
    "g.map(sns.plt.scatter, 'tuning_curve_bandwidth','tuning_curve_peak')\n"
   ]
  },
  {
   "cell_type": "code",
   "execution_count": null,
   "metadata": {},
   "outputs": [],
   "source": [
    "plot_data(d['df'], 'freq_space_distance',)# ci_vals=[16, 84])"
   ]
  },
  {
   "cell_type": "code",
   "execution_count": null,
   "metadata": {},
   "outputs": [],
   "source": [
    "tmp_df = d['df'][d['df'].stimulus_superclass=='circular']\n",
    "g = sns.FacetGrid(tmp_df, hue='eccen', palette='Reds', size=5,)\n",
    "#g.map(sns.regplot, 'rounded_freq_space_distance', 'amplitude_estimate', x_estimator=np.mean, fit_reg=False)\n",
    "g.map_dataframe(sfp.utils.plot_mean, 'rounded_freq_space_distance', 'amplitude_estimate')\n",
    "g.map_dataframe(sfp.utils.scatter_ci_dist, 'freq_space_distance', 'amplitude_estimate')\n",
    "for ax in g.axes.flatten():\n",
    "    ax.set_xscale('log', basex=2)\n",
    "g.add_legend()"
   ]
  },
  {
   "cell_type": "markdown",
   "metadata": {},
   "source": [
    "If there were no scaling in the visual system, such that neurons at different places in the visual field were expected to have similar properties, the bottom would all line up well, and it doesn't!"
   ]
  },
  {
   "cell_type": "code",
   "execution_count": null,
   "metadata": {},
   "outputs": [],
   "source": [
    "classes_of_interest = []\n",
    "classes_of_interest.extend(df[(df.stimulus_superclass=='circular')&(df.rounded_freq_space_distance==11)].stimulus_class.unique())\n",
    "classes_of_interest.extend(df[(df.stimulus_superclass=='radial')&(df.rounded_freq_space_distance==64)].stimulus_class.unique())\n",
    "classes_of_interest.extend(df[(df.stimulus_superclass=='forward spiral')&(df.rounded_freq_space_distance==23)].stimulus_class.unique())\n",
    "classes_of_interest.extend(df[(df.stimulus_superclass=='reverse spiral')&(df.rounded_freq_space_distance==23)].stimulus_class.unique())\n",
    "#classes_of_interest.append(df[df.stimulus_superclass=='mixtures'].stimulus_class.values[0])\n",
    "\n",
    "stim_idxs = stim_df[stim_df.class_idx.isin(classes_of_interest)].index.values[::8]\n",
    "\n",
    "jbh.showIm([stim[i, :, :] for i in stim_idxs], ncols=4, zoom=.2)"
   ]
  },
  {
   "cell_type": "code",
   "execution_count": null,
   "metadata": {},
   "outputs": [],
   "source": [
    "# I know this goes from about -pi/2 to pi/2, in pi/12 steps\n",
    "ticks = [(np.pi*(i-6)/12.) for i in range(13)]\n",
    "labels = ['$\\\\frac{%s*\\\\pi}{12}$'%(i-6) for i in range(13)]\n",
    "\n",
    "g = sns.FacetGrid(df, hue='eccen', palette='Reds', size=6)\n",
    "g.map(sns.regplot, 'freq_space_angle', 'amplitude_estimate', x_estimator=np.mean, fit_reg=False)\n",
    "g.map_dataframe(sfp.utils.plot_mean, 'freq_space_angle', 'amplitude_estimate')\n",
    "#g.map_dataframe(sfp.utils.scatter_ci, 'freq_space_angle', 'amplitude_estimate_median', 'amplitude_estimate_std_error') \n",
    "_=g.ax.set_xticks(ticks)\n",
    "_=g.ax.set_xticklabels(labels)\n",
    "g.add_legend()\n",
    "\n",
    "# I know this goes from about -pi/2 to pi/2, in pi/12 steps\n",
    "ticks = [(np.pi*(i-6)/12.) for i in range(13)]\n",
    "labels = ['$\\\\frac{%s*\\\\pi}{12}$'%(i-6) for i in range(13)]\n",
    "\n",
    "tmp_df = df[df.stimulus_superclass=='mixtures']\n",
    "g = sns.FacetGrid(tmp_df, hue='eccen', palette='Reds', size=6)\n",
    "g.map(sns.regplot, 'freq_space_angle', 'amplitude_estimate', x_estimator=np.mean, fit_reg=False)\n",
    "g.map_dataframe(sfp.utils.plot_mean, 'freq_space_angle', 'amplitude_estimate')\n",
    "#g.map_dataframe(sfp.utils.scatter_ci, 'freq_space_angle', 'amplitude_estimate_median', 'amplitude_estimate_std_error') \n",
    "_=g.ax.set_xticks(ticks)\n",
    "_=g.ax.set_xticklabels(labels)\n",
    "g.add_legend()"
   ]
  },
  {
   "cell_type": "code",
   "execution_count": null,
   "metadata": {},
   "outputs": [],
   "source": [
    "angles = sorted(df.freq_space_angle.unique())\n",
    "stim_idxs = []\n",
    "for ang in angles:\n",
    "    class_of_interest = df[(df.freq_space_angle==ang)&(df.rounded_freq_space_distance==32)].stimulus_class.unique()[0]\n",
    "    stim_idxs.append(stim_df[stim_df.class_idx==class_of_interest].index[0])\n",
    "\n",
    "#stim_idxs = stim_df[stim_df.class_idx.isin(classes_of_interest)].index.values[::8]\n",
    "\n",
    "jbh.showIm([stim[i, :, :] for i in stim_idxs], ncols=4, zoom=.2)"
   ]
  },
  {
   "cell_type": "code",
   "execution_count": null,
   "metadata": {},
   "outputs": [],
   "source": [
    "tmp_df = pd.DataFrame(df.groupby(['eccen_bin', 'w_r', 'w_a']).modelmd.mean()).reset_index()\n",
    "\n",
    "g = sns.FacetGrid(tmp_df, col='eccen_bin', col_wrap=4, size=5)\n",
    "cbar_ax = g.fig.add_axes([.92, .3, .02, .4])  # <-- Create a colorbar axes\n",
    "g.map(sfp.utils.scatter_heat, 'w_a', 'w_r', 'amplitude_estimate_median', vmin=tmp_df['amplitude_estimate_median'].min(), \n",
    "      vmax=tmp_df['amplitude_estimate_median'].max())\n",
    "sns.plt.colorbar(cax=cbar_ax)\n",
    "g.fig.subplots_adjust(right=.9, top=.9)\n",
    "g.fig.suptitle('Average response amplitude estimates at each point in frequency space')"
   ]
  },
  {
   "cell_type": "code",
   "execution_count": null,
   "metadata": {},
   "outputs": [],
   "source": [
    "tmp_df = pd.pivot_table(df, 'amplitude_estimate_median', 'rounded_freq_space_distance', 'eccen_bin')\n",
    "norm_df = tmp_df.copy()\n",
    "for col in norm_df.columns:\n",
    "    norm_df[col] = norm_df[col] / norm_df[col].max()"
   ]
  },
  {
   "cell_type": "code",
   "execution_count": null,
   "metadata": {},
   "outputs": [],
   "source": [
    "fig = sns.heatmap(tmp_df, cmap='Reds')\n",
    "fig.invert_yaxis()\n",
    "fig.set_title('Average response amplitude estimates')"
   ]
  },
  {
   "cell_type": "code",
   "execution_count": null,
   "metadata": {},
   "outputs": [],
   "source": [
    "fig = sns.heatmap(norm_df, cmap='Reds')\n",
    "fig.invert_yaxis()\n",
    "fig.set_title('Normalized average response amplitude estimates')"
   ]
  },
  {
   "cell_type": "code",
   "execution_count": null,
   "metadata": {},
   "outputs": [],
   "source": [
    "df = pd.read_csv('/home/billbrod/Data/spatial_frequency_preferences/derivatives/first_level_analysis/stim_class/prior/sub-wlsubj001/ses-pilot01/sub-wlsubj001_ses-pilot01_task-sfp_summary_v1_e2-8_eccen_bin_hemi_bin.csv')"
   ]
  },
  {
   "cell_type": "code",
   "execution_count": null,
   "metadata": {},
   "outputs": [],
   "source": [
    "sns.distplot(df.R2.values)"
   ]
  },
  {
   "cell_type": "markdown",
   "metadata": {},
   "source": [
    "# Create plots for first year talk"
   ]
  },
  {
   "cell_type": "code",
   "execution_count": null,
   "metadata": {},
   "outputs": [],
   "source": [
    "# for this, we're only using circular results\n",
    "tmp_df = df[df.stimulus_superclass=='circular']\n",
    "# tmp_df = tmp_df[['eccen', 'amplitude_estimate', 'freq_space_distance', 'Local spatial frequency (cpd)', 'bootstrap_num', 'hemi']]\n",
    "tmp_df = tmp_df[['eccen', 'amplitude_estimate', 'freq_space_distance', 'Local spatial frequency (cpd)', 'bootstrap_num']]"
   ]
  },
  {
   "cell_type": "code",
   "execution_count": null,
   "metadata": {},
   "outputs": [],
   "source": [
    "tmper_df = tmp_df[tmp_df.freq_space_distance==6.]\n",
    "tmper_df = tmper_df.groupby(['eccen', 'bootstrap_num'])['amplitude_estimate'].mean().unstack().reset_index()"
   ]
  },
  {
   "cell_type": "code",
   "execution_count": null,
   "metadata": {},
   "outputs": [],
   "source": [
    "hyp_df = pd.melt(tmp_df, ['eccen', 'amplitude_estimate', 'bootstrap_num'], var_name='Frequency')\n",
    "hyp_df = pd.DataFrame(hyp_df.groupby(['Frequency', 'value', 'bootstrap_num'])['amplitude_estimate'].mean()).reset_index()"
   ]
  },
  {
   "cell_type": "code",
   "execution_count": null,
   "metadata": {},
   "outputs": [],
   "source": [
    "#print(\"freq_space_distance min: %.03f, max: %.03f\" % (tmp_df.freq_space_distance.min(), tmp_df.freq_space_distance.max()))\n",
    "#print(\"Halfway in log space: %.03f\" % np.floor(2**((np.log2(181.) + np.log2(6.))/2.)))\n",
    "# because these are circular, freq_space_distance==w_r\n",
    "#stim_idx = stim_df[(stim_df.w_r.isin([6, 32, 181]))&(stim_df.w_a==0)].index[::8]\n",
    "stim_idx = d['stim_df'][(d['stim_df'].w_r.isin([6, 32, ]))&(d['stim_df'].w_a==0)].index[::8]\n",
    "stims = [d['stim'][i] for i in stim_idx]"
   ]
  },
  {
   "cell_type": "markdown",
   "metadata": {},
   "source": [
    "We actually want to plot windows of the stimuli instead of just sins"
   ]
  },
  {
   "cell_type": "code",
   "execution_count": null,
   "metadata": {},
   "outputs": [],
   "source": [
    "max_degree_rad = 12\n",
    "scale_factor = 10\n",
    "mask = sfp.utils.create_circle_mask(750, 350, scale_factor* 1080/(2*2*max_degree_rad), 1080)\n",
    "stim_windows = [mask * s + ~mask.astype(bool)*127 for s in stims]\n"
   ]
  },
  {
   "cell_type": "code",
   "execution_count": null,
   "metadata": {},
   "outputs": [],
   "source": [
    "tmp_df = d['df']\n",
    "tmp_df = tmp_df[(tmp_df.stimulus_superclass=='circular')&(tmp_df.eccen.isin(['02-03', '03-04', '04-05', '05-06', '06-07', '07-08']))]#&(tmp_df.bootstrap_num.isin(range(5)))]\n",
    "sfp.plotting.compare_hypotheses(tmp_df)"
   ]
  },
  {
   "cell_type": "code",
   "execution_count": null,
   "metadata": {},
   "outputs": [],
   "source": [
    "tmp_df = d['df']\n",
    "tmp_df = tmp_df[(tmp_df.bootstrap_num.isin(range(5)))]\n",
    "sfp.plotting.compare_hypotheses_talk(tmp_df, stims)"
   ]
  },
  {
   "cell_type": "code",
   "execution_count": null,
   "metadata": {},
   "outputs": [],
   "source": [
    "# for this, we're only using circular results\n",
    "tmp_df = d['df'][d['df'].stimulus_superclass.isin(['circular'])]\n",
    "# tmp_df = tmp_df[['eccen', 'amplitude_estimate', 'freq_space_distance', 'Local spatial frequency (cpd)', 'bootstrap_num', 'hemi']]\n",
    "tmp_df = tmp_df[['stimulus_superclass','eccen', 'amplitude_estimate', 'freq_space_distance', 'Local spatial frequency (cpd)', 'bootstrap_num']]\n",
    "tmp_df = tmp_df[tmp_df.bootstrap_num.isin(range(5))]\n",
    "\n",
    "peak_df = sfp.plotting.peak_spatial_frequency(tmp_df, id_vars=['stimulus_superclass'])"
   ]
  },
  {
   "cell_type": "code",
   "execution_count": null,
   "metadata": {},
   "outputs": [],
   "source": [
    "speak_df"
   ]
  },
  {
   "cell_type": "code",
   "execution_count": null,
   "metadata": {},
   "outputs": [],
   "source": [
    "sns.plt.scatter(bandwidth[:,0], bandwidth[:,1], c=sns.color_palette('Reds', 6), s=75)"
   ]
  },
  {
   "cell_type": "code",
   "execution_count": null,
   "metadata": {},
   "outputs": [],
   "source": [
    "ecc = np.linspace(.01, 9, 50)\n",
    "RF_scale_factor = 4.\n",
    "V1_RF_size = np.concatenate([np.ones(len(ecc[ecc<.5]))/RF_scale_factor, np.linspace(1/RF_scale_factor, 4/RF_scale_factor, len(ecc[ecc>=.5]))])\n",
    "#V2_RF_size = np.concatenate([2*np.ones(len(ecc[ecc<4])), np.linspace(2, 2.5, len(ecc[ecc>=4]))])\n",
    "\n",
    "Olsson_peak = [2.75, 2.11, 1.76, 1.47,1.24, 1.06, .88, .77, .66, .60]\n",
    "Olsson_ecc = [1, 2, 3, 4, 5, 6, 7, 8, 9, 10]\n",
    "\n",
    "with sns.plotting_context('poster', font_scale=1), sns.axes_style('white'):\n",
    "    # because this doesn't represent data, just intuition, we use this.\n",
    "#    with plt.xkcd():\n",
    "    x = np.linspace(.01, 9, 50)\n",
    "    y = []\n",
    "    fig, axes = sns.plt.subplots(1,1, figsize=(13,6))\n",
    "    ax = axes\n",
    "    # this gives intuitive plots, currently we want the possible hypotheses instead\n",
    "#         for i in range(3):\n",
    "#             y.append(10/(x+2)+i)\n",
    "#             ax.plot(x, y[-1],  label='V%s'%(i+1), color=['r','g','b'][i])\n",
    "    colors = sns.color_palette(n_colors=3)\n",
    "    for i, (p, o) in enumerate([[peak_01_s0, opt_a_01_s0], [peak_01, opt_a_01]]):#, [peak_45, opt_a_45]]):\n",
    "#    ax.plot(ecc, hyperbola(ecc, opt_a), '-', label='scaling')\n",
    "#        ax.plot(ecc, hyperbola(ecc, o), '-', label='scaling', c= colors[i])\n",
    "        ax.plot(ecc, hyperbola(ecc, o), '-', label='Subject %s'%(i+1), c= colors[i])\n",
    "#    ax.plot(ecc, np.ones(len(ecc))*RF_scale_factor, '--', label='constant')\n",
    "#        ax.set_ylim((0,8))\n",
    "#    sns.plt.scatter(peak[:, 0], peak[:, 1], c=sns.color_palette('Reds', 6), s=75,)# label='This study')\n",
    "        if i==1:\n",
    "            sns.plt.scatter(p[:, 0]+.07, p[:, 1], c=colors[i], s=75,)# label='This study')\n",
    "        else:\n",
    "            sns.plt.scatter(p[:, 0], p[:, 1], c=colors[i], s=75,)# label='This study')\n",
    "#    sns.plt.scatter(Olsson_ecc, Olsson_peak, s=75, c= sns.color_palette('Blues', 10), label='Olsson pilot')\n",
    "    ax.set_xlabel(\"Receptive field center eccentricity (degrees)\")\n",
    "    ax.set_ylabel(\"Peak spatial frequency (cpd)\")\n",
    "    ax.set_title(\"\")\n",
    "    ax.set_ylim((.5, 4.5))\n",
    "    ax.set_xlim((0, 11))\n",
    "\n",
    "    sns.plt.legend(title=\"Subjects\", loc='best')\n",
    "#    ax.figure.savefig('results-hypotheses.svg', bbox_inches='tight')"
   ]
  }
 ],
 "metadata": {
  "kernelspec": {
   "display_name": "Python [conda root]",
   "language": "python",
   "name": "conda-root-py"
  },
  "language_info": {
   "codemirror_mode": {
    "name": "ipython",
    "version": 2
   },
   "file_extension": ".py",
   "mimetype": "text/x-python",
   "name": "python",
   "nbconvert_exporter": "python",
   "pygments_lexer": "ipython2",
   "version": "2.7.12"
  }
 },
 "nbformat": 4,
 "nbformat_minor": 2
}
