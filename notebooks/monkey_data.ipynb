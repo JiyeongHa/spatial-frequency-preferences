{
 "cells": [
  {
   "cell_type": "code",
   "execution_count": null,
   "metadata": {},
   "outputs": [],
   "source": [
    "import pandas as pd\n",
    "import seaborn as sns\n",
    "import numpy as np\n",
    "import matplotlib.pyplot as plt\n",
    "%matplotlib inline"
   ]
  },
  {
   "cell_type": "code",
   "execution_count": null,
   "metadata": {},
   "outputs": [],
   "source": [
    "df = pd.read_csv(\"../data/physiology/v1-jrc.csv\")\n",
    "df = df.rename(columns=lambda x: x.strip())\n",
    "df = df[['Casename', 'LAYER', 'HEMI', 'rfeccen', 'complexity', 'class(s1,c0)', 'prefori', 'direct', 'oriwid', 'vectprefori', 'vectprefdir', 'vectoribias', 'vectdirbias', 'optsf', 'sfwid', 'sfqual', 'opttf', 'tfwid', 'tfqual']]\n",
    "df = df.applymap(lambda x: {'#VALUE!': np.nan}.get(x,x))\n",
    "df = df.dropna(subset=['optsf', 'rfeccen'])\n",
    "df.rfeccen = df.rfeccen.astype(float)"
   ]
  },
  {
   "cell_type": "code",
   "execution_count": null,
   "metadata": {},
   "outputs": [],
   "source": [
    "df['preferred_period'] = 1./df.optsf"
   ]
  },
  {
   "cell_type": "code",
   "execution_count": null,
   "metadata": {},
   "outputs": [],
   "source": [
    "g = sns.FacetGrid(df, col='LAYER', col_wrap=5, hue='class(s1,c0)', palette='deep')\n",
    "g.map(plt.scatter, 'rfeccen', 'preferred_period')\n",
    "g.add_legend()\n",
    "g.set_ylabels('Preferred period (dpc)')\n",
    "g.set_xlabels('Receptive field eccentricity (deg)')\n",
    "g.set(xlim=(0,40))\n",
    "g.fig.savefig('monkey.svg')\n",
    "#for a in g.axes:\n",
    "#    a.set_yscale('log', basey=2)"
   ]
  },
  {
   "cell_type": "code",
   "execution_count": null,
   "metadata": {},
   "outputs": [],
   "source": [
    "ax = sns.scatterplot('rfeccen', 'optsf', 'LAYER', 'class(s1,c0)', data=df, legend='full', palette='Set2')\n",
    "ax.set_yscale('log', basey=2)"
   ]
  },
  {
   "cell_type": "code",
   "execution_count": null,
   "metadata": {},
   "outputs": [],
   "source": [
    "df.head()"
   ]
  }
 ],
 "metadata": {
  "kernelspec": {
   "display_name": "Python [default]",
   "language": "python",
   "name": "python2"
  },
  "language_info": {
   "codemirror_mode": {
    "name": "ipython",
    "version": 2
   },
   "file_extension": ".py",
   "mimetype": "text/x-python",
   "name": "python",
   "nbconvert_exporter": "python",
   "pygments_lexer": "ipython2",
   "version": "2.7.12"
  }
 },
 "nbformat": 4,
 "nbformat_minor": 2
}
