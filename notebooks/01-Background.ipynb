{
 "cells": [
  {
   "cell_type": "markdown",
   "metadata": {},
   "source": [
    "# Background\n",
    "\n",
    "This notebook contains some background information: results from the literature as it exists now, along with some predictions."
   ]
  },
  {
   "cell_type": "code",
   "execution_count": null,
   "metadata": {
    "init_cell": true
   },
   "outputs": [
    {
     "name": "stderr",
     "output_type": "stream",
     "text": [
      "/home/billbrod/anaconda2/lib/python2.7/site-packages/matplotlib/__init__.py:1357: UserWarning:  This call to matplotlib.use() has no effect\n",
      "because the backend has already been chosen;\n",
      "matplotlib.use() must be called *before* pylab, matplotlib.pyplot,\n",
      "or matplotlib.backends is imported for the first time.\n",
      "\n",
      "  warnings.warn(_use_error_msg)\n"
     ]
    }
   ],
   "source": [
    "# generic imports for rest of notebook\n",
    "import numpy as np\n",
    "import matplotlib.pyplot as plt\n",
    "%matplotlib inline\n",
    "import seaborn as sns\n",
    "import pandas as pd\n",
    "import scipy\n",
    "import sys\n",
    "sys.path.append('..')\n",
    "import sfp\n",
    "from matplotlib import ticker"
   ]
  },
  {
   "cell_type": "markdown",
   "metadata": {},
   "source": [
    "## Existing literature\n",
    "\n",
    "The following code summarizes the results I found in the papers cited at the end of this block, as well as from a model created by Noah Benson from pilot data that Catherine Olsson had gatherd (both members of the Winawer lab; see [next section](#Olsson-/-Benson-model) for details of the model). The data from the following papers was summarized by hand and is presented in the following figure as a summary.\n",
    "\n",
    "- Sasaki, Y., Hadjikhani, N., Fischl, B., Liu, A. K., Marret, S., Dale, A. M., & Tootell, R. B. (2001). Local and global attention are mapped retinotopically in human occipital cortex. Proceedings of the National Academy of Sciences, 98(4), 2077–2082.\n",
    "\n",
    "- Henriksson, L., Nurminen, L., Hyv\\\"arinen, Aapo, & Vanni, S. (2008). Spatial frequency tuning in human retinotopic visual areas. Journal of Vision, 8(10), 5. http://dx.doi.org/10.1167/8.10.5\n",
    "\n",
    "- Kay, K. N., Naselaris, T., Prenger, R. J., & Gallant, J. L. (2008). Identifying Natural Images From Human Brain Activity. Nature, 452(7185), 352–355. http://dx.doi.org/10.1038/nature06713\n",
    "\n",
    "- Hess, R. F., Li, X., Mansouri, B., Thompson, B., & Hansen, B. C. (2009). Selectivity as well as sensitivity loss characterizes the cortical spatial frequency deficit in amblyopia. Human Brain Mapping, 30(12), 4054–4069. http://dx.doi.org/10.1002/hbm.20829\n",
    "\n",
    "- Kay, K. N. (2011). Understanding Visual Representation By Developing Receptive-Field Models. Visual Population Codes: Towards a Common Multivariate Framework for Cell Recording and Functional Imaging, (), 133–162.\n",
    "\n",
    "- D'Souza, D. V., Auer, T., Frahm, J., Strasburger, H., & Lee, B. B. (2016). Dependence of chromatic responses in v1 on visual field eccentricity and spatial frequency: an fmri study. JOSA A, 33(3), 53–64.\n",
    "\n",
    "- Farivar, R., Clavagnier, S., Hansen, B. C., Thompson, B., & Hess, R. F. (2017). Non-uniform phase sensitivity in spatial frequency maps of the human visual cortex. The Journal of Physiology, 595(4), 1351–1363. http://dx.doi.org/10.1113/jp273206"
   ]
  },
  {
   "cell_type": "code",
   "execution_count": null,
   "metadata": {},
   "outputs": [],
   "source": [
    "data_dict = {\n",
    "    'Paper': ['Sasaki (2001)',]*7,\n",
    "    'Optimum SF (cpd)': [1.25, .9, .75, .7, .6, .5, .4],\n",
    "    'Eccentricity': [0, 1, 2, 3, 4, 5, 12]\n",
    "}\n",
    "data_dict['Paper'].extend(['Henriksson (2008)', ]*5)\n",
    "data_dict['Optimum SF (cpd)'].extend([1.2, .68, .46, .40, .18])\n",
    "data_dict['Eccentricity'].extend([1.7, 4.7, 6.3, 9, 19])\n",
    "\n",
    "# This is only a single point, so we don't plot it\n",
    "# data_dict['Paper'].extend(['Kay (2008)'])\n",
    "# data_dict['Optimum SF (cpd)'].extend([4.5])\n",
    "# data_dict['Eccentricity'].extend([ 2.9])\n",
    "\n",
    "data_dict['Paper'].extend(['Kay (2011)']*5)\n",
    "data_dict['Optimum SF (cpd)'].extend([4, 3, 10, 10, 2])\n",
    "data_dict['Eccentricity'].extend([2.5, 4, .5, 1.5, 7])\n",
    "\n",
    "data_dict['Paper'].extend([\"Hess (dominant eye, 2009)\"]*3)\n",
    "data_dict['Optimum SF (cpd)'].extend([2.25, 1.9, 1.75])\n",
    "data_dict['Eccentricity'].extend([2.5, 5, 10])\n",
    "\n",
    "data_dict['Paper'].extend([ \"D'Souza (2016)\",]*3)\n",
    "data_dict['Optimum SF (cpd)'].extend([2, .95, .4])\n",
    "data_dict['Eccentricity'].extend([1.4, 4.6, 9.8])\n",
    "\n",
    "data_dict['Paper'].extend(['Farivar (2017)']*2)\n",
    "data_dict['Optimum SF (cpd)'].extend([3, 1.5,])\n",
    "data_dict['Eccentricity'].extend([.5, 3])\n",
    "\n",
    "data_dict['Paper'].extend([ 'Olsson (pilot, model fit)']*10)\n",
    "data_dict['Optimum SF (cpd)'].extend([2.11, 1.76, 1.47, 2.75, 1.24, 1.06, .88, .77, .66, .60])\n",
    "data_dict['Eccentricity'].extend([2, 3, 4, 1, 5, 6, 7, 8, 9, 10])\n",
    "\n",
    "# Oct 19, wl_subj001 first scanning session data\n",
    "# data_dict['Paper'].extend(['This study']*6)\n",
    "# data_dict[\"Optimum SF (cpd)\"].extend([ 2.64442929,  2.06290022,  1.66656346,  1.39038784,  1.18985363, 1.03866873])\n",
    "# data_dict['Eccentricity'].extend([ 2.5,  3.5,  4.5,  5.5,  6.5, 7.5])\n",
    "\n",
    "# Predictions of the scaling hypothesis\n",
    "ecc = np.linspace(.01, 20, 50)\n",
    "fovea_cutoff = 0\n",
    "V1_RF_size = np.concatenate([np.ones(len(ecc[ecc<fovea_cutoff])), np.linspace(1, 2.5, len(ecc[ecc>=fovea_cutoff]))])\n",
    "V1_RF_size = .2 * ecc\n",
    "\n",
    "df = pd.DataFrame(data_dict)\n",
    "df = df.sort_values(['Paper','Eccentricity',])\n",
    "df[\"Preferred Period (dpc)\"] = 1. / df['Optimum SF (cpd)']"
   ]
  },
  {
   "cell_type": "code",
   "execution_count": null,
   "metadata": {},
   "outputs": [],
   "source": [
    "pal = sns.color_palette('Set3', 7)\n",
    "keys = pd.Series(data_dict['Paper']).unique()\n",
    "# pal = dict((k, p) for k, p in zip(keys, pal))\n",
    "# pal['Olsson (pilot, model fit)'] = sns.color_palette('Blues', 3)[-1]\n",
    "# pal['This study'] = sns.color_palette('Reds', 3)[-1]\n",
    "with sns.plotting_context('poster', font_scale=1.75), sns.axes_style('white'):\n",
    "    g = sns.FacetGrid(df, hue='Paper', size=8, aspect=1.2, palette=pal)\n",
    "    g.map(plt.semilogy, 'Eccentricity', 'Optimum SF (cpd)', marker='o', basey=2, linewidth=6)\n",
    "    g.ax.set_ylim((0, 11))\n",
    "    # g.map(plt.plot, 'Eccentricity', 'Preferred Period (dpc)', marker='o',)\n",
    "    # g.ax.set_ylim((0, 6))\n",
    "    g.ax.set_xlim((-1, 20))\n",
    "    # g.ax.plot(ecc, 1./V1_RF_size, '--', label='scaling hypothesis')\n",
    "    g.ax.legend(loc='best')\n",
    "    g.ax.set_title(\"Summary of human V1 fMRI results\")\n",
    "    g.ax.yaxis.set_major_formatter(ticker.FuncFormatter(sfp.plotting.myLogFormat))\n",
    "    g.ax.set_ylabel('Preferred spatial frequency (cpd)')\n",
    "    g.ax.set_xlabel('Eccentricity of receptive field center (deg)')\n",
    "    g.savefig('Summary.pdf')"
   ]
  },
  {
   "cell_type": "markdown",
   "metadata": {},
   "source": [
    "## Olsson / Benson model\n",
    "\n",
    "Noah Benson created this model based on pilot data that Catherine Olsson had gathered and it showed up in his VSS 2017 presentation about the Standard Cortical Observer model. It's a log-Gaussian fit to data not shown here."
   ]
  },
  {
   "cell_type": "code",
   "execution_count": null,
   "metadata": {},
   "outputs": [],
   "source": [
    "c = [2.52529, 1.57448, .453992, .252451, .293989]\n",
    "freqs = np.linspace(.25, 6, 100)\n",
    "ecc = np.linspace(1,10, 10)\n",
    "sensitivity = []\n",
    "for r in ecc:\n",
    "    sensitivity.append(c[0]/freqs * np.exp(-.5 * ((np.log(freqs)-(c[1]+r**c[2]))/(c[3]+r**c[4]))**2))\n",
    "    print(\"For eccentricity %s, peak sensitivity at frequency %s\"%(r, freqs[np.argmax(sensitivity[-1])]))\n",
    "sensitivity = np.array(sensitivity)"
   ]
  },
  {
   "cell_type": "code",
   "execution_count": null,
   "metadata": {},
   "outputs": [],
   "source": [
    "with sns.plotting_context(\"poster\"):\n",
    "    pal = sns.palettes.color_palette('Blues_r', 10)\n",
    "    fig, ax = plt.subplots()\n",
    "    for i, d in enumerate(sensitivity):\n",
    "        ax.semilogx(freqs, d, color=pal[i], label='%s degrees' % (i+1))\n",
    "    freq_floor = .75\n",
    "    # ax.plot([freq_floor, freq_floor], [.1, .45], 'k--')\n",
    "    # ax.plot([4*freq_floor, 4*freq_floor], [.1, .45], 'k--')\n",
    "    ax.set_xlim((.15, 7))\n",
    "    ax.set_ylim((0, .45))\n",
    "    plt.legend(loc='lower right')\n",
    "    _=plt.xticks([.2, .4, .6, .8, 1, 2, 4, 6,], [.2, .4, .6, .8, 1, 2, 4, 6,])"
   ]
  },
  {
   "cell_type": "markdown",
   "metadata": {},
   "source": [
    "# Predictions\n",
    "\n",
    "This section of the notebook contains some mocked-up plots to show our predictions for how our measured spatial frequency tuning curves will look. Note that these represent the \"generic hypothesis\" and we'll almost certainly find some sort of quantitative divergence from them. They are presented here because they help explain why we created the stimuli that we did.\n",
    "\n",
    "The first plots we show are 2d histograms, showing voxel response as a function of eccentricity and spatial period. We expect the preferred spatial frequency to drop as the inverse of eccentricity. We show two possibilities: all voxels are bandpass (preferring a range of frequencies, bandwidth increases with eccentricity) and all voxels are highpass (all respond to the high frequencies, but the min frequency increases with eccentricity). We expect bandpass is more likely, based on existing literature.\n",
    "\n",
    "Note that you should not pay too much attention to the numbers here, only to the general trends (i.e., we have no strong predictions on *what* particular frequency a voxel whose pRF lies at 3 degrees will prefer)."
   ]
  },
  {
   "cell_type": "code",
   "execution_count": null,
   "metadata": {},
   "outputs": [],
   "source": [
    "# to show this is not real data or model output or anything (just made up), we use xkcd style graphs\n",
    "#sns.plt.xkcd()\n",
    "sns.set_context(\"notebook\")\n",
    "\n",
    "base_freqs = np.round([2**i for i in np.arange(2.5, 8, .5)])\n",
    "# want this to be linear\n",
    "base_freqs = np.linspace(base_freqs[0], base_freqs[-1], 100)\n",
    "ecc = range(2, 15)\n",
    "df = pd.DataFrame(index=pd.MultiIndex.from_product([ecc, base_freqs]))\n",
    "df = df.reset_index().rename(columns={'level_0': \"eccentricity (degrees)\", 'level_1': \"spatial frequency (cpd)\"})\n",
    "\n",
    "def get_bp_resp(x):\n",
    "    N = scipy.stats.norm(250/x['eccentricity (degrees)']**.7, 2*x['eccentricity (degrees)'])\n",
    "    return N.pdf(x['spatial frequency (cpd)'])\n",
    "df[\"bp response\"] = df.apply(get_bp_resp, 1)\n",
    "df[\"bp normalized response\"] = df.groupby(\"eccentricity (degrees)\")['bp response'].apply(lambda x: x/x.max())"
   ]
  },
  {
   "cell_type": "code",
   "execution_count": null,
   "metadata": {},
   "outputs": [],
   "source": [
    "fig = sns.plt.figure(figsize=(10,5))\n",
    "tmp = df.pivot(\"spatial frequency (cpd)\", \"eccentricity (degrees)\", \"bp normalized response\")\n",
    "ax = sns.heatmap(tmp, cmap='Blues', xticklabels=ecc, yticklabels=10)\n",
    "ax.invert_yaxis()\n",
    "ax.set_title(\"Normalized Response of bandpass voxels\")"
   ]
  },
  {
   "cell_type": "code",
   "execution_count": null,
   "metadata": {},
   "outputs": [],
   "source": [
    "def get_hp_resp(x):\n",
    "    N = scipy.stats.norm(170, 12*x['eccentricity (degrees)'])\n",
    "    return N.pdf(x['spatial frequency (cpd)'])\n",
    "df[\"hp response\"] = df.apply(get_hp_resp, 1)\n",
    "df[\"hp normalized response\"] = df.groupby(\"eccentricity (degrees)\")['hp response'].apply(lambda x: x/x.max())"
   ]
  },
  {
   "cell_type": "code",
   "execution_count": null,
   "metadata": {},
   "outputs": [],
   "source": [
    "fig = sns.plt.figure(figsize=(10,5))\n",
    "tmp = df.pivot(\"spatial frequency (cpd)\", \"eccentricity (degrees)\", \"hp normalized response\")\n",
    "ax = sns.heatmap(tmp, cmap='Blues', xticklabels=ecc, yticklabels=10)\n",
    "ax.invert_yaxis()\n",
    "ax.set_title(\"Normalized Response of highpass voxels\")"
   ]
  },
  {
   "cell_type": "markdown",
   "metadata": {},
   "source": [
    "1d slices through these can also be helpful. And we see that the bandpass voxels keep the same shape, but increase in bandwidth and decrease in mean as the eccentricity increases."
   ]
  },
  {
   "cell_type": "code",
   "execution_count": null,
   "metadata": {},
   "outputs": [],
   "source": [
    "g = sns.FacetGrid(df[df[\"eccentricity (degrees)\"].isin([2,4, 6, 14])], hue=\"eccentricity (degrees)\", size=5)\n",
    "g.map(sns.plt.plot, \"spatial frequency (cpd)\", \"bp normalized response\")\n",
    "g.add_legend()"
   ]
  },
  {
   "cell_type": "markdown",
   "metadata": {},
   "source": [
    "As you will see in the next notebook, our stimuli are constructed in a very specific way. The rationale behind them is that there's a lawful and relatively straightforward relationship between the spatial frequency tuning of a voxel and the position of its pRF in the visual field, which can be inferred from the plots in the prediction section above as well as in the existing results in the literature. Our stimuli encode this relationship by having a certain spatial frequency at the center of the image (what we call the **base frequency**), and the local frequency in the image then drops as you move from the center of the image towards the edge. The rate at which it drops is the same in each image: the frequency scales with the reciprocal of the distance from the image center.\n",
    "\n",
    "This gives us another way to present our predictions: instead of plotting versus spatial frequency, we can plot versus the base frequency. The basic prediction then is that each voxel's tuning curve will be identical with respect to the base frequency (that is, each voxel across eccentricities in a given visual area will respond identically to one of our stimuli), because the rate at which our stimuli's local spatial frequencies change is identical to the rate at which the voxel's spatial frequency preferences change.\n",
    "\n",
    "This is the basic hypothesis around which we set up our experiment, and we are looking for the deviations from this hypothesis that will inevitably arise (maybe the scaling of the spatial frequencies isn't quite correct or there's a ceiling)."
   ]
  },
  {
   "cell_type": "code",
   "execution_count": null,
   "metadata": {},
   "outputs": [],
   "source": [
    "# The hypothesis is: they all have the same response to the base frequency\n",
    "df['base frequency (cpd)'] = df['spatial frequency (cpd)']\n",
    "def get_base_resp(x):\n",
    "    N = scipy.stats.norm(250/6**.7, 2*6)\n",
    "    return N.pdf(x['base frequency (cpd)'])\n",
    "df['response to base frequency'] = df.apply(get_base_resp, 1)\n",
    "df['Normalized response to base frequency'] = df['response to base frequency'] / df['response to base frequency'].max()"
   ]
  },
  {
   "cell_type": "code",
   "execution_count": null,
   "metadata": {},
   "outputs": [],
   "source": [
    "# and thus they're all ont op of each other\n",
    "with sns.plotting_context('poster', font_scale=1.1):\n",
    "    g = sns.FacetGrid(hue='eccentricity (degrees)',# y='response', x='base frequency (cpd)', \n",
    "                      data=df[df[\"eccentricity (degrees)\"].isin([4, 6, 10])], \n",
    "                      size=7, aspect=1.5, hue_kws={'linestyle': ['-', '--', ':']})\n",
    "    g.map(sns.plt.plot, 'base frequency (cpd)', 'Normalized response to base frequency')\n",
    "    g.ax.legend()\n",
    "    g.fig.suptitle(\"Bandpass voxel responses to base frequency\")\n",
    "    g.savefig('bandpass_response.svg')"
   ]
  },
  {
   "cell_type": "markdown",
   "metadata": {},
   "source": [
    "And looking at this as a heatmap, we see the following"
   ]
  },
  {
   "cell_type": "code",
   "execution_count": null,
   "metadata": {},
   "outputs": [],
   "source": [
    "fig = sns.plt.figure(figsize=(10,5))\n",
    "tmp = df.pivot(\"base frequency (cpd)\", \"eccentricity (degrees)\", \"response to base frequency\")\n",
    "ax = sns.heatmap(tmp, cmap='Blues', xticklabels=ecc, yticklabels=10)\n",
    "ax.invert_yaxis()\n",
    "ax.set_title(\"Response to base frequency\")"
   ]
  },
  {
   "cell_type": "code",
   "execution_count": null,
   "metadata": {},
   "outputs": [],
   "source": [
    "np.log(1./V1_RF_size)"
   ]
  },
  {
   "cell_type": "code",
   "execution_count": null,
   "metadata": {},
   "outputs": [],
   "source": [
    "ecc = np.linspace(.01, 20, 50)\n",
    "# from Eero, this is about what it should be\n",
    "V1_RF_size = .2*ecc\n",
    "# see bottom of this notebook, from Benson et al, HCP 7T retinotopy dataset (don't think the offset makes sense)\n",
    "V1_pRF_size = 0.063485 * ecc #+0.100698\n",
    "constant_hyp = 2*np.ones(len(ecc))\n",
    "# V1_RF_size = np.concatenate([np.ones(len(ecc[ecc<.5])), np.linspace(1, 2.5, len(ecc[ecc>=.5]))])\n",
    "#V2_RF_size = np.concatenate([2*np.ones(len(ecc[ecc<4])), np.linspace(2, 2.5, len(ecc[ecc>=4]))])\n",
    "pal = sns.color_palette('Dark2', n_colors=2)\n",
    "\n",
    "with sns.plotting_context('poster', font_scale=1.75), sns.axes_style('white'):\n",
    "\n",
    "    x = np.linspace(.01, 20, 50)\n",
    "    y = []\n",
    "    fig, axes = sns.plt.subplots(1,2, figsize=(12,6))\n",
    "    for i, ax in enumerate(axes.flatten()):\n",
    "    # this gives intuitive plots, currently we want the possible hypotheses instead\n",
    "#         for i in range(3):\n",
    "#             y.append(10/(x+2)+i)\n",
    "#             ax.plot(x, y[-1],  label='V%s'%(i+1), color=['r','g','b'][i])\n",
    "        if i==0:\n",
    "            ax.semilogy(ecc, 1./V1_pRF_size, '-', label='scaling', linewidth=6, basey=2, c=pal[0])\n",
    "            ax.set_ylim((.25, 10))\n",
    "            ax.set_ylabel(\"Preferred SF (cpd)\")\n",
    "            ax.yaxis.set_major_formatter(ticker.FuncFormatter(sfp.plotting.myLogFormat))\n",
    "            ax.plot(ecc, constant_hyp, c=pal[1], linewidth=6)# label='constant')\n",
    "    #        ax.set_ylim((0,8))\n",
    "        elif i==1:\n",
    "            ax.plot(ecc, V1_pRF_size, linewidth=6, label='scaling', c=pal[0])\n",
    "            ax.set_ylabel(\"Preferred period (dpc)\")\n",
    "            ax.plot(ecc, 1./constant_hyp, c=pal[1], linewidth=6, label='constant')\n",
    "            ax.set_yticks([0, 1, 2])\n",
    "        ax.set_xlabel(\"Eccentricity (deg)\")\n",
    "        # ax.set_title(\"Possible relationships between eccentricity and spatial frequency in V1\")\n",
    "\n",
    "    sns.despine()\n",
    "\n",
    "    sns.plt.legend(title=\"hypotheses\", loc='best')\n",
    "    ax.figure.savefig('hypotheses.svg', bbox_inches='tight')"
   ]
  },
  {
   "cell_type": "code",
   "execution_count": null,
   "metadata": {},
   "outputs": [],
   "source": [
    "ecc = np.linspace(.01, 20, 50)\n",
    "# from Eero, this is about what it should be\n",
    "V1_RF_size = .2*ecc\n",
    "V1_pRF_size_slope = 0.063485\n",
    "V1_pRF_size_offset = 0#.100698\n",
    "V1_pRF_size_error = 0.052780\n",
    "pal = sns.color_palette('Dark2', n_colors=2)\n",
    "with sns.plotting_context('poster', font_scale=1.75), sns.axes_style('white'):\n",
    "\n",
    "    x = np.linspace(.01, 20, 50)\n",
    "    y = []\n",
    "    fig, axes = sns.plt.subplots(1,2, figsize=(12,6))\n",
    "    for i, ax in enumerate(axes.flatten()):\n",
    "        ax.fill_between(ecc, (V1_pRF_size_slope - V1_pRF_size_error/2.)*ecc + V1_pRF_size_offset, (V1_pRF_size_slope + V1_pRF_size_error/2.)*ecc + V1_pRF_size_offset, alpha=.1, color=pal[0])\n",
    "        ax.plot(ecc, V1_pRF_size_slope*ecc+V1_pRF_size_offset, linewidth=6, label='scaling', c=pal[0])\n",
    "        if i==0:\n",
    "            for e in [1,5,10,15,20]:\n",
    "                ax.plot([0, 20], [V1_pRF_size_slope*e+V1_pRF_size_offset, V1_pRF_size_slope*e+V1_pRF_size_offset], '--', c='k', linewidth=6)\n",
    "            ax.set_title(\"Conventional stimuli\")\n",
    "        if i==1:\n",
    "            for j in [-1, -.5, 0, .5, 1]:\n",
    "                ax.plot(ecc, (V1_pRF_size_slope + j*V1_pRF_size_error/2.)*ecc + V1_pRF_size_offset, '--', c='k', linewidth=6)\n",
    "            ax.set_title(\"Scaled stimuli\")\n",
    "        ax.set_yticks([0, 1, 2])\n",
    "        ax.set_xlabel(\"Eccentricity (deg)\")\n",
    "        ax.set_ylabel(\"Preferred period (dpc)\")\n",
    "\n",
    "    sns.despine()\n",
    "\n",
    "    ax.figure.savefig('stim_eff.svg', bbox_inches='tight')"
   ]
  },
  {
   "cell_type": "code",
   "execution_count": null,
   "metadata": {},
   "outputs": [],
   "source": [
    "with sns.plotting_context('%notebook'), sns.axes_style('white'):\n",
    "    x = np.array(range(1,101))/3.5\n",
    "    sig1 = [sfp.utils.log_norm_pdf(x, 1, 2, 1)] * 3\n",
    "    sig2 = [sfp.utils.log_norm_pdf(x, 1, i+1, 1) for i in range(3)]\n",
    "    ecc = ['2 degrees'] * len(x) + ['4 degrees'] * len(x) + ['6 degrees'] * len(x)\n",
    "    resp_type = ['sf'] * len(ecc) + ['stim'] * len(ecc)\n",
    "    df = pd.DataFrame({'sf': np.tile(x, 6), 'sig': np.array(sig1+sig2).flatten(), 'Eccentricity': ecc*2, 'resp_type': resp_type})\n",
    "    df['norm_sig'] = df.groupby(['resp_type', 'Eccentricity']).sig.apply(lambda x: x/x.max())\n",
    "    g = sns.FacetGrid(df, row='resp_type', hue='Eccentricity', palette='Reds', sharex=False, aspect=2.5)\n",
    "    g.map(plt.semilogx, 'sf', 'norm_sig', basex=2, linestyle='--')\n",
    "    g.add_legend()\n",
    "    for i, ax in enumerate(g.axes.flatten()):\n",
    "        if i==0:\n",
    "            ax.set_title('Response as function of local spatial frequency (cycles / degree)')\n",
    "        if i==1:\n",
    "            ax.set_title('Response as function of stimulus')\n",
    "        ax.xaxis.set_visible(False)\n",
    "        ax.set_yticks([0, 1])\n",
    "        ax.set_ylabel('Normalized response')\n",
    "        ax.set_ylim((0, 1.1))\n",
    "    plt.subplots_adjust(hspace=.5)\n",
    "#    fig.savefig('constant_prediction.svg')"
   ]
  },
  {
   "cell_type": "code",
   "execution_count": null,
   "metadata": {},
   "outputs": [],
   "source": [
    "with sns.plotting_context('poster'), sns.axes_style('white'):\n",
    "    cmap = sns.color_palette('Reds', 3)\n",
    "    fig, axes = plt.subplots(2,1, figsize=(9,6))\n",
    "    x = np.array(range(1,101))/3.5\n",
    "    for i, ax in enumerate(axes):\n",
    "        if i==1:\n",
    "            ax.set_title('Response as function of stimulus')\n",
    "            sig = sfp.utils.log_norm_pdf(x, 1, 2, 1)\n",
    "            ax.semilogx(x, sig/sig.max(), '-', basex=2, c=cmap[2], linewidth=7)\n",
    "        if i==0:\n",
    "            ax.set_title('Response as function of local spatial frequency (cycles / degree)')\n",
    "            for j in range(3):\n",
    "                sig = sfp.utils.log_norm_pdf(x, 1, 3-j, 1)\n",
    "                ax.semilogx(x, sig/sig.max(), '-', basex=2, c=cmap[j], label='%i degrees' % (2*(j+1)), linewidth=7)\n",
    "                ax.legend(loc='best')\n",
    "        ax.xaxis.set_visible(False)\n",
    "        ax.set_ylabel('Normalized response')\n",
    "        ax.set_ylim((0, 1.1))\n",
    "    plt.subplots_adjust(hspace=.5)\n",
    "#    fig.savefig('scaling_prediction.svg')"
   ]
  },
  {
   "cell_type": "markdown",
   "metadata": {},
   "source": [
    "# Spatial frequency examples"
   ]
  },
  {
   "cell_type": "code",
   "execution_count": null,
   "metadata": {},
   "outputs": [],
   "source": [
    "import pyPyrTools as ppt\n",
    "import matplotlib.pyplot as plt\n",
    "%matplotlib inline\n",
    "import numpy as np\n",
    "import Image\n",
    "from scipy import ndimage\n",
    "import sys\n",
    "sys.path.append('..')\n",
    "import sfp"
   ]
  },
  {
   "cell_type": "code",
   "execution_count": null,
   "metadata": {},
   "outputs": [],
   "source": [
    "im = np.array(Image.open('/home/billbrod/Documents/pyPyrTools/pyPyrTools/einsteinCorrect.pgm'))\n",
    "\n",
    "fig = plt.figure(figsize=(5,5))\n",
    "ax = sfp.utils.im_plot(im)\n",
    "fig.savefig('einstein.svg')"
   ]
  },
  {
   "cell_type": "code",
   "execution_count": null,
   "metadata": {},
   "outputs": [],
   "source": [
    "pyr = ppt.Lpyr(im, height=7)\n"
   ]
  },
  {
   "cell_type": "code",
   "execution_count": null,
   "metadata": {},
   "outputs": [],
   "source": [
    "ims = [pyr.band(0), pyr.reconPyr(range(1,7))]\n",
    "fig, axes = plt.subplots(1,2, figsize=(10,5))\n",
    "for i, ax in enumerate(axes.flatten()):\n",
    "    sfp.im_plot(ims[i], ax=ax)\n",
    "fig.savefig('einsteinSF-two.svg')"
   ]
  },
  {
   "cell_type": "code",
   "execution_count": null,
   "metadata": {},
   "outputs": [],
   "source": [
    "fig, axes = plt.subplots(2, 4, figsize=(20,10))\n",
    "for i, ax in enumerate(axes.flatten()):\n",
    "    if i<pyr.nbands():\n",
    "        sfp.im_plot(pyr.band(i), ax=ax)\n",
    "    else:\n",
    "        ax.set_visible(False)"
   ]
  },
  {
   "cell_type": "code",
   "execution_count": null,
   "metadata": {},
   "outputs": [],
   "source": [
    "fig, axes = plt.subplots(2, 4, figsize=(20,10))\n",
    "ims = []\n",
    "for i, ax in enumerate(axes.flatten()):\n",
    "    if i<pyr.nbands():\n",
    "        ims.append(ndimage.zoom(pyr.band(i), 2**i)/float(2**i))\n",
    "        sfp.im_plot(ims[-1], ax=ax)\n",
    "    else:\n",
    "        ax.set_visible(False)\n",
    "fig.savefig('einsteinSF.svg')"
   ]
  },
  {
   "cell_type": "code",
   "execution_count": null,
   "metadata": {},
   "outputs": [],
   "source": [
    "# This is what is actually used in reconPyr, up-sampling by a factor of two and adding as you go\n",
    "filt = ppt.namedFilter('binom5')\n",
    "\n",
    "fig, axes = plt.subplots(2, 4, figsize=(20,10))\n",
    "ims = []\n",
    "for i, ax in enumerate(axes.flatten()):\n",
    "    if i<pyr.nbands():\n",
    "        hi = ppt.upConv(pyr.band(i), filt, step=(2,1))\n",
    "        ims.append(ppt.upConv(hi, filt.T, step=(1,2)))\n",
    "        sfp.im_plot(ims[-1], ax=ax)\n",
    "    else:\n",
    "        ax.set_visible(False)\n",
    "fig.savefig('einsteinSF.svg')"
   ]
  },
  {
   "cell_type": "code",
   "execution_count": null,
   "metadata": {},
   "outputs": [],
   "source": [
    "ims = np.array(ims)\n",
    "# this doesn't work because the scaling is off\n",
    "sfp.im_plot(ims.sum(0))"
   ]
  },
  {
   "cell_type": "markdown",
   "metadata": {},
   "source": [
    "## Cells as filter examples"
   ]
  },
  {
   "cell_type": "code",
   "execution_count": null,
   "metadata": {},
   "outputs": [],
   "source": [
    "import pyPyrTools as ppt\n",
    "import matplotlib.pyplot as plt\n",
    "%matplotlib inline\n",
    "import numpy as np\n",
    "import Image\n",
    "from scipy import ndimage\n",
    "import sys\n",
    "sys.path.append('..')\n",
    "import sfp\n",
    "from scipy.ndimage import filters as sfilts\n",
    "import seaborn as sns"
   ]
  },
  {
   "cell_type": "code",
   "execution_count": null,
   "metadata": {},
   "outputs": [],
   "source": [
    "im = np.array(Image.open('/home/billbrod/Documents/pyPyrTools/pyPyrTools/einsteinCorrect.pgm'))\n",
    "print im.shape\n",
    "\n",
    "fig = plt.figure(figsize=(5,5))\n",
    "ax = sfp.utils.im_plot(im)\n",
    "fig.savefig('einstein.svg', bbox_inches='tight')"
   ]
  },
  {
   "cell_type": "code",
   "execution_count": null,
   "metadata": {},
   "outputs": [],
   "source": [
    "def create_circle_mask(x, y, rad, size):\n",
    "    x_grid = np.array(range(size))\n",
    "    x_grid, y_grid = np.meshgrid(x_grid, x_grid)\n",
    "    mask = np.zeros((size, size))\n",
    "    mask[(x_grid - x)**2 + (y_grid - y)**2 <= rad**2] = 1\n",
    "    return mask"
   ]
  },
  {
   "cell_type": "code",
   "execution_count": null,
   "metadata": {},
   "outputs": [],
   "source": [
    "cell_dict = {0: 'Foveal cell', 1: 'Near-foveal cell', 2: 'Peripheral cell'}"
   ]
  },
  {
   "cell_type": "code",
   "execution_count": null,
   "metadata": {},
   "outputs": [],
   "source": [
    "cells_view = []\n",
    "for i in range(3):\n",
    "    mask = create_circle_mask(128+i*5, 128+i*45, 9, 256)\n",
    "    tmp = im*mask\n",
    "#    tmp[tmp==0] += 127\n",
    "    cells_view.append(tmp)\n",
    "\n",
    "# with sns.plotting_context('poster'):\n",
    "#     fig, axes = plt.subplots(1, 3, figsize=(20,10))\n",
    "#     for i, ax in enumerate(axes):\n",
    "#         sfp.utils.im_plot(cells_view[i], vmin=0, vmax=255, ax=ax)\n",
    "#         ax.set_title(cell_dict[i])\n",
    "#     fig.savefig('Cells_no_change.svg', bbox_inches='tight')\n",
    "\n",
    "with sns.plotting_context('poster'):\n",
    "    sfp.utils.im_plot(np.array(cells_view).sum(0))\n",
    "    plt.savefig('Cells_no_change.svg', bbox_inches='tight')"
   ]
  },
  {
   "cell_type": "code",
   "execution_count": null,
   "metadata": {},
   "outputs": [],
   "source": [
    "cells_view = []\n",
    "for i in range(3):\n",
    "    mask = create_circle_mask(128+i*5, 128+i*45, 9*(i+1), 256)\n",
    "    tmp = im*mask\n",
    "#    tmp[tmp==0] += 127\n",
    "    cells_view.append(tmp)\n",
    "\n",
    "# with sns.plotting_context('poster'):\n",
    "#     fig, axes = plt.subplots(1, 3, figsize=(20,10))\n",
    "#     for i, ax in enumerate(axes):\n",
    "#         sfp.utils.im_plot(cells_view[i], vmin=0, vmax=255, ax=ax)\n",
    "#         ax.set_title(cell_dict[i])\n",
    "#     fig.savefig('Cells_size_scale.svg', bbox_inches='tight')\n",
    "\n",
    "with sns.plotting_context('poster'):\n",
    "    sfp.utils.im_plot(np.array(cells_view).sum(0))\n",
    "    plt.savefig('Cells_size_scale.svg', bbox_inches='tight')"
   ]
  },
  {
   "cell_type": "code",
   "execution_count": null,
   "metadata": {},
   "outputs": [],
   "source": [
    "cells_view = []\n",
    "for i in range(3):\n",
    "    mask = create_circle_mask(128+i*5, 128+i*45, 9*(i+1), 256)\n",
    "    tmp = sfilts.gaussian_filter(im, i*3)*mask\n",
    "#    tmp[tmp==0] += 255\n",
    "    cells_view.append(tmp)\n",
    "\n",
    "# with sns.plotting_context('poster'):\n",
    "#     fig, axes = plt.subplots(1, 3, figsize=(20,10))\n",
    "#     for i, ax in enumerate(axes):\n",
    "#         sfp.utils.im_plot(cells_view[i], vmin=0, vmax=255, ax=ax)\n",
    "#         ax.set_title(cell_dict[i])\n",
    "#     fig.savefig('Cells_scaling_blur.svg', bbox_inches='tight')\n",
    "\n",
    "with sns.plotting_context('poster'):\n",
    "    sfp.utils.im_plot(np.array(cells_view).sum(0))\n",
    "    plt.savefig('Cells_scaling_blur.svg', bbox_inches='tight')"
   ]
  },
  {
   "cell_type": "markdown",
   "metadata": {},
   "source": [
    "# pRF Size\n",
    "\n",
    "There's a csv with the line fits for pRF size in different areas (from the [HCP retinotopy data](https://www.biorxiv.org/content/early/2018/04/25/308247)) on Acadia. \n",
    "\n",
    "From Noah on how to use: \"the error slope is the slope of the line-fit (with offset held at 0) to the abs(err) where err is the original prf size data minus the line-fit. So I would plot it as:\n",
    " \n",
    " (line) y = m*x + b\n",
    " \n",
    " (upper-bound) y1 = (m + e/2)*x + b\n",
    " \n",
    " (lower-bound) y2 = (m - e/2)*x + b\""
   ]
  },
  {
   "cell_type": "code",
   "execution_count": null,
   "metadata": {},
   "outputs": [],
   "source": [
    "# allfits is fit to all subjects (instead of aggfits, where it's fit to the averaged subject)\n",
    "df = pd.read_csv(\"/mnt/Acadia/Projects/HCP/analysis/prf_images/allfits.csv\")"
   ]
  },
  {
   "cell_type": "code",
   "execution_count": null,
   "metadata": {},
   "outputs": [],
   "source": [
    "df"
   ]
  },
  {
   "cell_type": "code",
   "execution_count": null,
   "metadata": {},
   "outputs": [],
   "source": [
    "def plot_line(m, b, x=np.linspace(0, 12, 200), **kwargs):\n",
    "    data = kwargs.pop('data')\n",
    "    sns.plt.plot(x, data[m].values*x + data[b].values, **kwargs)\n",
    "    \n",
    "def plot_error(m, b, e, x=np.linspace(0, 12, 200), alpha=.2, **kwargs):\n",
    "    data = kwargs.pop('data')\n",
    "    sns.plt.fill_between(x, (data[m].values+data[e].values/2.)*x + data[b].values, (data[m].values-data[e].values/2.)*x + data[b].values, alpha=alpha, **kwargs)\n",
    "\n",
    "with sns.axes_style('white'), sns.plotting_context('poster', font_scale=2.5):\n",
    "    g = sns.FacetGrid(df[df.Area.isin(['V1'])], hue='Area', size=8, aspect=2, palette='Dark2')\n",
    "    g.map_dataframe(plot_error, 'Slope', 'Offset', 'ErrorSlope', x=np.linspace(0, 20, 200),)\n",
    "    g.map_dataframe(plot_line, 'Slope', 'Offset', x=np.linspace(0, 20, 200), linewidth=6)\n",
    "    g.set_ylabels(\"Population Receptive Field Sigma (deg)\")\n",
    "    g.set_xlabels(\"Population Receptive Field Eccentricity (deg)\")\n",
    "    g.set(yticks=[0,1,2])\n",
    "    g.savefig(\"pRF.svg\")"
   ]
  }
 ],
 "metadata": {
  "kernelspec": {
   "display_name": "Python [conda root]",
   "language": "python",
   "name": "conda-root-py"
  },
  "language_info": {
   "codemirror_mode": {
    "name": "ipython",
    "version": 2
   },
   "file_extension": ".py",
   "mimetype": "text/x-python",
   "name": "python",
   "nbconvert_exporter": "python",
   "pygments_lexer": "ipython2",
   "version": "2.7.12"
  }
 },
 "nbformat": 4,
 "nbformat_minor": 2
}
