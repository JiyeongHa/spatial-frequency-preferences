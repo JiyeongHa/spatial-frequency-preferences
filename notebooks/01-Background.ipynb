{
 "cells": [
  {
   "cell_type": "markdown",
   "metadata": {},
   "source": [
    "# Background\n",
    "\n",
    "This notebook contains some background information: results from the literature as it exists now."
   ]
  },
  {
   "cell_type": "code",
   "execution_count": null,
   "metadata": {},
   "outputs": [],
   "source": [
    "# generic imports for rest of notebook\n",
    "import numpy as np\n",
    "import matplotlib.pyplot as plt\n",
    "%matplotlib inline\n",
    "import seaborn as sns\n",
    "import pandas as pd\n",
    "import scipy"
   ]
  },
  {
   "cell_type": "markdown",
   "metadata": {},
   "source": [
    "## Existing literature\n",
    "\n",
    "The following code summarizes the results I found in the papers cited at the end of this block, as well as from a model created by Noah Benson from pilot data that Catherine Olsson had gatherd (both members of the Winawer lab; see [next section](#Olsson-/-Benson-model) for details of the model). The data from the following papers was summarized by hand and is presented in the following figure as a summary.\n",
    "\n",
    "- Sasaki, Y., Hadjikhani, N., Fischl, B., Liu, A. K., Marret, S., Dale, A. M., & Tootell, R. B. (2001). Local and global attention are mapped retinotopically in human occipital cortex. Proceedings of the National Academy of Sciences, 98(4), 2077–2082.\n",
    "\n",
    "- Henriksson, L., Nurminen, L., Hyv\\\"arinen, Aapo, & Vanni, S. (2008). Spatial frequency tuning in human retinotopic visual areas. Journal of Vision, 8(10), 5. http://dx.doi.org/10.1167/8.10.5\n",
    "\n",
    "- Kay, K. N., Naselaris, T., Prenger, R. J., & Gallant, J. L. (2008). Identifying Natural Images From Human Brain Activity. Nature, 452(7185), 352–355. http://dx.doi.org/10.1038/nature06713\n",
    "\n",
    "- Hess, R. F., Li, X., Mansouri, B., Thompson, B., & Hansen, B. C. (2009). Selectivity as well as sensitivity loss characterizes the cortical spatial frequency deficit in amblyopia. Human Brain Mapping, 30(12), 4054–4069. http://dx.doi.org/10.1002/hbm.20829\n",
    "\n",
    "- Kay, K. N. (2011). Understanding Visual Representation By Developing Receptive-Field Models. Visual Population Codes: Towards a Common Multivariate Framework for Cell Recording and Functional Imaging, (), 133–162.\n",
    "\n",
    "- D'Souza, D. V., Auer, T., Frahm, J., Strasburger, H., & Lee, B. B. (2016). Dependence of chromatic responses in v1 on visual field eccentricity and spatial frequency: an fmri study. JOSA A, 33(3), 53–64.\n",
    "\n",
    "- Farivar, R., Clavagnier, S., Hansen, B. C., Thompson, B., & Hess, R. F. (2017). Non-uniform phase sensitivity in spatial frequency maps of the human visual cortex. The Journal of Physiology, 595(4), 1351–1363. http://dx.doi.org/10.1113/jp273206"
   ]
  },
  {
   "cell_type": "code",
   "execution_count": null,
   "metadata": {},
   "outputs": [],
   "source": [
    "data_dict = {\n",
    "    'Paper': ['Sasaki (2001)',]*7,\n",
    "    'Optimum SF (cpd)': [1.25, .9, .75, .7, .6, .5, .4],\n",
    "    'Eccentricity': [0, 1, 2, 3, 4, 5, 12]\n",
    "}\n",
    "data_dict['Paper'].extend(['Henriksson (2008)', ]*5)\n",
    "data_dict['Optimum SF (cpd)'].extend([1.2, .68, .46, .40, .18])\n",
    "data_dict['Eccentricity'].extend([1.7, 4.7, 6.3, 9, 19])\n",
    "\n",
    "data_dict['Paper'].extend(['Kay (2008)']+['Kay (2011)']*5)\n",
    "data_dict['Optimum SF (cpd)'].extend([4.5, 4, 3, 10, 10, 2])\n",
    "data_dict['Eccentricity'].extend([ 2.9, 2.5, 4, .5, 1.5, 7])\n",
    "\n",
    "data_dict['Paper'].extend([\"Hess (dominant eye, 2009)\"]*3)\n",
    "data_dict['Optimum SF (cpd)'].extend([2.25, 1.9, 1.75])\n",
    "data_dict['Eccentricity'].extend([2.5, 5, 10])\n",
    "\n",
    "data_dict['Paper'].extend([ \"D'Souza (2016)\",]*3)\n",
    "data_dict['Optimum SF (cpd)'].extend([2, .95, .4])\n",
    "data_dict['Eccentricity'].extend([1.4, 4.6, 9.8])\n",
    "\n",
    "data_dict['Paper'].extend(['Farivar (2017)']*2)\n",
    "data_dict['Optimum SF (cpd)'].extend([3, 1.5,])\n",
    "data_dict['Eccentricity'].extend([.5, 3])\n",
    "\n",
    "data_dict['Paper'].extend([ 'Olsson (pilot, model fit)']*10)\n",
    "data_dict['Optimum SF (cpd)'].extend([2.11, 1.76, 1.47, 2.75, 1.24, 1.06, .88, .77, .66, .60])\n",
    "data_dict['Eccentricity'].extend([2, 3, 4, 1, 5, 6, 7, 8, 9, 10])\n",
    "\n",
    "df = pd.DataFrame(data_dict)\n",
    "df = df.sort(['Paper','Eccentricity',])"
   ]
  },
  {
   "cell_type": "code",
   "execution_count": null,
   "metadata": {},
   "outputs": [],
   "source": [
    "ecc = np.linspace(.01, 20, 50)\n",
    "V1_RF_size = np.concatenate([np.ones(len(ecc[ecc<.5])), np.linspace(1, 2.5, len(ecc[ecc>=.5]))])\n",
    "#V2_RF_size = np.concatenate([2*np.ones(len(ecc[ecc<4])), np.linspace(2, 2.5, len(ecc[ecc>=4]))])\n",
    "\n",
    "with sns.plotting_context('poster', font_scale=1):\n",
    "    # because this doesn't represent data, just intuition, we use this.\n",
    "#    with plt.xkcd():\n",
    "    x = np.linspace(.01, 20, 50)\n",
    "    y = []\n",
    "    fig, axes = sns.plt.subplots(1,1, figsize=(8,6))\n",
    "    ax = axes\n",
    "    # this gives intuitive plots, currently we want the possible hypotheses instead\n",
    "#         for i in range(3):\n",
    "#             y.append(10/(x+2)+i)\n",
    "#             ax.plot(x, y[-1],  label='V%s'%(i+1), color=['r','g','b'][i])\n",
    "    ax.plot(ecc, 1/V1_RF_size, '--', label='scales')\n",
    "    ax.plot(ecc, np.ones(len(ecc)), '--', label='constant')\n",
    "#        ax.set_ylim((0,8))\n",
    "    ax.set_xlabel(\"Receptive field center (degrees)\")\n",
    "    ax.set_ylabel(\"Normalized Peak spatial frequency (cpd)\")\n",
    "    ax.set_title(\"Possible relationships between eccentricity and SF in V1\")\n",
    "\n",
    "    sns.plt.legend(title=\"hypotheses\", loc='best')\n",
    "    ax.figure.savefig('hypotheses.svg', bbox_inches='tight')"
   ]
  },
  {
   "cell_type": "code",
   "execution_count": null,
   "metadata": {},
   "outputs": [],
   "source": [
    "with sns.plotting_context('poster', font_scale=1.75):\n",
    "    g = sns.FacetGrid(df, hue='Paper', size=10, aspect=1.5)\n",
    "    g.map(plt.semilogy, 'Eccentricity', 'Optimum SF (cpd)', marker='o', basey=2)\n",
    "    g.ax.set_xlim((-1, 20))\n",
    "    g.ax.set_ylim((0, 11))\n",
    "    g.ax.plot(ecc, 1/V1_RF_size, '--', label='scaling hypothesis')\n",
    "    g.ax.legend(loc='best')\n",
    "    g.ax.set_title(\"Summary of V1 results\")\n",
    "    g.savefig('Summary.svg')"
   ]
  },
  {
   "cell_type": "markdown",
   "metadata": {},
   "source": [
    "## Olsson / Benson model\n",
    "\n",
    "Noah Benson created this model based on pilot data that Catherine Olsson had gathered and it showed up in his VSS 2017 presentation about the Standard Cortical Observer model. It's a log-Gaussian fit to data not shown here."
   ]
  },
  {
   "cell_type": "code",
   "execution_count": null,
   "metadata": {},
   "outputs": [],
   "source": [
    "c = [2.52529, 1.57448, .453992, .252451, .293989]\n",
    "freqs = np.linspace(.25, 6, 100)\n",
    "ecc = np.linspace(1,10, 10)\n",
    "sensitivity = []\n",
    "for r in ecc:\n",
    "    sensitivity.append(c[0]/freqs * np.exp(-.5 * ((np.log(freqs)-(c[1]+r**c[2]))/(c[3]+r**c[4]))**2))\n",
    "    print(\"For eccentricity %s, peak sensitivity at frequency %s\"%(r, freqs[np.argmax(sensitivity[-1])]))\n",
    "sensitivity = np.array(sensitivity)"
   ]
  },
  {
   "cell_type": "code",
   "execution_count": null,
   "metadata": {},
   "outputs": [],
   "source": [
    "with sns.plotting_context(\"poster\"):\n",
    "    pal = sns.palettes.color_palette('Blues_r', 10)\n",
    "    fig, ax = plt.subplots()\n",
    "    for i, d in enumerate(sensitivity):\n",
    "        ax.semilogx(freqs, d, color=pal[i], label='%s degrees' % (i+1))\n",
    "    freq_floor = .75\n",
    "    # ax.plot([freq_floor, freq_floor], [.1, .45], 'k--')\n",
    "    # ax.plot([4*freq_floor, 4*freq_floor], [.1, .45], 'k--')\n",
    "    ax.set_xlim((.15, 7))\n",
    "    ax.set_ylim((0, .45))\n",
    "    plt.legend(loc='lower right')\n",
    "    _=plt.xticks([.2, .4, .6, .8, 1, 2, 4, 6,], [.2, .4, .6, .8, 1, 2, 4, 6,])"
   ]
  },
  {
   "cell_type": "markdown",
   "metadata": {},
   "source": [
    "# Predictions\n",
    "\n",
    "This section of the notebook contains some mocked-up plots to show our predictions for how our measured spatial frequency tuning curves will look. Note that these represent the \"generic hypothesis\" and we'll almost certainly find some sort of quantitative divergence from them. They are presented here because they help explain why we created the stimuli that we did.\n",
    "\n",
    "The first plots we show are 2d histograms, showing voxel response as a function of eccentricity and spatial period. We expect the preferred spatial frequency to drop as the inverse of eccentricity. We show two possibilities: all voxels are bandpass (preferring a range of frequencies, bandwidth increases with eccentricity) and all voxels are highpass (all respond to the high frequencies, but the min frequency increases with eccentricity). We expect bandpass is more likely, based on existing literature.\n",
    "\n",
    "Note that you should not pay too much attention to the numbers here, only to the general trends (i.e., we have no strong predictions on *what* particular frequency a voxel whose pRF lies at 3 degrees will prefer)."
   ]
  },
  {
   "cell_type": "code",
   "execution_count": null,
   "metadata": {},
   "outputs": [],
   "source": [
    "# to show this is not real data or model output or anything (just made up), we use xkcd style graphs\n",
    "#sns.plt.xkcd()\n",
    "sns.set_context(\"notebook\")\n",
    "\n",
    "base_freqs = np.round([2**i for i in np.arange(2.5, 8, .5)])\n",
    "# want this to be linear\n",
    "base_freqs = np.linspace(base_freqs[0], base_freqs[-1], 100)\n",
    "ecc = range(2, 15)\n",
    "df = pd.DataFrame(index=pd.MultiIndex.from_product([ecc, base_freqs]))\n",
    "df = df.reset_index().rename(columns={'level_0': \"eccentricity (degrees)\", 'level_1': \"spatial frequency (cpd)\"})\n",
    "\n",
    "def get_bp_resp(x):\n",
    "    N = scipy.stats.norm(250/x['eccentricity (degrees)']**.7, 2*x['eccentricity (degrees)'])\n",
    "    return N.pdf(x['spatial frequency (cpd)'])\n",
    "df[\"bp response\"] = df.apply(get_bp_resp, 1)\n",
    "df[\"bp normalized response\"] = df.groupby(\"eccentricity (degrees)\")['bp response'].apply(lambda x: x/x.max())"
   ]
  },
  {
   "cell_type": "code",
   "execution_count": null,
   "metadata": {},
   "outputs": [],
   "source": [
    "fig = sns.plt.figure(figsize=(10,5))\n",
    "tmp = df.pivot(\"spatial frequency (cpd)\", \"eccentricity (degrees)\", \"bp normalized response\")\n",
    "ax = sns.heatmap(tmp, cmap='Blues', xticklabels=ecc, yticklabels=10)\n",
    "ax.invert_yaxis()\n",
    "ax.set_title(\"Normalized Response of bandpass voxels\")"
   ]
  },
  {
   "cell_type": "code",
   "execution_count": null,
   "metadata": {},
   "outputs": [],
   "source": [
    "def get_hp_resp(x):\n",
    "    N = scipy.stats.norm(170, 12*x['eccentricity (degrees)'])\n",
    "    return N.pdf(x['spatial frequency (cpd)'])\n",
    "df[\"hp response\"] = df.apply(get_hp_resp, 1)\n",
    "df[\"hp normalized response\"] = df.groupby(\"eccentricity (degrees)\")['hp response'].apply(lambda x: x/x.max())"
   ]
  },
  {
   "cell_type": "code",
   "execution_count": null,
   "metadata": {},
   "outputs": [],
   "source": [
    "fig = sns.plt.figure(figsize=(10,5))\n",
    "tmp = df.pivot(\"spatial frequency (cpd)\", \"eccentricity (degrees)\", \"hp normalized response\")\n",
    "ax = sns.heatmap(tmp, cmap='Blues', xticklabels=ecc, yticklabels=10)\n",
    "ax.invert_yaxis()\n",
    "ax.set_title(\"Normalized Response of highpass voxels\")"
   ]
  },
  {
   "cell_type": "markdown",
   "metadata": {},
   "source": [
    "1d slices through these can also be helpful. And we see that the bandpass voxels keep the same shape, but increase in bandwidth and decrease in mean as the eccentricity increases."
   ]
  },
  {
   "cell_type": "code",
   "execution_count": null,
   "metadata": {},
   "outputs": [],
   "source": [
    "g = sns.FacetGrid(df[df[\"eccentricity (degrees)\"].isin([2,4, 6, 14])], hue=\"eccentricity (degrees)\", size=5)\n",
    "g.map(sns.plt.plot, \"spatial frequency (cpd)\", \"bp normalized response\")\n",
    "g.add_legend()"
   ]
  },
  {
   "cell_type": "markdown",
   "metadata": {},
   "source": [
    "As you will see in the next notebook, our stimuli are constructed in a very specific way. The rationale behind them is that there's a lawful and relatively straightforward relationship between the spatial frequency tuning of a voxel and the position of its pRF in the visual field, which can be inferred from the plots in the prediction section above as well as in the existing results in the literature. Our stimuli encode this relationship by having a certain spatial frequency at the center of the image (what we call the **base frequency**), and the local frequency in the image then drops as you move from the center of the image towards the edge. The rate at which it drops is the same in each image: the frequency scales with the reciprocal of the distance from the image center.\n",
    "\n",
    "This gives us another way to present our predictions: instead of plotting versus spatial frequency, we can plot versus the base frequency. The basic prediction then is that each voxel's tuning curve will be identical with respect to the base frequency (that is, each voxel across eccentricities in a given visual area will respond identically to one of our stimuli), because the rate at which our stimuli's local spatial frequencies change is identical to the rate at which the voxel's spatial frequency preferences change.\n",
    "\n",
    "This is the basic hypothesis around which we set up our experiment, and we are looking for the deviations from this hypothesis that will inevitably arise (maybe the scaling of the spatial frequencies isn't quite correct or there's a ceiling)."
   ]
  },
  {
   "cell_type": "code",
   "execution_count": null,
   "metadata": {},
   "outputs": [],
   "source": [
    "# The hypothesis is: they all have the same response to the base frequency\n",
    "df['base frequency (cpd)'] = df['spatial frequency (cpd)']\n",
    "def get_base_resp(x):\n",
    "    N = scipy.stats.norm(250/6**.7, 2*6)\n",
    "    return N.pdf(x['base frequency (cpd)'])\n",
    "df['response to base frequency'] = df.apply(get_base_resp, 1)\n",
    "df['Normalized response to base frequency'] = df['response to base frequency'] / df['response to base frequency'].max()"
   ]
  },
  {
   "cell_type": "code",
   "execution_count": null,
   "metadata": {},
   "outputs": [],
   "source": [
    "# and thus they're all ont op of each other\n",
    "with sns.plotting_context('poster', font_scale=1.1):\n",
    "    g = sns.FacetGrid(hue='eccentricity (degrees)',# y='response', x='base frequency (cpd)', \n",
    "                      data=df[df[\"eccentricity (degrees)\"].isin([4, 6, 10])], \n",
    "                      size=7, aspect=1.5, hue_kws={'linestyle': ['-', '--', ':']})\n",
    "    g.map(sns.plt.plot, 'base frequency (cpd)', 'Normalized response to base frequency')\n",
    "    g.ax.legend()\n",
    "    g.fig.suptitle(\"Bandpass voxel responses to base frequency\")\n",
    "    g.savefig('bandpass_response.svg')"
   ]
  },
  {
   "cell_type": "markdown",
   "metadata": {},
   "source": [
    "And looking at this as a heatmap, we see the following"
   ]
  },
  {
   "cell_type": "code",
   "execution_count": null,
   "metadata": {},
   "outputs": [],
   "source": [
    "fig = sns.plt.figure(figsize=(10,5))\n",
    "tmp = df.pivot(\"base frequency (cpd)\", \"eccentricity (degrees)\", \"response to base frequency\")\n",
    "ax = sns.heatmap(tmp, cmap='Blues', xticklabels=ecc, yticklabels=10)\n",
    "ax.invert_yaxis()\n",
    "ax.set_title(\"Response to base frequency\")"
   ]
  },
  {
   "cell_type": "markdown",
   "metadata": {},
   "source": [
    "# Spatial frequency examples"
   ]
  },
  {
   "cell_type": "code",
   "execution_count": null,
   "metadata": {},
   "outputs": [],
   "source": [
    "import pyPyrTools as ppt\n",
    "import matplotlib.pyplot as plt\n",
    "%matplotlib inline\n",
    "import numpy as np\n",
    "import Image\n",
    "from scipy import ndimage\n",
    "import sys\n",
    "sys.path.append('..')\n",
    "import sfp"
   ]
  },
  {
   "cell_type": "code",
   "execution_count": null,
   "metadata": {},
   "outputs": [],
   "source": [
    "im = np.array(Image.open('/home/billbrod/Documents/pyPyrTools/pyPyrTools/einsteinCorrect.pgm'))\n",
    "\n",
    "fig = plt.figure(figsize=(5,5))\n",
    "ax = sfp.utils.im_plot(im)\n",
    "fig.savefig('einstein.svg')"
   ]
  },
  {
   "cell_type": "code",
   "execution_count": null,
   "metadata": {},
   "outputs": [],
   "source": [
    "pyr = ppt.Lpyr(im, height=7)\n"
   ]
  },
  {
   "cell_type": "code",
   "execution_count": null,
   "metadata": {},
   "outputs": [],
   "source": [
    "ims = [pyr.band(0), pyr.reconPyr(range(1,7))]\n",
    "fig, axes = plt.subplots(1,2, figsize=(10,5))\n",
    "for i, ax in enumerate(axes.flatten()):\n",
    "    sfp.im_plot(ims[i], ax=ax)\n",
    "fig.savefig('einsteinSF-two.svg')"
   ]
  },
  {
   "cell_type": "code",
   "execution_count": null,
   "metadata": {},
   "outputs": [],
   "source": [
    "fig, axes = plt.subplots(2, 4, figsize=(20,10))\n",
    "for i, ax in enumerate(axes.flatten()):\n",
    "    if i<pyr.nbands():\n",
    "        sfp.im_plot(pyr.band(i), ax=ax)\n",
    "    else:\n",
    "        ax.set_visible(False)"
   ]
  },
  {
   "cell_type": "code",
   "execution_count": null,
   "metadata": {},
   "outputs": [],
   "source": [
    "fig, axes = plt.subplots(2, 4, figsize=(20,10))\n",
    "ims = []\n",
    "for i, ax in enumerate(axes.flatten()):\n",
    "    if i<pyr.nbands():\n",
    "        ims.append(ndimage.zoom(pyr.band(i), 2**i)/float(2**i))\n",
    "        sfp.im_plot(ims[-1], ax=ax)\n",
    "    else:\n",
    "        ax.set_visible(False)\n",
    "fig.savefig('einsteinSF.svg')"
   ]
  },
  {
   "cell_type": "code",
   "execution_count": null,
   "metadata": {},
   "outputs": [],
   "source": [
    "# This is what is actually used in reconPyr, up-sampling by a factor of two and adding as you go\n",
    "filt = ppt.namedFilter('binom5')\n",
    "\n",
    "fig, axes = plt.subplots(2, 4, figsize=(20,10))\n",
    "ims = []\n",
    "for i, ax in enumerate(axes.flatten()):\n",
    "    if i<pyr.nbands():\n",
    "        hi = ppt.upConv(pyr.band(i), filt, step=(2,1))\n",
    "        ims.append(ppt.upConv(hi, filt.T, step=(1,2)))\n",
    "        sfp.im_plot(ims[-1], ax=ax)\n",
    "    else:\n",
    "        ax.set_visible(False)\n",
    "fig.savefig('einsteinSF.svg')"
   ]
  },
  {
   "cell_type": "code",
   "execution_count": null,
   "metadata": {},
   "outputs": [],
   "source": [
    "ims = np.array(ims)\n",
    "# this doesn't work because the scaling is off\n",
    "sfp.im_plot(ims.sum(0))"
   ]
  },
  {
   "cell_type": "markdown",
   "metadata": {},
   "source": [
    "## Cells as filter examples"
   ]
  },
  {
   "cell_type": "code",
   "execution_count": null,
   "metadata": {},
   "outputs": [],
   "source": [
    "import pyPyrTools as ppt\n",
    "import matplotlib.pyplot as plt\n",
    "%matplotlib inline\n",
    "import numpy as np\n",
    "import Image\n",
    "from scipy import ndimage\n",
    "import sys\n",
    "sys.path.append('..')\n",
    "import sfp\n",
    "from scipy.ndimage import filters as sfilts"
   ]
  },
  {
   "cell_type": "code",
   "execution_count": null,
   "metadata": {},
   "outputs": [],
   "source": [
    "im = np.array(Image.open('/home/billbrod/Documents/pyPyrTools/pyPyrTools/einsteinCorrect.pgm'))\n",
    "print im.shape\n",
    "\n",
    "fig = plt.figure(figsize=(5,5))\n",
    "ax = sfp.utils.im_plot(im)\n",
    "fig.savefig('einstein.svg', bbox_inches='tight')"
   ]
  },
  {
   "cell_type": "code",
   "execution_count": null,
   "metadata": {},
   "outputs": [],
   "source": [
    "def create_circle_mask(x, y, rad, size):\n",
    "    x_grid = np.array(range(size))\n",
    "    x_grid, y_grid = np.meshgrid(x_grid, x_grid)\n",
    "    mask = np.zeros((size, size))\n",
    "    mask[(x_grid - x)**2 + (y_grid - y)**2 <= rad**2] = 1\n",
    "    return mask"
   ]
  },
  {
   "cell_type": "code",
   "execution_count": null,
   "metadata": {},
   "outputs": [],
   "source": [
    "cell_dict = {0: 'Foveal cell', 1: 'Near-foveal cell', 2: 'Peripheral cell'}"
   ]
  },
  {
   "cell_type": "code",
   "execution_count": null,
   "metadata": {},
   "outputs": [],
   "source": [
    "cells_view = []\n",
    "for i in range(3):\n",
    "    mask = create_circle_mask(128, 128+i*40, 10, 256)\n",
    "    tmp = im*mask\n",
    "    tmp[tmp==0] += 127\n",
    "    cells_view.append(tmp)\n",
    "\n",
    "with sns.plotting_context('poster'):\n",
    "    fig, axes = plt.subplots(1, 3, figsize=(20,10))\n",
    "    for i, ax in enumerate(axes):\n",
    "        sfp.utils.im_plot(cells_view[i], vmin=0, vmax=255, ax=ax)\n",
    "        ax.set_title(cell_dict[i])\n",
    "    fig.savefig('Cells_no_change.svg', bbox_inches='tight')"
   ]
  },
  {
   "cell_type": "code",
   "execution_count": null,
   "metadata": {},
   "outputs": [],
   "source": [
    "cells_view = []\n",
    "for i in range(3):\n",
    "    mask = create_circle_mask(128, 128+i*40, 10*(i+1), 256)\n",
    "    tmp = im*mask\n",
    "    tmp[tmp==0] += 127\n",
    "    cells_view.append(tmp)\n",
    "\n",
    "with sns.plotting_context('poster'):\n",
    "    fig, axes = plt.subplots(1, 3, figsize=(20,10))\n",
    "    for i, ax in enumerate(axes):\n",
    "        sfp.utils.im_plot(cells_view[i], vmin=0, vmax=255, ax=ax)\n",
    "        ax.set_title(cell_dict[i])\n",
    "    fig.savefig('Cells_size_scale.svg', bbox_inches='tight')"
   ]
  },
  {
   "cell_type": "code",
   "execution_count": null,
   "metadata": {},
   "outputs": [],
   "source": [
    "cells_view = []\n",
    "for i in range(3):\n",
    "    mask = create_circle_mask(128, 128+i*40, 10*(i+1), 256)\n",
    "    tmp = sfilts.gaussian_filter(im, i)*mask\n",
    "    tmp[tmp==0] += 127\n",
    "    cells_view.append(tmp)\n",
    "\n",
    "with sns.plotting_context('poster'):\n",
    "    fig, axes = plt.subplots(1, 3, figsize=(20,10))\n",
    "    for i, ax in enumerate(axes):\n",
    "        sfp.utils.im_plot(cells_view[i], vmin=0, vmax=255, ax=ax)\n",
    "        ax.set_title(cell_dict[i])\n",
    "    fig.savefig('Cells_small_blur.svg', bbox_inches='tight')"
   ]
  },
  {
   "cell_type": "code",
   "execution_count": null,
   "metadata": {},
   "outputs": [],
   "source": [
    "cells_view = []\n",
    "for i in range(3):\n",
    "    mask = create_circle_mask(128, 128+i*40, 10*(i+1), 256)\n",
    "    tmp = sfilts.gaussian_filter(im, i*3)*mask\n",
    "    tmp[tmp==0] += 127\n",
    "    cells_view.append(tmp)\n",
    "\n",
    "with sns.plotting_context('poster'):\n",
    "    fig, axes = plt.subplots(1, 3, figsize=(20,10))\n",
    "    for i, ax in enumerate(axes):\n",
    "        sfp.utils.im_plot(cells_view[i], vmin=0, vmax=255, ax=ax)\n",
    "        ax.set_title(cell_dict[i])\n",
    "    fig.savefig('Cells_scaling_blur.svg', bbox_inches='tight')"
   ]
  }
 ],
 "metadata": {
  "kernelspec": {
   "display_name": "Python [conda root]",
   "language": "python",
   "name": "conda-root-py"
  },
  "language_info": {
   "codemirror_mode": {
    "name": "ipython",
    "version": 2
   },
   "file_extension": ".py",
   "mimetype": "text/x-python",
   "name": "python",
   "nbconvert_exporter": "python",
   "pygments_lexer": "ipython2",
   "version": "2.7.12"
  }
 },
 "nbformat": 4,
 "nbformat_minor": 1
}
