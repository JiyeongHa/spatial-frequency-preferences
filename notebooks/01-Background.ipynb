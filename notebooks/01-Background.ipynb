{
 "cells": [
  {
   "cell_type": "markdown",
   "metadata": {},
   "source": [
    "# Background\n",
    "\n",
    "This notebook contains some background information: results from the literature as it exists now."
   ]
  },
  {
   "cell_type": "code",
   "execution_count": null,
   "metadata": {},
   "outputs": [],
   "source": [
    "# generic imports for rest of notebook\n",
    "import numpy as np\n",
    "import matplotlib.pyplot as plt\n",
    "%matplotlib inline\n",
    "import seaborn as sns\n",
    "import pandas as pd"
   ]
  },
  {
   "cell_type": "markdown",
   "metadata": {},
   "source": [
    "## Existing literature\n",
    "\n",
    "The following code summarizes the results I found in the papers cited at the end of this block, as well as from a model created by Noah Benson from pilot data that Catherine Olsson had gatherd (both members of the Winawer lab; see [next section](#Olsson-/-Benson-model) for details of the model). The data from the following papers was summarized by hand and is presented in the following figure as a summary.\n",
    "\n",
    "- Sasaki, Y., Hadjikhani, N., Fischl, B., Liu, A. K., Marret, S., Dale, A. M., & Tootell, R. B. (2001). Local and global attention are mapped retinotopically in human occipital cortex. Proceedings of the National Academy of Sciences, 98(4), 2077–2082.\n",
    "\n",
    "- Henriksson, L., Nurminen, L., Hyv\\\"arinen, Aapo, & Vanni, S. (2008). Spatial frequency tuning in human retinotopic visual areas. Journal of Vision, 8(10), 5. http://dx.doi.org/10.1167/8.10.5\n",
    "\n",
    "- Kay, K. N., Naselaris, T., Prenger, R. J., & Gallant, J. L. (2008). Identifying Natural Images From Human Brain Activity. Nature, 452(7185), 352–355. http://dx.doi.org/10.1038/nature06713\n",
    "\n",
    "- Hess, R. F., Li, X., Mansouri, B., Thompson, B., & Hansen, B. C. (2009). Selectivity as well as sensitivity loss characterizes the cortical spatial frequency deficit in amblyopia. Human Brain Mapping, 30(12), 4054–4069. http://dx.doi.org/10.1002/hbm.20829\n",
    "\n",
    "- Kay, K. N. (2011). Understanding Visual Representation By Developing Receptive-Field Models. Visual Population Codes: Towards a Common Multivariate Framework for Cell Recording and Functional Imaging, (), 133–162.\n",
    "\n",
    "- D'Souza, D. V., Auer, T., Frahm, J., Strasburger, H., & Lee, B. B. (2016). Dependence of chromatic responses in v1 on visual field eccentricity and spatial frequency: an fmri study. JOSA A, 33(3), 53–64.\n",
    "\n",
    "- Farivar, R., Clavagnier, S., Hansen, B. C., Thompson, B., & Hess, R. F. (2017). Non-uniform phase sensitivity in spatial frequency maps of the human visual cortex. The Journal of Physiology, 595(4), 1351–1363. http://dx.doi.org/10.1113/jp273206"
   ]
  },
  {
   "cell_type": "code",
   "execution_count": null,
   "metadata": {},
   "outputs": [],
   "source": [
    "data_dict = {\n",
    "    'Paper': ['Sasaki (2001)',]*7,\n",
    "    'Optimum SF (cpd)': [1.25, .9, .75, .7, .6, .5, .4],\n",
    "    'Eccentricity': [0, 1, 2, 3, 4, 5, 12]\n",
    "}\n",
    "data_dict['Paper'].extend(['Henriksson (2008)', ]*5)\n",
    "data_dict['Optimum SF (cpd)'].extend([1.2, .68, .46, .40, .18])\n",
    "data_dict['Eccentricity'].extend([1.7, 4.7, 6.3, 9, 19])\n",
    "\n",
    "data_dict['Paper'].extend(['Kay (2008)']+['Kay (2011)']*5)\n",
    "data_dict['Optimum SF (cpd)'].extend([4.5, 4, 3, 10, 10, 2])\n",
    "data_dict['Eccentricity'].extend([ 2.9, 2.5, 4, .5, 1.5, 7])\n",
    "\n",
    "data_dict['Paper'].extend([\"Hess (dominant eye, 2009)\"]*3)\n",
    "data_dict['Optimum SF (cpd)'].extend([2.25, 1.9, 1.75])\n",
    "data_dict['Eccentricity'].extend([2.5, 5, 10])\n",
    "\n",
    "data_dict['Paper'].extend([ \"D'Souza (2016)\",]*3)\n",
    "data_dict['Optimum SF (cpd)'].extend([2, .95, .4])\n",
    "data_dict['Eccentricity'].extend([1.4, 4.6, 9.8])\n",
    "\n",
    "data_dict['Paper'].extend(['Farivar (2017)']*2)\n",
    "data_dict['Optimum SF (cpd)'].extend([3, 1.5,])\n",
    "data_dict['Eccentricity'].extend([.5, 3])\n",
    "\n",
    "data_dict['Paper'].extend([ 'Olsson (pilot)']*10)\n",
    "data_dict['Optimum SF (cpd)'].extend([2.11, 1.76, 1.47, 2.75, 1.24, 1.06, .88, .77, .66, .60])\n",
    "data_dict['Eccentricity'].extend([2, 3, 4, 1, 5, 6, 7, 8, 9, 10])\n",
    "\n",
    "df = pd.DataFrame(data_dict)\n",
    "df = df.sort(['Paper','Eccentricity',])"
   ]
  },
  {
   "cell_type": "code",
   "execution_count": null,
   "metadata": {},
   "outputs": [],
   "source": [
    "with sns.plotting_context('notebook', font_scale=1.75):\n",
    "    g = sns.FacetGrid(df, hue='Paper', size=10, aspect=1.5)\n",
    "    g.map(plt.semilogy, 'Eccentricity', 'Optimum SF (cpd)', marker='o', basey=2)\n",
    "    g.ax.set_xlim((-1, 20))\n",
    "    g.ax.set_ylim((0, 11))\n",
    "    g.ax.legend(loc='best')\n",
    "    g.ax.set_title(\"Summary of V1 results\")\n",
    "    # g.savefig('Summary.svg')"
   ]
  },
  {
   "cell_type": "markdown",
   "metadata": {},
   "source": [
    "## Olsson / Benson model\n",
    "\n",
    "Noah Benson created this model based on pilot data that Catherine Olsson had gathered and it showed up in his VSS 2017 presentation about the Standard Cortical Observer model. It's a log-Gaussian fit to data not shown here."
   ]
  },
  {
   "cell_type": "code",
   "execution_count": null,
   "metadata": {},
   "outputs": [],
   "source": [
    "c = [2.52529, 1.57448, .453992, .252451, .293989]\n",
    "freqs = np.linspace(.25, 6, 100)\n",
    "ecc = np.linspace(1,10, 10)\n",
    "sensitivity = []\n",
    "for r in ecc:\n",
    "    sensitivity.append(c[0]/freqs * np.exp(-.5 * ((np.log(freqs)-(c[1]+r**c[2]))/(c[3]+r**c[4]))**2))\n",
    "    print(\"For eccentricity %s, peak sensitivity at frequency %s\"%(r, freqs[np.argmax(sensitivity[-1])]))\n",
    "sensitivity = np.array(sensitivity)"
   ]
  },
  {
   "cell_type": "code",
   "execution_count": null,
   "metadata": {},
   "outputs": [],
   "source": [
    "with sns.plotting_context(\"poster\"):\n",
    "    pal = sns.palettes.color_palette('Blues_r', 10)\n",
    "    fig, ax = plt.subplots()\n",
    "    for i, d in enumerate(sensitivity):\n",
    "        ax.semilogx(freqs, d, color=pal[i], label='%s degrees' % (i+1))\n",
    "    freq_floor = .75\n",
    "    # ax.plot([freq_floor, freq_floor], [.1, .45], 'k--')\n",
    "    # ax.plot([4*freq_floor, 4*freq_floor], [.1, .45], 'k--')\n",
    "    ax.set_xlim((.15, 7))\n",
    "    ax.set_ylim((0, .45))\n",
    "    plt.legend(loc='lower right')\n",
    "    _=plt.xticks([.2, .4, .6, .8, 1, 2, 4, 6,], [.2, .4, .6, .8, 1, 2, 4, 6,])"
   ]
  }
 ],
 "metadata": {
  "kernelspec": {
   "display_name": "Python [conda root]",
   "language": "python",
   "name": "conda-root-py"
  },
  "language_info": {
   "codemirror_mode": {
    "name": "ipython",
    "version": 2
   },
   "file_extension": ".py",
   "mimetype": "text/x-python",
   "name": "python",
   "nbconvert_exporter": "python",
   "pygments_lexer": "ipython2",
   "version": "2.7.12"
  }
 },
 "nbformat": 4,
 "nbformat_minor": 1
}
