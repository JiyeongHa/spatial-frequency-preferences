{
 "cells": [
  {
   "cell_type": "code",
   "execution_count": null,
   "metadata": {},
   "outputs": [],
   "source": [
    "import h5py\n",
    "import sys\n",
    "sys.path.append('..')\n",
    "import sfp\n",
    "import pandas as pd"
   ]
  },
  {
   "cell_type": "code",
   "execution_count": null,
   "metadata": {},
   "outputs": [],
   "source": [
    "behavioral_results = h5py.File('../data/raw_behavioral/2018-Mar-22_sub-wlsubj004_sess0.hdf5')\n",
    "unshuffled_stim_description = pd.read_csv('../data/stimuli/unshuffled_stim_description.csv')\n",
    "run_num= 1"
   ]
  },
  {
   "cell_type": "code",
   "execution_count": 9,
   "metadata": {},
   "outputs": [
    {
     "data": {
      "text/plain": [
       "[u'run_00_button_presses',\n",
       " u'run_00_final_nblanks',\n",
       " u'run_00_fix_deg_size',\n",
       " u'run_00_fixation_data',\n",
       " u'run_00_idx_path',\n",
       " u'run_00_init_nblanks',\n",
       " u'run_00_non_blank_stimuli_num',\n",
       " u'run_00_session_length',\n",
       " u'run_00_shuffled_indices',\n",
       " u'run_00_stim_path',\n",
       " u'run_00_stim_size',\n",
       " u'run_00_timing_data']"
      ]
     },
     "execution_count": 9,
     "metadata": {},
     "output_type": "execute_result"
    }
   ],
   "source": [
    "results.keys()[:12]"
   ]
  },
  {
   "cell_type": "code",
   "execution_count": 48,
   "metadata": {},
   "outputs": [
    {
     "name": "stdout",
     "output_type": "stream",
     "text": [
      "[ 1.         28.15545297]\n"
     ]
    }
   ],
   "source": [
    "button_presses = results['run_00_button_presses'].value.astype(float)\n",
    "button_presses = button_presses[button_presses[:,0]!=5]\n",
    "print(button_presses[0,:])\n",
    "button_presses[:, 1] -= 5"
   ]
  },
  {
   "cell_type": "code",
   "execution_count": null,
   "metadata": {},
   "outputs": [],
   "source": [
    "df = unshuffled_stim_description.set_index('index')[['class_idx']]\n",
    "if len(df) != len(behavioral_results['run_%02d_shuffled_indices' % run_num]):\n",
    "    raise Exception(\"Behavioral results and stimulus description csv have different numbers of stimuli!\")\n",
    "df = df.reindex(behavioral_results['run_%02d_shuffled_indices' % run_num].value)\n",
    "timing = behavioral_results['run_%02d_timing_data' % run_num].value\n",
    "# Because we want to skip the first one and drop the last nblanks * 2 (since for each stimuli\n",
    "# we have two entries: one for on, one for off). Finally, we only grab every other because we\n",
    "# only want the on timing\n",
    "try:\n",
    "    # in this case, it's the initial way we ran the experiment, where we had no (additional)\n",
    "    # blanks at the beginning of the run, only at the end, and so the field was just nblanks\n",
    "    timing = timing[1:-behavioral_results['run_%02d_nblanks' % run_num].value*2:2]\n",
    "except KeyError:\n",
    "    # in this case, it's the later way we ran the experiment, where we had(additional) blanks\n",
    "    # at the beginning and end of the run\n",
    "    timing = timing[behavioral_results['run_%02d_init_nblanks' % run_num].value*2+1:\n",
    "                    -behavioral_results['run_%02d_final_nblanks' % run_num].value*2:2]\n",
    "# Now we get rid of the first TR\n",
    "initial_TR_time = float(behavioral_results['run_%02d_button_presses' % run_num].value[0][1])\n",
    "timing = [float(i[2]) - initial_TR_time for i in timing]\n",
    "# and add to our dataframe\n",
    "df['Onset time (sec)'] = timing\n",
    "design_df.class_idx = design_df.class_idx.replace({np.nan: design_df.trial_type.max()+1})\n",
    "df['class_idx'] = df.class_idx.astype(int).apply(lambda x: 'stimulus %s' % x)\n",
    "button_presses = behavioral_results['run_%02d_button_presses' % run_num].value.astype(float)\n",
    "button_presses = button_presses[button_presses[:, 0] != 5]\n",
    "button_presses[:, 1] -= initial_TR_time"
   ]
  },
  {
   "cell_type": "code",
   "execution_count": null,
   "metadata": {},
   "outputs": [],
   "source": [
    "df.class_idx.unique()"
   ]
  },
  {
   "cell_type": "code",
   "execution_count": 64,
   "metadata": {},
   "outputs": [],
   "source": [
    "button_presses = pd.DataFrame(button_presses, columns=['class_idx', 'Onset time (sec)'])\n",
    "button_presses['class_idx'] = button_presses.class_idx.apply(lambda x: 'response %d' % x)"
   ]
  },
  {
   "cell_type": "code",
   "execution_count": 65,
   "metadata": {},
   "outputs": [
    {
     "data": {
      "text/html": [
       "<div>\n",
       "<style>\n",
       "    .dataframe thead tr:only-child th {\n",
       "        text-align: right;\n",
       "    }\n",
       "\n",
       "    .dataframe thead th {\n",
       "        text-align: left;\n",
       "    }\n",
       "\n",
       "    .dataframe tbody tr th {\n",
       "        vertical-align: top;\n",
       "    }\n",
       "</style>\n",
       "<table border=\"1\" class=\"dataframe\">\n",
       "  <thead>\n",
       "    <tr style=\"text-align: right;\">\n",
       "      <th></th>\n",
       "      <th>class_idx</th>\n",
       "      <th>Onset time (sec)</th>\n",
       "    </tr>\n",
       "  </thead>\n",
       "  <tbody>\n",
       "    <tr>\n",
       "      <th>0</th>\n",
       "      <td>response 1</td>\n",
       "      <td>2.488947</td>\n",
       "    </tr>\n",
       "    <tr>\n",
       "      <th>1</th>\n",
       "      <td>response 1</td>\n",
       "      <td>18.601275</td>\n",
       "    </tr>\n",
       "    <tr>\n",
       "      <th>2</th>\n",
       "      <td>response 1</td>\n",
       "      <td>27.601914</td>\n",
       "    </tr>\n",
       "    <tr>\n",
       "      <th>3</th>\n",
       "      <td>response 1</td>\n",
       "      <td>36.601919</td>\n",
       "    </tr>\n",
       "    <tr>\n",
       "      <th>4</th>\n",
       "      <td>response 1</td>\n",
       "      <td>38.601861</td>\n",
       "    </tr>\n",
       "    <tr>\n",
       "      <th>5</th>\n",
       "      <td>response 1</td>\n",
       "      <td>41.601938</td>\n",
       "    </tr>\n",
       "    <tr>\n",
       "      <th>6</th>\n",
       "      <td>response 1</td>\n",
       "      <td>57.601921</td>\n",
       "    </tr>\n",
       "    <tr>\n",
       "      <th>7</th>\n",
       "      <td>response 1</td>\n",
       "      <td>63.601865</td>\n",
       "    </tr>\n",
       "    <tr>\n",
       "      <th>8</th>\n",
       "      <td>response 1</td>\n",
       "      <td>64.601885</td>\n",
       "    </tr>\n",
       "    <tr>\n",
       "      <th>9</th>\n",
       "      <td>response 1</td>\n",
       "      <td>72.601940</td>\n",
       "    </tr>\n",
       "    <tr>\n",
       "      <th>10</th>\n",
       "      <td>response 1</td>\n",
       "      <td>77.601927</td>\n",
       "    </tr>\n",
       "    <tr>\n",
       "      <th>11</th>\n",
       "      <td>response 1</td>\n",
       "      <td>82.701013</td>\n",
       "    </tr>\n",
       "    <tr>\n",
       "      <th>12</th>\n",
       "      <td>response 1</td>\n",
       "      <td>88.601923</td>\n",
       "    </tr>\n",
       "    <tr>\n",
       "      <th>13</th>\n",
       "      <td>response 1</td>\n",
       "      <td>104.601566</td>\n",
       "    </tr>\n",
       "    <tr>\n",
       "      <th>14</th>\n",
       "      <td>response 1</td>\n",
       "      <td>108.849847</td>\n",
       "    </tr>\n",
       "    <tr>\n",
       "      <th>15</th>\n",
       "      <td>response 1</td>\n",
       "      <td>114.601914</td>\n",
       "    </tr>\n",
       "    <tr>\n",
       "      <th>16</th>\n",
       "      <td>response 1</td>\n",
       "      <td>131.437512</td>\n",
       "    </tr>\n",
       "    <tr>\n",
       "      <th>17</th>\n",
       "      <td>response 1</td>\n",
       "      <td>133.823311</td>\n",
       "    </tr>\n",
       "    <tr>\n",
       "      <th>18</th>\n",
       "      <td>response 1</td>\n",
       "      <td>135.417597</td>\n",
       "    </tr>\n",
       "    <tr>\n",
       "      <th>19</th>\n",
       "      <td>response 1</td>\n",
       "      <td>137.373519</td>\n",
       "    </tr>\n",
       "    <tr>\n",
       "      <th>20</th>\n",
       "      <td>response 1</td>\n",
       "      <td>142.398402</td>\n",
       "    </tr>\n",
       "    <tr>\n",
       "      <th>21</th>\n",
       "      <td>response 1</td>\n",
       "      <td>158.471346</td>\n",
       "    </tr>\n",
       "    <tr>\n",
       "      <th>22</th>\n",
       "      <td>response 1</td>\n",
       "      <td>166.635215</td>\n",
       "    </tr>\n",
       "    <tr>\n",
       "      <th>23</th>\n",
       "      <td>response 1</td>\n",
       "      <td>175.629099</td>\n",
       "    </tr>\n",
       "    <tr>\n",
       "      <th>24</th>\n",
       "      <td>response 1</td>\n",
       "      <td>181.601919</td>\n",
       "    </tr>\n",
       "    <tr>\n",
       "      <th>25</th>\n",
       "      <td>response 1</td>\n",
       "      <td>183.432965</td>\n",
       "    </tr>\n",
       "    <tr>\n",
       "      <th>26</th>\n",
       "      <td>response 1</td>\n",
       "      <td>193.409999</td>\n",
       "    </tr>\n",
       "    <tr>\n",
       "      <th>27</th>\n",
       "      <td>response 1</td>\n",
       "      <td>203.459794</td>\n",
       "    </tr>\n",
       "    <tr>\n",
       "      <th>28</th>\n",
       "      <td>response 1</td>\n",
       "      <td>207.490814</td>\n",
       "    </tr>\n",
       "    <tr>\n",
       "      <th>29</th>\n",
       "      <td>response 1</td>\n",
       "      <td>214.660721</td>\n",
       "    </tr>\n",
       "    <tr>\n",
       "      <th>30</th>\n",
       "      <td>response 1</td>\n",
       "      <td>229.454617</td>\n",
       "    </tr>\n",
       "    <tr>\n",
       "      <th>31</th>\n",
       "      <td>response 1</td>\n",
       "      <td>234.601946</td>\n",
       "    </tr>\n",
       "    <tr>\n",
       "      <th>32</th>\n",
       "      <td>response 1</td>\n",
       "      <td>236.601842</td>\n",
       "    </tr>\n",
       "    <tr>\n",
       "      <th>33</th>\n",
       "      <td>response 1</td>\n",
       "      <td>238.411457</td>\n",
       "    </tr>\n",
       "    <tr>\n",
       "      <th>34</th>\n",
       "      <td>response 1</td>\n",
       "      <td>241.679392</td>\n",
       "    </tr>\n",
       "    <tr>\n",
       "      <th>35</th>\n",
       "      <td>response 1</td>\n",
       "      <td>243.476433</td>\n",
       "    </tr>\n",
       "    <tr>\n",
       "      <th>36</th>\n",
       "      <td>response 1</td>\n",
       "      <td>258.601940</td>\n",
       "    </tr>\n",
       "  </tbody>\n",
       "</table>\n",
       "</div>"
      ],
      "text/plain": [
       "     class_idx  Onset time (sec)\n",
       "0   response 1          2.488947\n",
       "1   response 1         18.601275\n",
       "2   response 1         27.601914\n",
       "3   response 1         36.601919\n",
       "4   response 1         38.601861\n",
       "5   response 1         41.601938\n",
       "6   response 1         57.601921\n",
       "7   response 1         63.601865\n",
       "8   response 1         64.601885\n",
       "9   response 1         72.601940\n",
       "10  response 1         77.601927\n",
       "11  response 1         82.701013\n",
       "12  response 1         88.601923\n",
       "13  response 1        104.601566\n",
       "14  response 1        108.849847\n",
       "15  response 1        114.601914\n",
       "16  response 1        131.437512\n",
       "17  response 1        133.823311\n",
       "18  response 1        135.417597\n",
       "19  response 1        137.373519\n",
       "20  response 1        142.398402\n",
       "21  response 1        158.471346\n",
       "22  response 1        166.635215\n",
       "23  response 1        175.629099\n",
       "24  response 1        181.601919\n",
       "25  response 1        183.432965\n",
       "26  response 1        193.409999\n",
       "27  response 1        203.459794\n",
       "28  response 1        207.490814\n",
       "29  response 1        214.660721\n",
       "30  response 1        229.454617\n",
       "31  response 1        234.601946\n",
       "32  response 1        236.601842\n",
       "33  response 1        238.411457\n",
       "34  response 1        241.679392\n",
       "35  response 1        243.476433\n",
       "36  response 1        258.601940"
      ]
     },
     "execution_count": 65,
     "metadata": {},
     "output_type": "execute_result"
    }
   ],
   "source": [
    "button_presses"
   ]
  },
  {
   "cell_type": "markdown",
   "metadata": {},
   "source": [
    "This notebook prepares for the first level analysis: setting up and examining a General Linear Model that produces response amplitudes for each stimulus class. For this, the data must be preprocessed. We will use GLMdenoise to do this, which is a MATLAB toolbox, and so the actual analysis will be run outside of this notebook (it takes a while and a lot of resources anyway, so this is for the best).\n",
    "\n",
    "# Creating the design matrix\n",
    "\n",
    "The first thing we need to do is create our design matrix. Our design matrix needs to be in the format time by conditions (where time is in TRs), with a 1 for condition onset. This will be exceedingly sparse, since each condition only shows up once per run (when we move this into matlab, we will make it a sparse matrix). We will have one of these design matrices per run."
   ]
  },
  {
   "cell_type": "code",
   "execution_count": 1,
   "metadata": {
    "ExecuteTime": {
     "end_time": "2018-02-15T15:10:56.672792",
     "start_time": "2018-02-15T15:10:56.661456"
    }
   },
   "outputs": [
    {
     "name": "stderr",
     "output_type": "stream",
     "text": [
      "/home/billbrod/anaconda2/lib/python2.7/site-packages/h5py/__init__.py:34: FutureWarning: Conversion of the second argument of issubdtype from `float` to `np.floating` is deprecated. In future, it will be treated as `np.float64 == np.dtype(float).type`.\n",
      "  from ._conv import register_converters as _register_converters\n"
     ]
    }
   ],
   "source": [
    "import sys\n",
    "sys.path.append('..')\n",
    "import sfp\n",
    "import numpy as np\n",
    "import pandas as pd\n",
    "import matplotlib.pyplot as plt\n",
    "import nibabel as nib\n",
    "import os\n",
    "%matplotlib inline\n",
    "from bids.grabbids import BIDSLayout"
   ]
  },
  {
   "cell_type": "code",
   "execution_count": 20,
   "metadata": {
    "ExecuteTime": {
     "end_time": "2018-02-15T15:16:16.095338",
     "start_time": "2018-02-15T15:16:14.327365"
    }
   },
   "outputs": [],
   "source": [
    "layout = BIDSLayout(\"/mnt/Acadia/Projects/spatial_frequency_preferences/BIDS/\")\n",
    "# This contains all the design information\n",
    "tsv_df = pd.read_csv(layout.get(type='events', subject='wlsubj001', session='01' ,run=1)[0].filename, '\\t', na_filter=False)\n",
    "\n",
    "nii_file = layout.get(type='bold', subject='wlsubj001', session='01', run=1)[0].filename\n",
    "# We need to load in the nifti file so we can determine how many TRs there were\n",
    "nii = nib.load(nii_file)"
   ]
  },
  {
   "cell_type": "markdown",
   "metadata": {},
   "source": [
    "We grab the number of TRs from our nifti file."
   ]
  },
  {
   "cell_type": "code",
   "execution_count": 36,
   "metadata": {
    "ExecuteTime": {
     "end_time": "2018-02-15T15:03:27.591381",
     "start_time": "2018-02-15T15:03:27.584509"
    }
   },
   "outputs": [
    {
     "name": "stdout",
     "output_type": "stream",
     "text": [
      "Num TRs: 240\n"
     ]
    }
   ],
   "source": [
    "n_TRs = nii.shape[3]\n",
    "print(\"Num TRs: %d\" % n_TRs)"
   ]
  },
  {
   "cell_type": "code",
   "execution_count": 22,
   "metadata": {
    "ExecuteTime": {
     "end_time": "2018-02-15T15:04:35.178598",
     "start_time": "2018-02-15T15:04:35.150940"
    }
   },
   "outputs": [
    {
     "data": {
      "text/html": [
       "<div>\n",
       "<style>\n",
       "    .dataframe thead tr:only-child th {\n",
       "        text-align: right;\n",
       "    }\n",
       "\n",
       "    .dataframe thead th {\n",
       "        text-align: left;\n",
       "    }\n",
       "\n",
       "    .dataframe tbody tr th {\n",
       "        vertical-align: top;\n",
       "    }\n",
       "</style>\n",
       "<table border=\"1\" class=\"dataframe\">\n",
       "  <thead>\n",
       "    <tr style=\"text-align: right;\">\n",
       "      <th></th>\n",
       "      <th>onset</th>\n",
       "      <th>duration</th>\n",
       "      <th>trial_type</th>\n",
       "      <th>stim_file</th>\n",
       "      <th>stim_file_index</th>\n",
       "      <th>note</th>\n",
       "    </tr>\n",
       "  </thead>\n",
       "  <tbody>\n",
       "    <tr>\n",
       "      <th>0</th>\n",
       "      <td>0.013</td>\n",
       "      <td>0.3</td>\n",
       "      <td>48</td>\n",
       "      <td>unshuffled.npy</td>\n",
       "      <td>390</td>\n",
       "      <td>blank trial</td>\n",
       "    </tr>\n",
       "    <tr>\n",
       "      <th>1</th>\n",
       "      <td>0.502</td>\n",
       "      <td>0.3</td>\n",
       "      <td>48</td>\n",
       "      <td>unshuffled.npy</td>\n",
       "      <td>391</td>\n",
       "      <td>blank trial</td>\n",
       "    </tr>\n",
       "    <tr>\n",
       "      <th>2</th>\n",
       "      <td>1.002</td>\n",
       "      <td>0.3</td>\n",
       "      <td>48</td>\n",
       "      <td>unshuffled.npy</td>\n",
       "      <td>386</td>\n",
       "      <td>blank trial</td>\n",
       "    </tr>\n",
       "    <tr>\n",
       "      <th>3</th>\n",
       "      <td>1.514</td>\n",
       "      <td>0.3</td>\n",
       "      <td>48</td>\n",
       "      <td>unshuffled.npy</td>\n",
       "      <td>385</td>\n",
       "      <td>blank trial</td>\n",
       "    </tr>\n",
       "    <tr>\n",
       "      <th>4</th>\n",
       "      <td>2.014</td>\n",
       "      <td>0.3</td>\n",
       "      <td>48</td>\n",
       "      <td>unshuffled.npy</td>\n",
       "      <td>387</td>\n",
       "      <td>blank trial</td>\n",
       "    </tr>\n",
       "  </tbody>\n",
       "</table>\n",
       "</div>"
      ],
      "text/plain": [
       "   onset  duration  trial_type       stim_file  stim_file_index         note\n",
       "0  0.013       0.3          48  unshuffled.npy              390  blank trial\n",
       "1  0.502       0.3          48  unshuffled.npy              391  blank trial\n",
       "2  1.002       0.3          48  unshuffled.npy              386  blank trial\n",
       "3  1.514       0.3          48  unshuffled.npy              385  blank trial\n",
       "4  2.014       0.3          48  unshuffled.npy              387  blank trial"
      ]
     },
     "execution_count": 22,
     "metadata": {},
     "output_type": "execute_result"
    }
   ],
   "source": [
    "tsv_df.head()"
   ]
  },
  {
   "cell_type": "markdown",
   "metadata": {},
   "source": [
    "We also have the onset times of all of our stimuli, as well as an identifying index we can use to look up its information. We constructed  our stimuli in classes, so that each class contains stimuli with all the same frequency parameters (`w_r / w_a` or `w_x / w_y`) and different phases. When constructing the events tsv file, we also saved an index for the stimulus class, which we call `trial_type`.\n",
    "\n",
    "For constructing the design matrix, we don't care about the individual stimuli that only differ in their phase: our events are the presentations of new stimulus classes / `trial_type`, so we drop all the other stimuli."
   ]
  },
  {
   "cell_type": "code",
   "execution_count": 24,
   "metadata": {
    "ExecuteTime": {
     "end_time": "2018-02-15T15:11:39.866248",
     "start_time": "2018-02-15T15:11:39.856586"
    },
    "collapsed": true
   },
   "outputs": [],
   "source": [
    "design_df = tsv_df.drop_duplicates('trial_type', keep='first')\n",
    "# Those with a non-empty note field are blank trials. We're not modeling them here, so we drop them\n",
    "design_df = design_df[design_df.note==\"\"]"
   ]
  },
  {
   "cell_type": "markdown",
   "metadata": {},
   "source": [
    "Now we need to convert these to to TR times. First we find the onset times of TRs, in seconds, relative to the first TR. We then create a giant matrix where each row is a different stimulus onset time and then, in each column, subtract a TR onset time (so this matrix will be `num_conditions x num_TRs`). If we then round this difference-in-time matrix and look for the 0s, we've found what TR onset is closest to the onset of the stimuli. Note that this won't make sense for a lot of entries; some of them start almost exactly halfway through a TR. But, because of how we defined our experiment, our class transitions should happen right around a TR onset (if the timings of the scanner and the stimulus computer were perfect, then they would be exactly the same; as it is they probably differ by a few milliseconds) and so this will work"
   ]
  },
  {
   "cell_type": "code",
   "execution_count": 37,
   "metadata": {
    "ExecuteTime": {
     "end_time": "2018-02-15T15:17:03.405995",
     "start_time": "2018-02-15T15:17:03.385063"
    }
   },
   "outputs": [],
   "source": [
    "TR = layout.get_metadata(nii_file)['RepetitionTime']\n",
    "TR_times = [TR * i for i in range(n_TRs)]"
   ]
  },
  {
   "cell_type": "code",
   "execution_count": 38,
   "metadata": {
    "ExecuteTime": {
     "end_time": "2018-02-15T15:17:38.828419",
     "start_time": "2018-02-15T15:17:38.823000"
    },
    "collapsed": true
   },
   "outputs": [],
   "source": [
    "stim_times = design_df['onset'].values\n",
    "stim_times = np.expand_dims(stim_times,1)\n",
    "stim_times = np.repeat(stim_times, n_TRs, 1)"
   ]
  },
  {
   "cell_type": "code",
   "execution_count": 39,
   "metadata": {
    "ExecuteTime": {
     "end_time": "2018-02-15T15:17:39.692144",
     "start_time": "2018-02-15T15:17:39.611337"
    }
   },
   "outputs": [],
   "source": [
    "time_from_TR = np.round(stim_times - TR_times)\n",
    "design_df['Onset time (TR)'] = np.where(time_from_TR==0)[1]"
   ]
  },
  {
   "cell_type": "markdown",
   "metadata": {},
   "source": [
    "And we create our design matrix, iterate through throw our `design_df` and put a one where each class shows up in a TR."
   ]
  },
  {
   "cell_type": "code",
   "execution_count": 40,
   "metadata": {
    "ExecuteTime": {
     "end_time": "2018-02-15T15:18:53.593680",
     "start_time": "2018-02-15T15:18:53.511916"
    }
   },
   "outputs": [],
   "source": [
    "# because the values are 0-indexed\n",
    "design_matrix = np.zeros((n_TRs, design_df.trial_type.max()+1))\n",
    "\n",
    "for i, row in design_df.iterrows():\n",
    "    row = row[['Onset time (TR)', 'trial_type']].astype(int)\n",
    "    design_matrix[row['Onset time (TR)'], row['trial_type']] = 1"
   ]
  },
  {
   "cell_type": "markdown",
   "metadata": {},
   "source": [
    "To make sure things work correctly, we look at our axis sums: each class (axis 1) should show up exactly once and each TR (axis 0) should have 0 or 1 classes in it"
   ]
  },
  {
   "cell_type": "code",
   "execution_count": 41,
   "metadata": {
    "ExecuteTime": {
     "end_time": "2018-02-15T15:18:56.706985",
     "start_time": "2018-02-15T15:18:56.690022"
    }
   },
   "outputs": [
    {
     "name": "stdout",
     "output_type": "stream",
     "text": [
      "Each entry represents one of our 48 classes:\n",
      "[1. 1. 1. 1. 1. 1. 1. 1. 1. 1. 1. 1. 1. 1. 1. 1. 1. 1. 1. 1. 1. 1. 1. 1.\n",
      " 1. 1. 1. 1. 1. 1. 1. 1. 1. 1. 1. 1. 1. 1. 1. 1. 1. 1. 1. 1. 1. 1. 1. 1.]\n",
      "Each entry represents one of our 240 TRs:\n",
      "[0. 0. 0. 0. 1. 0. 0. 0. 1. 0. 0. 0. 1. 0. 0. 0. 1. 0. 0. 0. 1. 0. 0. 0.\n",
      " 1. 0. 0. 0. 1. 0. 0. 0. 1. 0. 0. 0. 0. 0. 0. 0. 1. 0. 0. 0. 1. 0. 0. 0.\n",
      " 1. 0. 0. 0. 1. 0. 0. 0. 1. 0. 0. 0. 1. 0. 0. 0. 0. 0. 0. 0. 1. 0. 0. 0.\n",
      " 0. 0. 0. 0. 1. 0. 0. 0. 1. 0. 0. 0. 1. 0. 0. 0. 1. 0. 0. 0. 1. 0. 0. 0.\n",
      " 0. 0. 0. 0. 1. 0. 0. 0. 1. 0. 0. 0. 1. 0. 0. 0. 0. 0. 0. 0. 1. 0. 0. 0.\n",
      " 1. 0. 0. 0. 0. 0. 0. 0. 1. 0. 0. 0. 1. 0. 0. 0. 1. 0. 0. 0. 1. 0. 0. 0.\n",
      " 1. 0. 0. 0. 1. 0. 0. 0. 0. 0. 0. 0. 1. 0. 0. 0. 1. 0. 0. 0. 0. 0. 0. 0.\n",
      " 1. 0. 0. 0. 1. 0. 0. 0. 1. 0. 0. 0. 1. 0. 0. 0. 0. 0. 0. 0. 1. 0. 0. 0.\n",
      " 1. 0. 0. 0. 1. 0. 0. 0. 1. 0. 0. 0. 1. 0. 0. 0. 1. 0. 0. 0. 1. 0. 0. 0.\n",
      " 1. 0. 0. 0. 1. 0. 0. 0. 1. 0. 0. 0. 1. 0. 0. 0. 0. 0. 0. 0. 0. 0. 0. 0.]\n"
     ]
    }
   ],
   "source": [
    "print(\"Each entry represents one of our %d classes:\" % design_matrix.shape[1])\n",
    "print(design_matrix.sum(0))\n",
    "\n",
    "print(\"Each entry represents one of our %d TRs:\" % design_matrix.shape[0])\n",
    "print(design_matrix.sum(1))"
   ]
  },
  {
   "cell_type": "markdown",
   "metadata": {},
   "source": [
    "And now we can look at our design matrix for this run!"
   ]
  },
  {
   "cell_type": "code",
   "execution_count": 42,
   "metadata": {
    "ExecuteTime": {
     "end_time": "2018-02-15T15:21:06.619571",
     "start_time": "2018-02-15T15:21:06.188282"
    }
   },
   "outputs": [
    {
     "data": {
      "image/png": "[encoded data removed]",
      "text/plain": [
       "<matplotlib.figure.Figure at 0x7f3e3db3cd10>"
      ]
     },
     "metadata": {},
     "output_type": "display_data"
    }
   ],
   "source": [
    "sfp.design_matrices.plot_design_matrix(design_matrix, 'Design matrix for run 1')"
   ]
  },
  {
   "cell_type": "markdown",
   "metadata": {},
   "source": [
    "The function `sfp.design_matrices.create_all_design_matrices` creates the design matrices for multiple runs and saves them as `.tsv` files so they can be read into matlab.\n",
    "\n",
    "In order to create them efficiently, run `sfp/design_matrices.py` from the command line (see it's help string for details as to how).\n",
    "\n",
    "Actually running the first-level analysis requires matlab and should be run on the cluster (see `matlab/runGLM.m`), since they require Kendrick Kay's [GLMdenoise](http://kendrickkay.net/GLMdenoise/) package and use a lot of memory. After you've finished getting the results, examined the $R^2$ values to make sure they make sense, and realigned them to the subject's freesurfer anatomy (using `MRI_tools/preprocessing/to_freesurfer.py`), then you're ready for the next notebook, where we analyze these results."
   ]
  },
  {
   "cell_type": "markdown",
   "metadata": {},
   "source": [
    "# Checking the design matrix\n",
    "\n",
    "We really want to make sure our design matrix is not wrong, as that would screw everything up, so if you're concerned, this is how you double-check everything.\n",
    "\n",
    "In order to use this, run the first block, which will create pictures, one from each class, in the order the `design_df` thinks they are presented. Then run the next block, containing `sfp.experiment.run`, on a two-monitor setup so one monitor can display the experiment while you have this notebook open in the other. This will allow you to make sure the stimuli are being ordered correctly.\n",
    "\n",
    "You can also compare `design_df.index.values` to a picture of the design matrix to make sure things got transferred correctly there as well."
   ]
  },
  {
   "cell_type": "code",
   "execution_count": null,
   "metadata": {
    "ExecuteTime": {
     "end_time": "2018-02-15T14:41:19.125078",
     "start_time": "2018-02-15T14:40:40.802828"
    },
    "collapsed": true
   },
   "outputs": [],
   "source": [
    "import pandas as pd\n",
    "import numpy as np\n",
    "%matplotlib inline\n",
    "import sys\n",
    "sys.path.append('..')\n",
    "from sfp import experiment\n",
    "import pyPyrTools.JBhelpers as jbh\n",
    "import os\n",
    "\n",
    "DATA_DIR = '/home/billbrod/Data/spatial_frequency_preferences/'\n",
    "layout = BIDSLayout(DATA_DIR)\n",
    "\n",
    "# This contains all the design information\n",
    "tsv_df = pd.read_csv(layout.get(type='events', subject='wlsubj001', session='01' ,run=1)[0].filename)\n",
    "\n",
    "# Load in the appropriate stimuli\n",
    "stim = np.load(os.path.join(DATA_DIR, 'stimuli/unshuffled.npy'))\n",
    "\n",
    "# Get the indices for one image from each class so we can loop through them easily\n",
    "stim_idx = tsv_df.drop_duplicates('trial_type').stim_file_index.values"
   ]
  },
  {
   "cell_type": "code",
   "execution_count": 16,
   "metadata": {
    "ExecuteTime": {
     "end_time": "2018-02-15T14:47:07.984339",
     "start_time": "2018-02-15T14:42:39.650705"
    }
   },
   "outputs": [
    {
     "name": "stdout",
     "output_type": "stream",
     "text": [
      "366.1208 \tERROR \tUnknown colorSpace: None\n"
     ]
    }
   ],
   "source": [
    "data = experiment.run(os.path.join('stimuli/unshuffled.npy'), os.path.join(DATA_DIR, 'sourcedata/wl_subj001/20180131/sub-wlsubj001_run00_idx.npy'), None, screen=0)"
   ]
  },
  {
   "cell_type": "code",
   "execution_count": null,
   "metadata": {
    "collapsed": true
   },
   "outputs": [],
   "source": [
    "jbh.showIm([stim[i,:,:] for i in stim_idx[:10]], ncols=5, zoom=.2)"
   ]
  },
  {
   "cell_type": "code",
   "execution_count": null,
   "metadata": {
    "collapsed": true
   },
   "outputs": [],
   "source": [
    "jbh.showIm([stim[i,:,:] for i in stim_idx[10:20]], ncols=5, zoom=.2)"
   ]
  },
  {
   "cell_type": "code",
   "execution_count": null,
   "metadata": {
    "collapsed": true
   },
   "outputs": [],
   "source": [
    "jbh.showIm([stim[i,:,:] for i in stim_idx[20:30]], ncols=5, zoom=.2)"
   ]
  },
  {
   "cell_type": "code",
   "execution_count": null,
   "metadata": {
    "collapsed": true
   },
   "outputs": [],
   "source": [
    "jbh.showIm([stim[i,:,:] for i in stim_idx[30:40]], ncols=5, zoom=.2)"
   ]
  },
  {
   "cell_type": "code",
   "execution_count": null,
   "metadata": {
    "collapsed": true
   },
   "outputs": [],
   "source": [
    "jbh.showIm([stim[i,:,:] for i in stim_idx[40:50]], ncols=5, zoom=.2)"
   ]
  },
  {
   "cell_type": "code",
   "execution_count": null,
   "metadata": {
    "collapsed": true
   },
   "outputs": [],
   "source": [
    "jbh.showIm([stim[i,:,:] for i in stim_idx[50:]], ncols=5, zoom=.2)"
   ]
  }
 ],
 "metadata": {
  "kernelspec": {
   "display_name": "Python [conda root]",
   "language": "python",
   "name": "conda-root-py"
  },
  "language_info": {
   "codemirror_mode": {
    "name": "ipython",
    "version": 2
   },
   "file_extension": ".py",
   "mimetype": "text/x-python",
   "name": "python",
   "nbconvert_exporter": "python",
   "pygments_lexer": "ipython2",
   "version": "2.7.12"
  }
 },
 "nbformat": 4,
 "nbformat_minor": 2
}
