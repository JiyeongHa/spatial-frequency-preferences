{
 "cells": [
  {
   "cell_type": "code",
   "execution_count": null,
   "metadata": {},
   "outputs": [],
   "source": [
    "import pandas as pd\n",
    "import nibabel as nib\n",
    "import numpy as np\n",
    "import seaborn as sns\n",
    "import matplotlib.pyplot as plt\n",
    "%matplotlib inline\n",
    "import sys\n",
    "sys.path.append('..')\n",
    "import sfp\n",
    "import pyPyrTools as ppt\n",
    "import math\n",
    "from scipy import stats\n",
    "from scipy import optimize as opt"
   ]
  },
  {
   "cell_type": "code",
   "execution_count": null,
   "metadata": {},
   "outputs": [],
   "source": [
    "df[(df.varea==1)&(df.R2>55)].drop_duplicates('voxel').sort_values('R2', ascending=False).head(5)[['voxel', 'R2', 'varea', 'hemi', 'angle' ,'eccen']]"
   ]
  },
  {
   "cell_type": "code",
   "execution_count": null,
   "metadata": {},
   "outputs": [],
   "source": [
    "# Pick a V1 voxel with a good R2\n",
    "voxel_df = df[(df.voxel==8014)]\n",
    "voxel_df.head(1)[['voxel', 'varea', 'R2', 'eccen', 'angle', 'hemi']]"
   ]
  },
  {
   "cell_type": "code",
   "execution_count": null,
   "metadata": {},
   "outputs": [],
   "source": [
    "voxel_eccen = voxel_df.eccen.unique()[0]\n",
    "voxel_angle = math.radians(voxel_df.angle.unique()[0])\n",
    "angle = ppt.mkAngle(1080)\n",
    "R = ppt.mkR(1080) * (24 / 1080.)\n",
    "angle_dist = abs(angle - voxel_angle)\n",
    "angle_dist /= angle_dist.max()\n",
    "eccen_dist = abs(R - voxel_eccen)\n",
    "eccen_dist /= eccen_dist.max()\n",
    "flattened_idx = (angle_dist+eccen_dist).argmin()\n",
    "twod_resp = []\n",
    "for i, row in voxel_df.iterrows():\n",
    "    dx, dy, _, _ = sfp.stimuli.create_sf_maps_cpp(1080, w_r=row.w_r, w_a=row.w_a)\n",
    "    dx /= (24 / 1080.)\n",
    "    dy /= (24 / 1080.)\n",
    "    twod_resp.append((dx.flatten()[flattened_idx], dy.flatten()[flattened_idx], row.amplitude_estimate_median))\n",
    "twod_resp = np.array(twod_resp)"
   ]
  },
  {
   "cell_type": "code",
   "execution_count": null,
   "metadata": {},
   "outputs": [],
   "source": [
    "s = twod_resp[:, 2].copy()\n",
    "s -= s.min()\n",
    "s /= s.max()\n",
    "plt.scatter(twod_resp[:,0], twod_resp[:,1], s=40*(s+.5), c=twod_resp[:,2],cmap='RdBu', norm=sfp.plotting.MidpointNormalize(midpoint=0)) \n",
    "plt.colorbar()\n",
    "scatter_ax = plt.gca()"
   ]
  },
  {
   "cell_type": "code",
   "execution_count": null,
   "metadata": {},
   "outputs": [],
   "source": [
    "def twoD_Gaussian((x, y), amplitude, mu_x, mu_y, sig_xx, sig_xy, sig_yx, sig_yy):\n",
    "    twod_gauss = stats.multivariate_normal(mean=(mu_x, mu_y), cov=[[sig_xx, sig_xy],[sig_yx, sig_yy]])\n",
    "    xgrid, ygrid = np.meshgrid(x, y)\n",
    "    X = np.empty(xgrid.shape + (2,))\n",
    "    X[:,:,0] = xgrid\n",
    "    X[:,:,1] = ygrid\n",
    "    gauss_resp = twod_gauss.pdf(X)\n",
    "    gauss_resp /= gauss_resp.max()\n",
    "    return amplitude * gauss_resp\n",
    "def fit_twoD_Gaussian(*args, **kwargs):\n",
    "    return np.diagonal(twoD_Gaussian(*args, **kwargs))"
   ]
  },
  {
   "cell_type": "code",
   "execution_count": null,
   "metadata": {},
   "outputs": [],
   "source": [
    "x= twod_resp[:,0]\n",
    "y=twod_resp[:,1]\n",
    "popt, pcov = opt.curve_fit(fit_twoD_Gaussian, (x, y), twod_resp[:,2], p0=(20, 0, 0, 1, 0, 0, 1))"
   ]
  },
  {
   "cell_type": "code",
   "execution_count": null,
   "metadata": {},
   "outputs": [],
   "source": [
    "popt"
   ]
  },
  {
   "cell_type": "code",
   "execution_count": null,
   "metadata": {},
   "outputs": [],
   "source": [
    "x = np.linspace(-12, 6, 1000)\n",
    "y = np.linspace(-6, 12, 1000)\n",
    "plt.scatter(twod_resp[:,0], twod_resp[:,1], c=twod_resp[:,2],cmap='Blues', vmin=0, vmax=twod_resp[:,2].max())\n",
    "plt.colorbar()\n",
    "plt.contour(x, y, twoD_Gaussian((x, y), *popt), aspect='equal', cmap='Blues', vmin=0, vmax=twod_resp[:,2].max())# levels=[0, 2.5, 5, 7.5, 10, 12.5, 15, 17.5, 19.9])\n",
    "plt.colorbar()\n",
    "ax = plt.gca()\n",
    "ax.set_xlim(scatter_ax.get_xlim())\n",
    "ax.set_ylim(scatter_ax.get_ylim())\n",
    "plt.savefig('model.pdf')"
   ]
  },
  {
   "cell_type": "markdown",
   "metadata": {},
   "source": [
    "What we actually want is to fit a \"Gaussian donut\", a donut whose cross-section is a (log-)Gaussian. In that case, the countour lines are circles, but we also want them being ellipses to be possible. This is very similar to the tensor model used in diffusion MRI: http://scarlet.stanford.edu/~brian/talks/Wandell-Simons-Diffusion.pdf (slide 26)\n",
    "\n",
    "Fitting a log-Gaussian with respect to distance from origin should do it, except we allow the two parametrs (mu and sigma) to scale with angle, such that the axes are allowed to be different lengths"
   ]
  },
  {
   "cell_type": "code",
   "execution_count": null,
   "metadata": {},
   "outputs": [],
   "source": [
    "resp_df = pd.DataFrame(twod_resp, columns=['w_x', 'w_y', 'response'])\n",
    "resp_df['distance'] = np.sqrt(resp_df.w_x**2 + resp_df.w_y**2)\n",
    "resp_df['angle'] = np.arctan2(resp_df.w_y, resp_df.w_x)"
   ]
  },
  {
   "cell_type": "code",
   "execution_count": null,
   "metadata": {},
   "outputs": [],
   "source": [
    "g = sns.PairGrid(resp_df, x_vars=['w_x', 'w_y', 'distance', 'angle'], y_vars=['response'], hue='angle')\n",
    "g.map(plt.scatter)\n",
    "g.add_legend()"
   ]
  },
  {
   "cell_type": "code",
   "execution_count": null,
   "metadata": {},
   "outputs": [],
   "source": [
    "plt.scatter(resp_df['distance'], resp_df['angle'], c=resp_df['response'],cmap='RdBu', norm=sfp.plotting.MidpointNormalize(midpoint=0)) \n",
    "plt.colorbar()\n",
    "scatter_ax = plt.gca()"
   ]
  },
  {
   "cell_type": "code",
   "execution_count": null,
   "metadata": {},
   "outputs": [],
   "source": [
    "x= resp_df['distance'].values\n",
    "y= resp_df['angle'].values\n",
    "popt, pcov = opt.curve_fit(fit_twoD_Gaussian, (x, y), resp_df['response'].values, p0=(20, 0, 0, 1, 0, 0, 1))"
   ]
  },
  {
   "cell_type": "code",
   "execution_count": null,
   "metadata": {},
   "outputs": [],
   "source": [
    "popt"
   ]
  },
  {
   "cell_type": "code",
   "execution_count": null,
   "metadata": {},
   "outputs": [],
   "source": [
    "x = np.linspace(-2, 12, 1000)\n",
    "y = np.linspace(-2*np.pi, 2*np.pi, 1000)\n",
    "plt.scatter(resp_df['distance'], resp_df['angle'], c=resp_df['response'],cmap='RdBu', norm=sfp.plotting.MidpointNormalize(midpoint=0)) \n",
    "plt.colorbar()\n",
    "plt.contour(x, y, twoD_Gaussian((x, y), *popt), aspect='equal', cmap='Blues', vmin=0, vmax=twod_resp[:,2].max(), levels=[0, 2.5, 5, 7.5, 10, 12.5, 15, 17.5, 19])\n",
    "plt.colorbar()\n",
    "ax = plt.gca()\n",
    "ax.set_xlim(scatter_ax.get_xlim())\n",
    "ax.set_ylim(scatter_ax.get_ylim())\n",
    "plt.savefig('model.pdf')"
   ]
  }
 ],
 "metadata": {
  "kernelspec": {
   "display_name": "Python [default]",
   "language": "python",
   "name": "python2"
  },
  "language_info": {
   "codemirror_mode": {
    "name": "ipython",
    "version": 2
   },
   "file_extension": ".py",
   "mimetype": "text/x-python",
   "name": "python",
   "nbconvert_exporter": "python",
   "pygments_lexer": "ipython2",
   "version": "2.7.12"
  }
 },
 "nbformat": 4,
 "nbformat_minor": 2
}
