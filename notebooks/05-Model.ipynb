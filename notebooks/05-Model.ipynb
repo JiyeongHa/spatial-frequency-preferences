{
 "cells": [
  {
   "cell_type": "code",
   "execution_count": null,
   "metadata": {},
   "outputs": [],
   "source": [
    "import pandas as pd\n",
    "import nibabel as nib\n",
    "import numpy as np\n",
    "import seaborn as sns\n",
    "import matplotlib.pyplot as plt\n",
    "%matplotlib inline\n",
    "import sys\n",
    "sys.path.append('..')\n",
    "import sfp\n",
    "import pyPyrTools as ppt\n",
    "import math\n",
    "from scipy import stats\n",
    "from scipy import optimize as opt"
   ]
  },
  {
   "cell_type": "code",
   "execution_count": null,
   "metadata": {},
   "outputs": [],
   "source": [
    "def transform_angle(x):\n",
    "    \"\"\"transform angle\"\"\"\n",
    "    ang = x.angle\n",
    "    if x.hemi == 'rh':\n",
    "        ang = -ang\n",
    "    ang = np.mod(np.radians(ang - 90), 2*np.pi)\n",
    "    return ang"
   ]
  },
  {
   "cell_type": "code",
   "execution_count": null,
   "metadata": {},
   "outputs": [],
   "source": [
    "df = pd.read_csv(\"/home/billbrod/Data/spatial_frequency_preferences/derivatives/first_level_analysis/stim_class/posterior/sub-wlsubj045/ses-02/sub-wlsubj045_ses-02_task-sfp_v1-2-3_e1-12_no_bin_summary.csv\")\n",
    "df['transformed_angle'] = df.apply(transform_angle, 1)"
   ]
  },
  {
   "cell_type": "code",
   "execution_count": null,
   "metadata": {},
   "outputs": [],
   "source": [
    "df[(df.varea==1)&(df.R2>55)].drop_duplicates('voxel').sort_values('R2', ascending=False).head(5)[['voxel', 'R2', 'varea', 'hemi', 'angle' ,'eccen', 'transformed_angle']]"
   ]
  },
  {
   "cell_type": "code",
   "execution_count": null,
   "metadata": {},
   "outputs": [],
   "source": [
    "# Pick a V1 voxel with a good R2\n",
    "voxel_df = df[(df.voxel==9643)]\n",
    "voxel_df.head(1)[['voxel', 'varea', 'R2', 'eccen', 'transformed_angle', 'hemi']]"
   ]
  },
  {
   "cell_type": "code",
   "execution_count": null,
   "metadata": {},
   "outputs": [],
   "source": [
    "voxel_eccen = voxel_df.eccen.unique()[0]\n",
    "voxel_angle = voxel_df['transformed_angle'].unique()[0]\n",
    "resp_df = []\n",
    "for i, row in voxel_df.iterrows():\n",
    "    dx, dy, mag, _ = sfp.stimuli.sf_cpd(1080, 24, voxel_eccen, voxel_angle, w_r=row.w_r, w_a=row.w_a)\n",
    "    dr, da = sfp.stimuli.sf_origin_polar_cpd(1080, 24, voxel_eccen, voxel_angle, w_r=row.w_r, w_a=row.w_a)\n",
    "    resp_df.append(pd.DataFrame({'w_x':dx, 'w_y':dy, 'response':row.amplitude_estimate_median, 'stim_class':row.stimulus_superclass, 'local_wr':dr, 'local_wa':da,\n",
    "                                 'global_wr':row.w_r, 'global_wa':row.w_a, 'eccen': voxel_eccen, 'angle': voxel_angle, 'mag': mag}, [i]))\n",
    "resp_df = pd.concat(resp_df)\n",
    "\n",
    "resp_df['xy_distance'] = np.sqrt(resp_df.w_x**2 + resp_df.w_y**2)\n",
    "resp_df['xy_angle'] = np.arctan2(resp_df.w_y, resp_df.w_x)\n",
    "resp_df['ra_distance'] = np.sqrt(resp_df.local_wr**2 + resp_df.local_wa**2)\n",
    "resp_df['ra_angle'] = np.arctan2(resp_df.local_wa, resp_df.local_wr)"
   ]
  },
  {
   "cell_type": "code",
   "execution_count": null,
   "metadata": {},
   "outputs": [],
   "source": [
    "resp_df.head()"
   ]
  },
  {
   "cell_type": "code",
   "execution_count": null,
   "metadata": {},
   "outputs": [],
   "source": [
    "sizes = resp_df['response'].values\n",
    "sizes = (sizes - sizes.min()) / (sizes.max() - sizes.min())\n",
    "g=sns.FacetGrid(resp_df, hue='stim_class', size=5, aspect=1)\n",
    "g.map(plt.scatter, 'local_wr', 'local_wa', s=sizes*80)\n",
    "g.add_legend()\n",
    "scatter_ax = plt.gca()\n",
    "scatter_ax.set_aspect('equal')"
   ]
  },
  {
   "cell_type": "code",
   "execution_count": null,
   "metadata": {},
   "outputs": [],
   "source": [
    "sizes = resp_df['response'].values\n",
    "sizes = (sizes - sizes.min()) / (sizes.max() - sizes.min())\n",
    "g=sns.FacetGrid(resp_df, hue='stim_class', size=5, aspect=1)\n",
    "g.map(plt.scatter, 'local_wr', 'local_wa', s=sizes*80)\n",
    "g.add_legend()\n",
    "scatter_ax = plt.gca()\n",
    "scatter_ax.set_xscale('symlog', basex=2, linthreshx=2**(-3))\n",
    "scatter_ax.set_yscale('symlog', basey=2, linthreshy=2**(-3))"
   ]
  },
  {
   "cell_type": "code",
   "execution_count": null,
   "metadata": {},
   "outputs": [],
   "source": [
    "def twoD_Gaussian((x, y), amplitude, mu_x, mu_y, sig_xx, sig_xy, sig_yx, sig_yy):\n",
    "    twod_gauss = stats.multivariate_normal(mean=(mu_x, mu_y), cov=[[sig_xx, sig_xy],[sig_yx, sig_yy]])\n",
    "    xgrid, ygrid = np.meshgrid(x, y)\n",
    "    X = np.empty(xgrid.shape + (2,))\n",
    "    X[:,:,0] = xgrid\n",
    "    X[:,:,1] = ygrid\n",
    "    gauss_resp = twod_gauss.pdf(X)\n",
    "    gauss_resp /= gauss_resp.max()\n",
    "    return amplitude * gauss_resp\n",
    "def fit_twoD_Gaussian(*args, **kwargs):\n",
    "    return np.diagonal(twoD_Gaussian(*args, **kwargs))\n",
    "\n",
    "def loggaussian_donut((x, y), amplitude, major_axis, minor_axis, major_axis_sigma, minor_axis_sigma, rotation_angle):\n",
    "\n",
    "    xgrid, ygrid = np.meshgrid(x, y)\n",
    "    x_rotated = xgrid*np.cos(rotation_angle) - ygrid*np.sin(rotation_angle) \n",
    "    y_rotated = xgrid*np.sin(rotation_angle) + ygrid*np.cos(rotation_angle)\n",
    "    r = np.log(np.sqrt(x_rotated**2 + y_rotated**2))\n",
    "    th = np.arctan2(y_rotated, x_rotated)\n",
    "\n",
    "    # transform angles based on ellipse axes\n",
    "    transformed_theta = np.arctan2(major_axis*np.sin(th), minor_axis*np.cos(th))\n",
    "\n",
    "    # Gaussian center as function of angle\n",
    "    ctr = np.sqrt((major_axis*np.cos(transformed_theta))**2 + (minor_axis*np.sin(transformed_theta))**2)\n",
    "\n",
    "    # rotational sigma\n",
    "    sigma = np.sqrt((major_axis_sigma*np.cos(transformed_theta))**2 + (minor_axis_sigma*np.sin(transformed_theta))**2)\n",
    "    \n",
    "    # This is our function\n",
    "    return amplitude*np.exp(-(r-ctr)**2 / (2*sigma**2))\n",
    "\n",
    "def fit_loggaussian_donut(*args, **kwargs):\n",
    "    return np.diagonal(loggaussian_donut(*args, **kwargs))\n",
    "\n",
    "x=np.linspace(-8, 8, 101)\n",
    "donut = loggaussian_donut((x,x), 2, 1.5, .5, .2, .2, np.pi/2.)\n",
    "plt.imshow(donut, extent=(x.min(), x.max(), x.min(), x.max()), cmap='gray')\n",
    "plt.colorbar()"
   ]
  },
  {
   "cell_type": "code",
   "execution_count": null,
   "metadata": {},
   "outputs": [],
   "source": [
    "x= resp_df['w_x']\n",
    "y= resp_df['w_y']\n",
    "# popt, pcov = opt.curve_fit(fit_twoD_Gaussian, (x, y), resp_df['response'], p0=(20, 0, 0, 1, 0, 0, 1))\n",
    "popt, pcov = opt.curve_fit(fit_loggaussian_donut, (x, y), resp_df['response'], p0=(20, 1, 1, .2, .2, 0), bounds=(0, [np.inf, np.inf, np.inf, np.inf, np.inf, np.pi]))\n",
    "x = np.linspace(-12, 6, 1000)\n",
    "y = np.linspace(-6, 12, 1000)\n",
    "donut = loggaussian_donut((x,y), *popt)\n",
    "plt.contourf(x,y,donut, aspect='equal', cmap=\"RdBu\", norm=sfp.plotting.MidpointNormalize(midpoint=0))\n",
    "ax = plt.gca()\n",
    "#ax.set_xlim(scatter_ax.get_xlim())\n",
    "#ax.set_ylim(scatter_ax.get_ylim())\n",
    "plt.colorbar()\n",
    "popt"
   ]
  },
  {
   "cell_type": "code",
   "execution_count": null,
   "metadata": {},
   "outputs": [],
   "source": [
    "x= resp_df['local_wr']\n",
    "y= resp_df['local_wa']\n",
    "# popt, pcov = opt.curve_fit(fit_twoD_Gaussian, (x, y), resp_df['response'], p0=(20, 0, 0, 1, 0, 0, 1))\n",
    "popt, pcov = opt.curve_fit(fit_loggaussian_donut, (x, y), resp_df['response'], p0=(20, 1, 1, .2, .2, 0), bounds=(0, [np.inf, np.inf, np.inf, np.inf, np.inf, np.pi]))\n",
    "x = np.linspace(-12, 6, 1000)\n",
    "y = np.linspace(-6, 12, 1000)\n",
    "donut = loggaussian_donut((x,y), *popt)\n",
    "plt.contourf(x,y,donut, aspect='equal', cmap=\"RdBu\", norm=sfp.plotting.MidpointNormalize(midpoint=0))\n",
    "ax = plt.gca()\n",
    "#ax.set_xlim(scatter_ax.get_xlim())\n",
    "#ax.set_ylim(scatter_ax.get_ylim())\n",
    "plt.colorbar()\n",
    "popt"
   ]
  },
  {
   "cell_type": "code",
   "execution_count": null,
   "metadata": {},
   "outputs": [],
   "source": [
    "plt.figure(figsize=(8,5))\n",
    "plt.scatter(resp_df['local_wr'], resp_df['local_wa'], c=resp_df['response'], s=sizes*80,cmap='Blues', vmin=0, vmax=resp_df['response'].max())\n",
    "plt.colorbar()\n",
    "plt.contour(x, y, loggaussian_donut((x, y), *popt), aspect='equal', cmap='Blues', vmin=0, vmax=resp_df['response'].max())# levels=[0, 2.5, 5, 7.5, 10, 12.5, 15, 17.5, 19.9, 20.5])\n",
    "plt.colorbar()\n",
    "ax = plt.gca()\n",
    "ax.set_xlim(scatter_ax.get_xlim())\n",
    "ax.set_ylim(scatter_ax.get_ylim())\n"
   ]
  },
  {
   "cell_type": "code",
   "execution_count": null,
   "metadata": {},
   "outputs": [],
   "source": [
    "g = sns.PairGrid(resp_df, x_vars=['w_x', 'w_y', 'xy_distance', 'xy_angle'], y_vars=['response'], hue='xy_angle')\n",
    "g.map(plt.scatter)\n",
    "g.add_legend()"
   ]
  },
  {
   "cell_type": "code",
   "execution_count": null,
   "metadata": {},
   "outputs": [],
   "source": [
    "g = sns.PairGrid(resp_df, x_vars=['local_wa', 'local_wr', 'ra_distance', 'ra_angle'], y_vars=['response'], hue='ra_angle')\n",
    "g.map(plt.scatter)\n",
    "g.add_legend()"
   ]
  }
 ],
 "metadata": {
  "kernelspec": {
   "display_name": "Python [default]",
   "language": "python",
   "name": "python2"
  },
  "language_info": {
   "codemirror_mode": {
    "name": "ipython",
    "version": 2
   },
   "file_extension": ".py",
   "mimetype": "text/x-python",
   "name": "python",
   "nbconvert_exporter": "python",
   "pygments_lexer": "ipython2",
   "version": "2.7.12"
  }
 },
 "nbformat": 4,
 "nbformat_minor": 2
}
