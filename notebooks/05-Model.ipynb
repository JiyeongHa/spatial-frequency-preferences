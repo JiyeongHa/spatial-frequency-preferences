{
 "cells": [
  {
   "cell_type": "code",
   "execution_count": null,
   "metadata": {},
   "outputs": [],
   "source": [
    "import pandas as pd\n",
    "import nibabel as nib\n",
    "import numpy as np\n",
    "import seaborn as sns\n",
    "import matplotlib.pyplot as plt\n",
    "%matplotlib inline\n",
    "import sys\n",
    "sys.path.append('..')\n",
    "import sfp\n",
    "import pyPyrTools as ppt\n",
    "import math\n",
    "from scipy import stats\n",
    "from scipy import optimize as opt\n",
    "import torch"
   ]
  },
  {
   "cell_type": "code",
   "execution_count": null,
   "metadata": {},
   "outputs": [],
   "source": [
    "sns.set_style('whitegrid')"
   ]
  },
  {
   "cell_type": "code",
   "execution_count": null,
   "metadata": {},
   "outputs": [],
   "source": [
    "df = pd.read_csv(\"/home/billbrod/Data/spatial_frequency_preferences/derivatives/first_level_analysis/stim_class/posterior/sub-wlsubj045/ses-02/sub-wlsubj045_ses-02_task-sfp_v1_e1-12_summary.csv\")"
   ]
  },
  {
   "cell_type": "code",
   "execution_count": null,
   "metadata": {},
   "outputs": [],
   "source": [
    "df[(df.varea==1)&(df.R2>55)].drop_duplicates('voxel').sort_values('R2', ascending=False).head(5)[['voxel', 'R2', 'varea', 'hemi', 'angle' ,'eccen',]]"
   ]
  },
  {
   "cell_type": "code",
   "execution_count": null,
   "metadata": {},
   "outputs": [],
   "source": [
    "# Pick a V1 voxel with a good R2\n",
    "voxel_df = df[(df.voxel==53)]\n",
    "voxel_df.head()"
   ]
  },
  {
   "cell_type": "code",
   "execution_count": null,
   "metadata": {},
   "outputs": [],
   "source": [
    "def scatter_sizes(x, y, s, plot_color=False, cmap=None, **kwargs):\n",
    "    if plot_color:\n",
    "        kwargs.pop('color')\n",
    "        if cmap is None:\n",
    "            cmap = 'Blues'\n",
    "        plt.scatter(x, y, s=s*80, c=s, cmap=cmap, **kwargs)\n",
    "    else:\n",
    "        plt.scatter(x, y, s=s*80, **kwargs)\n",
    "\n",
    "voxel_df['normalized_resp'] = voxel_df['amplitude_estimate_median'].copy()\n",
    "voxel_df['normalized_resp'] = (voxel_df['normalized_resp'] - voxel_df['normalized_resp'].min()) / (voxel_df['normalized_resp'].max() - voxel_df['normalized_resp'].min())\n",
    "g=sns.FacetGrid(voxel_df, size=5, aspect=1, hue='stimulus_superclass')\n",
    "g.map(scatter_sizes, 'local_w_x', 'local_w_y', 'normalized_resp', plot_color=False)\n",
    "g.add_legend()\n",
    "scatter_ax = plt.gca()\n",
    "scatter_ax.set_aspect('equal')"
   ]
  },
  {
   "cell_type": "code",
   "execution_count": null,
   "metadata": {},
   "outputs": [],
   "source": [
    "g=sns.FacetGrid(voxel_df, hue='stimulus_superclass', size=5, aspect=1)\n",
    "g.map(scatter_sizes, 'local_w_r', 'local_w_a', 'normalized_resp')\n",
    "g.add_legend()\n",
    "scatter_ax = plt.gca()\n",
    "scatter_ax.set_xscale('symlog', basex=2, linthreshx=2**(-3))\n",
    "scatter_ax.set_yscale('symlog', basey=2, linthreshy=2**(-3))"
   ]
  },
  {
   "cell_type": "code",
   "execution_count": null,
   "metadata": {},
   "outputs": [],
   "source": [
    "def loggaussian_donut((r, th), amplitude, major_axis, minor_axis, major_axis_sigma, minor_axis_sigma, rotation_angle):\n",
    "\n",
    "    r = np.log2(r)\n",
    "    th += rotation_angle\n",
    "\n",
    "    # transform angles based on ellipse axes\n",
    "    transformed_theta = np.arctan2(major_axis*np.sin(th), minor_axis*np.cos(th))\n",
    "\n",
    "    # Gaussian center as function of angle\n",
    "    ctr = np.sqrt((major_axis*np.cos(transformed_theta))**2 + (minor_axis*np.sin(transformed_theta))**2)\n",
    "\n",
    "    # rotational sigma\n",
    "    sigma = np.sqrt((major_axis_sigma*np.cos(transformed_theta))**2 + (minor_axis_sigma*np.sin(transformed_theta))**2)\n",
    "    \n",
    "    # This is our function\n",
    "    return amplitude*np.exp(-(r-ctr)**2 / (2*sigma**2))\n",
    "\n",
    "def torch_meshgrid(x, y=None):\n",
    "    \"\"\"from https://github.com/pytorch/pytorch/issues/7580\"\"\"\n",
    "    if y is None:\n",
    "        y = x\n",
    "    x = torch.tensor(x)\n",
    "    y = torch.tensor(y)\n",
    "    m, n = x.size(0), y.size(0)\n",
    "    grid_x = x[None].expand(n, m)\n",
    "    grid_y = y[:, None].expand(n, m)\n",
    "    return grid_x, grid_y\n",
    "\n",
    "class LogGaussianDonut(torch.nn.Module):\n",
    "    \"\"\"LogGaussianDonut in pytorch\n",
    "    \"\"\"\n",
    "    def __init__(self, amplitude, major_axis, minor_axis, major_axis_sigma, minor_axis_sigma, rotation_angle):\n",
    "        super(LogGaussianDonut, self).__init__()\n",
    "        self.amplitude = torch.nn.parameter.Parameter(torch.tensor(amplitude, dtype=torch.float))\n",
    "        self.major_axis = torch.nn.parameter.Parameter(torch.tensor(major_axis, dtype=torch.float))\n",
    "        self.minor_axis = torch.nn.parameter.Parameter(torch.tensor(minor_axis, dtype=torch.float))\n",
    "        self.major_axis_sigma = torch.nn.parameter.Parameter(torch.tensor(major_axis_sigma, dtype=torch.float))\n",
    "        self.minor_axis_sigma = torch.nn.parameter.Parameter(torch.tensor(minor_axis_sigma, dtype=torch.float))\n",
    "        self.rotation_angle = torch.nn.parameter.Parameter(torch.clamp(torch.tensor(rotation_angle, dtype=torch.float), 0, np.pi))\n",
    "    \n",
    "    def create_image(self, extent=None, n_samps=1001):\n",
    "        if extent is None:\n",
    "            extent = (-10, 10)\n",
    "        x = torch.linspace(extent[0], extent[1], n_samps)\n",
    "        x, y = torch_meshgrid(x)\n",
    "        r = torch.sqrt(torch.pow(x, 2) + torch.pow(y, 2))\n",
    "        th = torch.atan2(y, x)\n",
    "        return self.evaluate(r, th)\n",
    "\n",
    "    def evaluate(self, r, theta):\n",
    "        if not torch.is_tensor(r):\n",
    "            r = torch.tensor(r, dtype=torch.float)\n",
    "        if not torch.is_tensor(theta):\n",
    "            theta = torch.tensor(theta, dtype=torch.float)\n",
    "        r = torch.log2(r)\n",
    "        theta += self.rotation_angle\n",
    "        # transform angles based on ellipse axes\n",
    "        theta = torch.atan2(self.major_axis*torch.sin(theta), self.minor_axis*torch.cos(theta))\n",
    "        # Gaussian center as function of angle\n",
    "        self.ctr = torch.sqrt(torch.pow(self.major_axis*torch.cos(theta), 2) + torch.pow(self.minor_axis*torch.sin(theta), 2))\n",
    "        # rotational sigma\n",
    "        self.sigma = torch.sqrt(torch.pow(self.major_axis_sigma*torch.cos(theta), 2) + torch.pow(self.minor_axis_sigma*torch.sin(theta),2))\n",
    "        # This is our function\n",
    "        return self.amplitude*torch.exp(-(r-torch.log2(self.ctr))**2 / (2*self.sigma**2))\n",
    "\n",
    "    def forward(self, x):\n",
    "        \"\"\"\n",
    "        In the forward function we accept a Tensor of input data and we must return\n",
    "        a Tensor of output data. We can use Modules defined in the constructor as\n",
    "        well as arbitrary operators on Tensors.\n",
    "        \"\"\"\n",
    "        r, th = x\n",
    "        self.rotation_angle = torch.nn.parameter.Parameter(torch.clamp(self.rotation_angle, 0, np.pi))\n",
    "        return self.evaluate(r, th)"
   ]
  },
  {
   "cell_type": "code",
   "execution_count": null,
   "metadata": {},
   "outputs": [],
   "source": [
    "donut = LogGaussianDonut(20, 3, 1, .2, .5, 0)\n",
    "x = np.linspace(-5, 5, 1001)\n",
    "xgrid, ygrid = np.meshgrid(x, x)\n",
    "# detach() is required to separate it from the graph implied by setting `requires_grad=True` above\n",
    "plt.imshow(donut.create_image((x.min(), x.max())).detach(), extent=(x.min(),x.max(), x.min(), x.max()), cmap='Reds')\n",
    "plt.colorbar()"
   ]
  },
  {
   "cell_type": "code",
   "execution_count": null,
   "metadata": {},
   "outputs": [],
   "source": [
    "img = donut.create_image((x.min(), x.max()), len(x)).detach().numpy()\n",
    "fig, axes = plt.subplots(2,2,figsize=(10, 5))\n",
    "axes=axes.flatten()\n",
    "R = ppt.mkR(len(x))\n",
    "R *= (np.sqrt(2*x.max()**2)/R.max())\n",
    "R[xgrid<0] *= -1\n",
    "for ax, a in zip(axes.flatten(), [0, 1, 2, 3]):\n",
    "    idx = np.where(xgrid==a*ygrid)\n",
    "    r = R[idx]\n",
    "    ax.plot(r, img[idx])\n",
    "    ax.set(xlim=(-8, 8))"
   ]
  },
  {
   "cell_type": "code",
   "execution_count": null,
   "metadata": {},
   "outputs": [],
   "source": [
    "g=sns.FacetGrid(voxel_df, size=5, aspect=1)\n",
    "g.map(scatter_sizes, 'local_w_x', 'local_w_y', 'normalized_resp')\n",
    "scatter_ax = plt.gca()\n",
    "scatter_ax.set_aspect('equal')\n",
    "\n",
    "donut = LogGaussianDonut(voxel_df.amplitude_estimate_median.max(), 1, 1, .2, .2, 0)\n",
    "x = np.linspace(-3, 3, 101)\n",
    "# detach() is required to separate it from the graph implied by setting `requires_grad=True` above\n",
    "c = scatter_ax.contour(x, x, donut.create_image((x.min(), x.max()), len(x)).detach(), cmap=\"Reds\")\n",
    "g.fig.colorbar(c, shrink=.5)\n",
    "scatter_ax.set(xlim=(-4.5, 4.5), ylim=(-.5,5))\n",
    "scatter_ax.set_aspect('equal')\n",
    "\n",
    "x1 = torch.tensor(voxel_df.local_sf_magnitude.values, dtype=torch.float)\n",
    "x2 = torch.tensor(voxel_df.local_sf_direction.values, dtype=torch.float)\n",
    "y = torch.tensor(voxel_df.amplitude_estimate_median.values, dtype=torch.float)\n",
    "\n",
    "loss_fn = torch.nn.MSELoss(False)\n",
    "optimizer = torch.optim.Adam(donut.parameters(), lr=1e-3)"
   ]
  },
  {
   "cell_type": "code",
   "execution_count": null,
   "metadata": {},
   "outputs": [],
   "source": [
    "list(donut.named_parameters())"
   ]
  },
  {
   "cell_type": "code",
   "execution_count": null,
   "metadata": {},
   "outputs": [],
   "source": [
    "loss_prev = 0.01\n",
    "n_steps = 2000\n",
    "thresh = .00001\n",
    "for t in range(n_steps):\n",
    "    y_pred = donut((x1,x2))\n",
    "    loss = loss_fn(y_pred, y)\n",
    "    if t % 100 == 0:\n",
    "        print(t, loss.item())\n",
    "    optimizer.zero_grad()\n",
    "    loss.backward()\n",
    "    optimizer.step()\n",
    "    if abs((loss - loss_prev) / loss_prev) < thresh:\n",
    "        break\n",
    "    loss_prev = loss\n",
    "print(\"Final loss: %02f\" % loss)"
   ]
  },
  {
   "cell_type": "code",
   "execution_count": null,
   "metadata": {},
   "outputs": [],
   "source": [
    "list(donut.named_parameters())"
   ]
  },
  {
   "cell_type": "code",
   "execution_count": null,
   "metadata": {},
   "outputs": [],
   "source": [
    "fig, axes = plt.subplots(1, 3, figsize=(20,5))\n",
    "vals = [y.detach().numpy(), y_pred.detach().numpy(), y.detach().numpy() - y_pred.detach().numpy()]\n",
    "titles = ['ground truth', 'predicted', 'ground truth - predicted']\n",
    "for ax, v, t in zip(axes.flatten(), vals, titles):\n",
    "    scaled_v = (v - abs(v).min()) / (abs(v).max() - abs(v).min())\n",
    "    pts=ax.scatter(voxel_df['local_w_x'], voxel_df['local_w_y'], s=abs(scaled_v)*50, c=v, cmap='RdBu_r', norm=sfp.plotting.MidpointNormalize(midpoint=0))\n",
    "    ax.set_aspect('equal')\n",
    "    plt.colorbar(pts, ax=ax, shrink=.6)\n",
    "    ax.set(xlim=(-4.5, 4.5), ylim=(-.5, 5))\n",
    "    ax.set_title(t)"
   ]
  },
  {
   "cell_type": "code",
   "execution_count": null,
   "metadata": {},
   "outputs": [],
   "source": [
    "x = np.linspace(-8, 8, 1001)\n",
    "# detach() is required to separate it from the graph implied by setting `requires_grad=True` above\n",
    "plt.imshow(donut.create_image((x.min(), x.max())).detach(), extent=(x.min(),x.max(), x.min(), x.max()),cmap='RdBu_r', norm=sfp.plotting.MidpointNormalize(midpoint=0))\n",
    "ax = plt.gca()\n",
    "ax.set(xlim=(-4.5, 4.5), ylim=(-.5, 5))\n",
    "plt.colorbar(shrink=.7)"
   ]
  }
 ],
 "metadata": {
  "kernelspec": {
   "display_name": "Python [default]",
   "language": "python",
   "name": "python2"
  },
  "language_info": {
   "codemirror_mode": {
    "name": "ipython",
    "version": 2
   },
   "file_extension": ".py",
   "mimetype": "text/x-python",
   "name": "python",
   "nbconvert_exporter": "python",
   "pygments_lexer": "ipython2",
   "version": "2.7.12"
  }
 },
 "nbformat": 4,
 "nbformat_minor": 2
}
