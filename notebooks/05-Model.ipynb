{
 "cells": [
  {
   "cell_type": "code",
   "execution_count": null,
   "metadata": {},
   "outputs": [],
   "source": [
    "import pandas as pd\n",
    "import nibabel as nib\n",
    "import numpy as np\n",
    "import seaborn as sns\n",
    "import matplotlib.pyplot as plt\n",
    "%matplotlib inline\n",
    "import sys\n",
    "sys.path.append('..')\n",
    "import sfp\n",
    "import pyPyrTools as ppt\n",
    "import math\n",
    "from scipy import stats\n",
    "from scipy import optimize as opt"
   ]
  },
  {
   "cell_type": "code",
   "execution_count": null,
   "metadata": {},
   "outputs": [],
   "source": [
    "df = pd.read_csv(\"/home/billbrod/Data/spatial_frequency_preferences/derivatives/first_level_analysis/stim_class/posterior/sub-wlsubj045/ses-02/sub-wlsubj045_ses-02_task-sfp_v1-2-3_e1-12_no_bin_summary.csv\")"
   ]
  },
  {
   "cell_type": "code",
   "execution_count": null,
   "metadata": {},
   "outputs": [],
   "source": [
    "# Pick a V1 voxel with a good R2\n",
    "voxel_df = df[(df.voxel==8014)]"
   ]
  },
  {
   "cell_type": "code",
   "execution_count": null,
   "metadata": {},
   "outputs": [],
   "source": [
    "voxel_eccen = voxel_df.eccen.unique()[0]\n",
    "voxel_angle = math.radians(voxel_df.angle.unique()[0])\n",
    "angle = ppt.mkAngle(1080)\n",
    "R = ppt.mkR(1080) * (24 / 1080.)\n",
    "angle_dist = abs(angle - voxel_angle)\n",
    "angle_dist /= angle_dist.max()\n",
    "eccen_dist = abs(R - voxel_eccen)\n",
    "eccen_dist /= eccen_dist.max()\n",
    "flattened_idx = (angle_dist+eccen_dist).argmin()\n",
    "twod_resp = []\n",
    "for i, row in voxel_df.iterrows():\n",
    "    dx, dy, _, _ = sfp.stimuli.create_sf_maps_cpp(1080, w_r=row.w_r, w_a=row.w_a)\n",
    "    dx /= (24 / 1080.)\n",
    "    dy /= (24 / 1080.)\n",
    "    twod_resp.append((dx.flatten()[flattened_idx], dy.flatten()[flattened_idx], row.amplitude_estimate_median))\n",
    "twod_resp = np.array(twod_resp)"
   ]
  },
  {
   "cell_type": "code",
   "execution_count": null,
   "metadata": {},
   "outputs": [],
   "source": [
    "plt.scatter(twod_resp[:,0], twod_resp[:,1], c=twod_resp[:,2],cmap='RdBu', norm=sfp.plotting.MidpointNormalize(midpoint=0)) \n",
    "plt.colorbar()"
   ]
  },
  {
   "cell_type": "code",
   "execution_count": null,
   "metadata": {},
   "outputs": [],
   "source": [
    "def twoD_Gaussian((x, y), amplitude, mu_x, mu_y, sig_xx, sig_xy, sig_yx, sig_yy):\n",
    "    twod_gauss = stats.multivariate_normal(mean=(mu_x, mu_y), cov=[[sig_xx, sig_xy],[sig_yx, sig_yy]])\n",
    "    xgrid, ygrid = np.meshgrid(x, y)\n",
    "    X = np.empty(xgrid.shape + (2,))\n",
    "    X[:,:,0] = xgrid\n",
    "    X[:,:,1] = ygrid\n",
    "    gauss_resp = twod_gauss.pdf(X)\n",
    "    gauss_resp /= gauss_resp.max()\n",
    "    return amplitude * gauss_resp\n",
    "def fit_twoD_Gaussian(*args, **kwargs):\n",
    "    return np.diagonal(twoD_Gaussian(*args, **kwargs))"
   ]
  },
  {
   "cell_type": "code",
   "execution_count": null,
   "metadata": {},
   "outputs": [],
   "source": [
    "x= twod_resp[:,0]\n",
    "y=twod_resp[:,1]\n",
    "popt, pcov = opt.curve_fit(fit_twoD_Gaussian, (x, y), twod_resp[:,2], p0=(20, 0, 0, 1, 0, 0, 1))"
   ]
  },
  {
   "cell_type": "code",
   "execution_count": null,
   "metadata": {},
   "outputs": [],
   "source": [
    "popt"
   ]
  },
  {
   "cell_type": "code",
   "execution_count": null,
   "metadata": {},
   "outputs": [],
   "source": [
    "x = np.linspace(-12, 6, 1000)\n",
    "y = np.linspace(-6, 12, 1000)\n",
    "plt.scatter(twod_resp[:,0], twod_resp[:,1], c=twod_resp[:,2],cmap='Blues', vmin=0, vmax=24)\n",
    "plt.colorbar()\n",
    "plt.contour(x, y, twoD_Gaussian((x, y), *popt), aspect='equal', cmap='Blues', vmin=0, vmax=24, levels=[0, 2.5, 5, 7.5, 10, 12.5, 15, 17.5, 19.9])\n",
    "plt.colorbar()\n",
    "plt.savefig('model.pdf')"
   ]
  }
 ],
 "metadata": {
  "kernelspec": {
   "display_name": "Python [default]",
   "language": "python",
   "name": "python2"
  },
  "language_info": {
   "codemirror_mode": {
    "name": "ipython",
    "version": 2
   },
   "file_extension": ".py",
   "mimetype": "text/x-python",
   "name": "python",
   "nbconvert_exporter": "python",
   "pygments_lexer": "ipython2",
   "version": "2.7.12"
  }
 },
 "nbformat": 4,
 "nbformat_minor": 2
}
